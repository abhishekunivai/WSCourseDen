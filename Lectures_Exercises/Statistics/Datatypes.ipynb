{
  "nbformat": 4,
  "nbformat_minor": 0,
  "metadata": {
    "colab": {
      "name": "Stats1_datatypes.ipynb",
      "provenance": [],
      "toc_visible": true
    },
    "kernelspec": {
      "name": "python3",
      "display_name": "Python 3"
    },
    "language_info": {
      "name": "python"
    }
  },
  "cells": [
    {
      "cell_type": "markdown",
      "source": [
        "# Data Types\n",
        "\n",
        "The choice of appropriate statistical procedure depends on the data type. Data can be categorical or numerical. If the variables are numerical, we are led to a certain statistical strategy. In contrast, if the variables represent qualitative categorizations,then we follow a different path.\n",
        "\n"
      ],
      "metadata": {
        "id": "H1iNXPEFdCwE"
      }
    },
    {
      "cell_type": "markdown",
      "source": [
        "## **1.1. Categorical DATA**\n",
        "\n",
        "**a) Boolean**\n",
        "\n",
        "Boolean data are data which can only have two possible values. For example,\n",
        "\n",
        "• female/male\n",
        "\n",
        "• smoker/nonsmoker\n",
        "\n",
        "• True/False\n",
        "\n",
        "**b) Nominal**\n",
        " \n",
        "Many classifications require more than two categories. Such data are called nominal data. An example is married/single/divorced.\n",
        "\n",
        "**c) Ordinal**\n",
        "\n",
        "In contrast to nominal data, ordinal data are ordered and have a logical sequence, e.g., very few/few/some/many/very many."
      ],
      "metadata": {
        "id": "j695ht69dNCo"
      }
    },
    {
      "cell_type": "markdown",
      "source": [
        "## **1.2. Numerical DATA**\n",
        "a) Numerical Continuous\n",
        "\n",
        "Whenever possible, it is best to record the data in their original continuous format,and only with a meaningful number of decimal places. For example, it does not make sense to record the body size with more than 1 mm accuracy, as there are larger changes in body height between the size in the morning and the size in the evening, due to compression of the intervertebral disks.\n",
        "\n",
        "b) Numerical Discrete\n",
        "\n",
        "Some numerical data can only take on integer values. These data are called numerical discrete. For example Number of children: 0 1 2 3 4 5 . . ."
      ],
      "metadata": {
        "id": "KodqKDdhdQoE"
      }
    },
    {
      "cell_type": "markdown",
      "source": [
        "## **2. Plotting in Python**\n",
        "\n",
        "Visualization is most important for numerical data but the Python core does not include any tools to generate plots. This functionality is added by other packages.\n",
        "\n",
        "By far the most common package for plotting is\n",
        "***matplotlib***."
      ],
      "metadata": {
        "id": "a904AF-Hdjl3"
      }
    },
    {
      "cell_type": "markdown",
      "source": [
        "## **2.1. Matplotlib**\n",
        "\n",
        "Matplotlib is a comprehensive library for creating static, animated, and interactive visualizations in Python. Matplotlib is intended to mimic the style of Matlab. As such, users can either generate plots in the Matlab style, or in the traditional Python style ."
      ],
      "metadata": {
        "id": "CWfL9XMydnnX"
      }
    },
    {
      "cell_type": "markdown",
      "source": [
        "### **Installation**\n",
        "Matplotlib releases are available as wheel packages for macOS, Windows and Linux on PyPI. Install it using pip:"
      ],
      "metadata": {
        "id": "f1vvqposdni8"
      }
    },
    {
      "cell_type": "code",
      "source": [
        "#Install using pip:\n",
        "!pip install matplotlib"
      ],
      "metadata": {
        "id": "5Wc3I_scd8UH"
      },
      "execution_count": null,
      "outputs": []
    },
    {
      "cell_type": "code",
      "source": [
        "#Install using conda:\n",
        "!conda install matplotlib"
      ],
      "metadata": {
        "id": "0SsVSJOpd89y"
      },
      "execution_count": null,
      "outputs": []
    },
    {
      "cell_type": "markdown",
      "source": [
        "### **Modules and Features**"
      ],
      "metadata": {
        "id": "PY8U1f_sdnfa"
      }
    },
    {
      "cell_type": "markdown",
      "source": [
        "**matplotlib.pyplot:**\n",
        "\n",
        "This is the module that is commonly used to generate plots. pyplot handles lots of little details, such as creating figures and axes for the plot, so that the user can concentrate on the data analysis. It provides the interface to the plotting library in matplotlib, and is by convention imported in Python functions and modules with"
      ],
      "metadata": {
        "id": "BOD46COcdnZl"
      }
    },
    {
      "cell_type": "code",
      "source": [
        "import matplotlib.pyplot as plt"
      ],
      "metadata": {
        "id": "dnMCdqmHeG2S"
      },
      "execution_count": null,
      "outputs": []
    },
    {
      "cell_type": "markdown",
      "source": [
        "**matplotlib.mlab:**\n",
        "\n",
        "Contains a number of functions that are commonly used in\n",
        "Matlab, such as find, griddata, etc. *“backends”* matplotlib can produce output in many different formats, which are referred to as backends:"
      ],
      "metadata": {
        "id": "E6hnACqYeLQk"
      }
    },
    {
      "cell_type": "code",
      "source": [
        "%matplotlib inline\n",
        "#It directs output into the current browser window"
      ],
      "metadata": {
        "id": "Cp9kYx5oeGvy"
      },
      "execution_count": null,
      "outputs": []
    },
    {
      "cell_type": "code",
      "source": [
        "%pylab inline\n",
        "#It is a combination of loading pylab, and directing plot-output inline."
      ],
      "metadata": {
        "id": "GZYtrR8JeOYm"
      },
      "execution_count": null,
      "outputs": []
    },
    {
      "cell_type": "code",
      "source": [
        "%matplotlib qt41\n",
        "\n",
        "#directs the output into a separate graphics window."
      ],
      "metadata": {
        "id": "VnI3aF17eU3s"
      },
      "execution_count": null,
      "outputs": []
    },
    {
      "cell_type": "markdown",
      "source": [
        "###**2.2.Functional and Object-Oriented Approaches to Plotting**\n",
        "\n",
        "Python plots can be generated in a Matlab-like style, or in an object oriented, more\n",
        "pythonic way. These styles are all perfectly valid, and each have their pros and cons.\n",
        "The only caveat is to avoid mixing the coding styles in your own code.\n",
        "\n",
        "Let us first consider the frequently used pyplot style:"
      ],
      "metadata": {
        "id": "vU_VkrojeaxR"
      }
    },
    {
      "cell_type": "code",
      "source": [
        "# Import the required packages,\n",
        "# with their conventional names\n",
        "import matplotlib.pyplot as plt\n",
        "import numpy as np\n",
        "# Generate the data\n",
        "x = np.arange(0, 10, 0.2)\n",
        "y = np.sin(x)\n",
        "# Generate the plot\n",
        "plt.plot(x, y)\n",
        "# Display it on the screen\n",
        "plt.show()"
      ],
      "metadata": {
        "id": "LFZvxeD5ehDX"
      },
      "execution_count": null,
      "outputs": []
    },
    {
      "cell_type": "code",
      "source": [
        "# Generate the plot\n",
        "fig = plt.figure() # Generate the figure\n",
        "ax = fig.add_subplot(111) # Add an axis to that figure\n",
        "ax.plot(x,y) # Add a plot to that axis"
      ],
      "metadata": {
        "id": "_d8W-_8begyd"
      },
      "execution_count": null,
      "outputs": []
    },
    {
      "cell_type": "code",
      "source": [
        "# Import the required packages\n",
        "import matplotlib.pyplot as plt\n",
        "import numpy as np\n",
        "# Generate the data\n",
        "x = np.arange(0, 10, 0.2)\n",
        "y = np.sin(x)\n",
        "z = np.cos(x)\n",
        "# Generate the figure and the axes\n",
        "fig, axs = plt.subplots(nrows=2, ncols=1)\n",
        "# On the first axis, plot the sine and label the ordinate\n",
        "axs[0].plot(x,y)\n",
        "axs[0].set_ylabel('Sine')\n",
        "# On the second axis, plot the cosine\n",
        "axs[1].plot(x,z)\n",
        "axs[1].set_ylabel('Cosine')\n",
        "# Display the resulting plot\n",
        "plt.show()"
      ],
      "metadata": {
        "id": "kqm2EMbXellM"
      },
      "execution_count": null,
      "outputs": []
    },
    {
      "cell_type": "markdown",
      "source": [
        "## **3.Displaying Statistical Datasets**\n",
        "For statistical data analysis, the Python package seabornbuilds on matplotlib, and aims to provide a concise, high-level interface for drawing statistical graphics that are both informative\n",
        "and attractive. Also pandas builds on matplotlib and offers many convenient ways\n",
        "to visualize DataFrames.Other interesting plotting packages are:\n",
        "\n",
        "• **plot.ly** is a package that is available for Python, Matlab, and R, and makes\n",
        "beautiful graphs (https://plot.ly).\n",
        "\n",
        "• **bokeh** is a Python interactive visualization library that targets modern web\n",
        "browsers for presentation. bokeh can help anyone who would like to quickly and\n",
        "easily create interactive plots, dashboards, and data applications (http://bokeh.\n",
        "pydata.org/).\n",
        "\n",
        "• **ggplot** for Python. It emulates the R-package ggplot, which is loved by many\n",
        "R-users (http://ggplot.yhathq.com/)."
      ],
      "metadata": {
        "id": "GvXCbglbeqGB"
      }
    },
    {
      "cell_type": "code",
      "source": [
        "plt.style.use(\"ggplot\")  #using style ggplot"
      ],
      "metadata": {
        "id": "qYHevQxGepA_"
      },
      "execution_count": null,
      "outputs": []
    },
    {
      "cell_type": "markdown",
      "source": [
        "## 3.1. Histogram"
      ],
      "metadata": {
        "id": "n5j9B534e3My"
      }
    },
    {
      "cell_type": "code",
      "source": [
        "plt.hist(x, bins=25)"
      ],
      "metadata": {
        "id": "xlHG30zFfNJM"
      },
      "execution_count": null,
      "outputs": []
    },
    {
      "cell_type": "markdown",
      "source": [
        "## 3.2.Kernel-Density-Estimation (KDE) Plots\n",
        "\n",
        "Histograms have the disadvantage that they are discontinuous, and that their shape\n",
        "critically depends on the chosen bin-width. In order to obtain smooth probability\n",
        "densities, i.e., curves describing the likelihood of finding an event in any given\n",
        "interval, the technique of Kernel Density Estimation (KDE) can be used. \n",
        "\n",
        "To see how this works, we compare\n",
        "the construction of histogram and kernel density estimators, using the following six\n",
        "data points:\n",
        "x = [-2.1, -1.3, -0.4, 1.9, 5.1, 6.2]."
      ],
      "metadata": {
        "id": "21EQOef1fAcd"
      }
    },
    {
      "cell_type": "code",
      "source": [
        "import seaborn as sns\n",
        "sns.kdeplot(x)"
      ],
      "metadata": {
        "id": "FornMxFqfMjJ"
      },
      "execution_count": null,
      "outputs": []
    },
    {
      "cell_type": "markdown",
      "source": [
        "## 3.3.Error-Bars\n",
        "\n",
        "Error-bars are a common way to show mean value and variability when comparing\n",
        "measurement values. Note that it always has to be stated explicitly if the error-bars\n",
        "correspond to the standard deviation or to the standard error of the data"
      ],
      "metadata": {
        "id": "edjwyaOifV8-"
      }
    },
    {
      "cell_type": "code",
      "source": [
        "index = np.arange(5)\n",
        "y = index**2\n",
        "errorBar = index/2 # just for demonstration\n",
        "plt.errorbar(index,y, yerr=errorBar, fmt='o',\n",
        "capsize=5, capthick=3)"
      ],
      "metadata": {
        "id": "q39ITwYlfSTa"
      },
      "execution_count": null,
      "outputs": []
    },
    {
      "cell_type": "markdown",
      "source": [
        "## 3.4.Box Plots"
      ],
      "metadata": {
        "id": "l6sNg8tdfhzD"
      }
    },
    {
      "cell_type": "code",
      "source": [
        "df = pd.DataFrame(np.random.rand(10, 4),\n",
        "columns=['a', 'b', 'c', 'd'])\n",
        "df.plot(kind='box', grid=False)"
      ],
      "metadata": {
        "id": "mMLbWYXIfhSg"
      },
      "execution_count": null,
      "outputs": []
    },
    {
      "cell_type": "markdown",
      "source": [
        "## 3.5. Pie Charts"
      ],
      "metadata": {
        "id": "iH4o-S-efsdK"
      }
    },
    {
      "cell_type": "code",
      "source": [
        "import seaborn as sns\n",
        "import matplotlib.pyplot as plt\n",
        "txtLabels = 'MG', 'Honda', 'Suzuki', 'Others'\n",
        "fractions = [45, 30, 15, 10]\n",
        "offsets =(0, 0.05, 0, 0)\n",
        "plt.pie(fractions, explode=offsets, labels=txtLabels,\n",
        "autopct='%1.1f%%', shadow=True, startangle=90,\n",
        "colors=sns.color_palette('muted') )\n",
        "plt.axis('equal')"
      ],
      "metadata": {
        "id": "8LUC1kUwfr2X",
        "colab": {
          "base_uri": "https://localhost:8080/",
          "height": 316
        },
        "outputId": "43183317-1b68-4d7a-e554-fc7f1325775e"
      },
      "execution_count": null,
      "outputs": [
        {
          "output_type": "execute_result",
          "data": {
            "text/plain": [
              "(-1.1276423510427096,\n",
              " 1.1321050521541118,\n",
              " -1.1554662242543934,\n",
              " 1.1026412539202821)"
            ]
          },
          "metadata": {},
          "execution_count": 1
        },
        {
          "output_type": "display_data",
          "data": {
            "text/plain": [
              "<Figure size 432x288 with 1 Axes>"
            ],
            "image/png": "[encoded data removed]"
          },
          "metadata": {}
        }
      ]
    },
    {
      "cell_type": "markdown",
      "source": [
        "# **4.Bivariate and Multivariate Plots**"
      ],
      "metadata": {
        "id": "vnpK1lyxf1Vf"
      }
    },
    {
      "cell_type": "markdown",
      "source": [
        "## Bivariate Scatter Plots"
      ],
      "metadata": {
        "id": "AvRj6DRtgC2G"
      }
    },
    {
      "cell_type": "code",
      "source": [
        "import pandas as pd\n",
        "\n",
        "df2 = pd.DataFrame(np.random.rand(50, 4),\n",
        "columns=['a', 'b', 'c', 'd'])\n",
        "df2.plot(kind='scatter', x='a', y='b', s=df2['c']*300);"
      ],
      "metadata": {
        "id": "G2lUuAEff60C"
      },
      "execution_count": null,
      "outputs": []
    },
    {
      "cell_type": "markdown",
      "source": [
        "## 3D Plots\n",
        "\n",
        "3D plots in matplotlib are a bit awkward, because separate modules have to be\n",
        "imported, and axes for 3D plots have to be explicitly declared. However, once the\n",
        "axis is correctly defined, the rest is straightforward. Here are two examples:"
      ],
      "metadata": {
        "id": "Rgv0E2BygEeg"
      }
    },
    {
      "cell_type": "code",
      "source": [
        "# imports specific to the plots in this example\n",
        "import numpy as np\n",
        "from matplotlib import cm\n",
        "from mpl_toolkits.mplot3d.axes3d import get_test_data\n",
        "# Twice as wide as it is tall.\n",
        "fig = plt.figure(figsize=plt.figaspect(0.5))\n",
        "#---- First subplot\n",
        "# Note that the declaration \"projection='3d'\"\n",
        "# is required for 3d plots!\n",
        "ax = fig.add_subplot(1, 2, 1, projection='3d')\n",
        "# Generate the grid\n",
        "X = np.arange(-5, 5, 0.1)\n",
        "Y = np.arange(-5, 5, 0.1)\n",
        "X, Y = np.meshgrid(X, Y)\n",
        "# Generate the surface data\n",
        "R = np.sqrt(X**2+Y**2)\n",
        "Z = np.sin(R)\n",
        "# Plot the surface\n",
        "surf = ax.plot_surface(X, Y, Z, rstride=1, cstride=1,\n",
        "cmap=cm.GnBu, linewidth=0, antialiased=False)\n",
        "ax.set_zlim3d(-1.01, 1.01)\n",
        "fig.colorbar(surf, shrink=0.5, aspect=10)\n",
        "#---- Second subplot\n",
        "ax = fig.add_subplot(1, 2, 2, projection='3d')\n",
        "X, Y, Z = get_test_data(0.05)\n",
        "ax.plot_wireframe(X, Y, Z, rstride=10, cstride=10)\n",
        "outfile = '3dGraph.png'\n",
        "plt.savefig(outfile, dpi=200)\n",
        "print('Image saved to {0}'.format(outfile))\n",
        "plt.show()"
      ],
      "metadata": {
        "id": "ShhUJkvegE4E"
      },
      "execution_count": null,
      "outputs": []
    },
    {
      "cell_type": "code",
      "source": [
        "from google.colab import drive\n",
        "drive.mount('/content/drive')\n",
        "#Reference Link https://drive.google.com/file/d/1plkbnSBUVq3IbcJR2kvf_EPGTzG0ZmIr/view?usp=sharing"
      ],
      "metadata": {
        "id": "NGjqoq8Egb81"
      },
      "execution_count": null,
      "outputs": []
    },
    {
      "cell_type": "markdown",
      "source": [
        "# EXCERCISE-1\n",
        "Ranking Companies based on their attributes.\n",
        "\n",
        "Their ranking based on 6 characteristics:\n",
        "\n",
        "Customer satisfaction\n",
        "\n",
        "Employee engagement\n",
        "\n",
        "Development\n",
        "\n",
        "Innovation\n",
        "\n",
        "Social responsibility\n",
        "\n",
        "Financial strength\n",
        "\n",
        "Effectiveness"
      ],
      "metadata": {
        "id": "P77aDKU9gfrn"
      }
    },
    {
      "cell_type": "code",
      "source": [
        "import numpy as np\n",
        "import pandas as pd\n",
        "import seaborn as sns"
      ],
      "metadata": {
        "id": "FM1YOXjrgcpY"
      },
      "execution_count": null,
      "outputs": []
    },
    {
      "cell_type": "code",
      "source": [
        "#Importing the dataset\n",
        "comp_df=pd.read_csv('/content/drive/MyDrive/Stastics-1/drucker_inst_company_rankings.csv',sep=\",\", encoding='cp1252')\n",
        "comp_df"
      ],
      "metadata": {
        "id": "Sn8edMvSgnJu"
      },
      "execution_count": null,
      "outputs": []
    },
    {
      "cell_type": "code",
      "source": [
        "# looking the shape DataSet\n",
        "comp_df.shape"
      ],
      "metadata": {
        "id": "8fws62nygnHJ"
      },
      "execution_count": null,
      "outputs": []
    },
    {
      "cell_type": "code",
      "source": [
        "#Checking the dtypes of all the columns\n",
        "\n",
        "comp_df.info()"
      ],
      "metadata": {
        "id": "f5Xtminngp4f"
      },
      "execution_count": null,
      "outputs": []
    },
    {
      "cell_type": "code",
      "source": [
        "# look  describe data set\n",
        "comp_df.describe().round(2)"
      ],
      "metadata": {
        "id": "niB_aPC5gr43"
      },
      "execution_count": null,
      "outputs": []
    },
    {
      "cell_type": "code",
      "source": [
        "## Best 5 company based on customer satisfaction\n",
        "top5_CS=comp_df.sort_values(by=\"customer_satisfaction\",ascending=False).head(5)\n",
        "top5_CS"
      ],
      "metadata": {
        "id": "Q-hZgjd9guD5"
      },
      "execution_count": null,
      "outputs": []
    },
    {
      "cell_type": "code",
      "source": [
        "# interactive graph \n",
        "import plotly.express as px\n",
        "px.sunburst(top5_CS,values=\"ranking\",path=[\"innovation\",\"social_responsibility\",\"financial_strength\",\"employee_engagement_and_development\"],color=\"company\")\n"
      ],
      "metadata": {
        "id": "ibYmhEgfgt8q"
      },
      "execution_count": null,
      "outputs": []
    },
    {
      "cell_type": "markdown",
      "source": [
        "## **Excercise1.Q**- \n",
        "\n",
        "Find the Top5 the companies on the basis of Employee engagement,Development,Innovation,Social responsibility,Financial strength,Effectiveness."
      ],
      "metadata": {
        "id": "bsC-FziBgjPv"
      }
    }
  ]
}