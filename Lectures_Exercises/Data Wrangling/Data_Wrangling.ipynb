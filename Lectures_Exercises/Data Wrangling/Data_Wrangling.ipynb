{
  "nbformat": 4,
  "nbformat_minor": 0,
  "metadata": {
    "colab": {
      "name": "Data Wrangling.ipynb",
      "provenance": [],
      "toc_visible": true
    },
    "kernelspec": {
      "name": "python3",
      "display_name": "Python 3"
    },
    "language_info": {
      "name": "python"
    }
  },
  "cells": [
    {
      "cell_type": "markdown",
      "source": [
        "#**Data Wrangling**"
      ],
      "metadata": {
        "id": "_u_eXNq0ogR_"
      }
    },
    {
      "cell_type": "markdown",
      "source": [
        "Data wrangling can be defined as the process of cleaning, organizing, and transforming raw data into the desired format for analysts to use for prompt decision-making. Also known as data cleaning or data munging, data wrangling enables businesses to tackle more complex data in less time, produce more accurate results, and make better decisions. \n",
        "\n",
        "Some examples of data wrangling include:\n",
        "\n",
        "1. Merging multiple data sources into a single dataset for analysis.\n",
        "2. Identifying gaps in data (for example, empty cells in a spreadsheet) and either filling or deleting them.\n",
        "3. Deleting data that’s either unnecessary or irrelevant to the project you’re working on.\n",
        "4. Identifying extreme outliers in data and either explaining the discrepancies or removing them so that analysis can take place.\n",
        "\n",
        "In this course we're going to understand how to perform *Data Wrangling* in python. But before we proceed further, let us revisit some basic of Python to brush up our coding skills."
      ],
      "metadata": {
        "id": "icIF_S3sqTO0"
      }
    },
    {
      "cell_type": "markdown",
      "source": [
        "##**1. Introduction to Basic Python**"
      ],
      "metadata": {
        "id": "oxvtxovDofkK"
      }
    },
    {
      "cell_type": "markdown",
      "source": [
        "###1.1 Basic Datatypes\n",
        "\n",
        "In this section, we will go over simple data types in Python. These are some of the\n",
        "essential building blocks for handling information in Python. The data types we will\n",
        "learn are strings, integers, floats, and other non–whole number types."
      ],
      "metadata": {
        "id": "AucYbnn2rVct"
      }
    },
    {
      "cell_type": "markdown",
      "source": [
        "####**1.1.1 Strings**"
      ],
      "metadata": {
        "id": "Q0FerU6ctxnJ"
      }
    },
    {
      "cell_type": "markdown",
      "source": [
        "A *string* is basically text and it is denoted by\n",
        "using quotes (Single or double). Strings can contain numbers, letters, and symbols. Essentially, in Python, strings are arrays of bytes representing Unicode characters.\n",
        "\n",
        "An example of a String is:\n",
        "\n",
        "*'cat'*\n",
        "\n",
        "*'This is a string.'*\n",
        "\n",
        "*'5'*\n",
        "\n",
        "*'walking'*\n",
        "\n",
        "*'$GOObarBaz340 '*"
      ],
      "metadata": {
        "id": "q8aNlgamt5FD"
      }
    },
    {
      "cell_type": "code",
      "source": [
        "'An example of a string'"
      ],
      "metadata": {
        "colab": {
          "base_uri": "https://localhost:8080/",
          "height": 35
        },
        "id": "NQIvL_a7ukgy",
        "outputId": "948f1e52-e16c-4de6-8e62-8e964f282320"
      },
      "execution_count": null,
      "outputs": [
        {
          "output_type": "execute_result",
          "data": {
            "text/plain": [
              "'An example of a string'"
            ],
            "application/vnd.google.colaboratory.intrinsic+json": {
              "type": "string"
            }
          },
          "metadata": {},
          "execution_count": 3
        }
      ]
    },
    {
      "cell_type": "markdown",
      "source": [
        "**Assigning & Printing a String**"
      ],
      "metadata": {
        "id": "CSqxInN8vJyf"
      }
    },
    {
      "cell_type": "code",
      "source": [
        "x = 'hello' #Assigning a string to a variable."
      ],
      "metadata": {
        "id": "kqDV9jUXvZFu"
      },
      "execution_count": null,
      "outputs": []
    },
    {
      "cell_type": "code",
      "source": [
        "x"
      ],
      "metadata": {
        "colab": {
          "base_uri": "https://localhost:8080/",
          "height": 35
        },
        "id": "i51eZpwkvcjW",
        "outputId": "74b6babd-5130-46db-f3fb-bef7868b148f"
      },
      "execution_count": null,
      "outputs": [
        {
          "output_type": "execute_result",
          "data": {
            "text/plain": [
              "'hello'"
            ],
            "application/vnd.google.colaboratory.intrinsic+json": {
              "type": "string"
            }
          },
          "metadata": {},
          "execution_count": 5
        }
      ]
    },
    {
      "cell_type": "code",
      "source": [
        "print(x)"
      ],
      "metadata": {
        "colab": {
          "base_uri": "https://localhost:8080/"
        },
        "id": "PucWsPSKvd_h",
        "outputId": "b3807829-0465-4b92-8e0d-cc7edafb6ed7"
      },
      "execution_count": null,
      "outputs": [
        {
          "output_type": "stream",
          "name": "stdout",
          "text": [
            "hello\n"
          ]
        }
      ]
    },
    {
      "cell_type": "markdown",
      "source": [
        "Another example of printing:"
      ],
      "metadata": {
        "id": "U6I5wTXKwFsT"
      }
    },
    {
      "cell_type": "code",
      "source": [
        "num = '12'\n",
        "name = 'Sam'"
      ],
      "metadata": {
        "id": "FUAqkggowHua"
      },
      "execution_count": null,
      "outputs": []
    },
    {
      "cell_type": "code",
      "source": [
        "#Format 1\n",
        "\n",
        "print('My number is: {one}, and my name is: {two}'.format(one=num,two=name))"
      ],
      "metadata": {
        "colab": {
          "base_uri": "https://localhost:8080/"
        },
        "id": "buTrN8t3wJyQ",
        "outputId": "5c189f39-bfbd-4dcc-e4fb-83836c3cd422"
      },
      "execution_count": null,
      "outputs": [
        {
          "output_type": "stream",
          "name": "stdout",
          "text": [
            "My number is: 12, and my name is: Sam\n"
          ]
        }
      ]
    },
    {
      "cell_type": "code",
      "source": [
        "#Format 2\n",
        "\n",
        "print('My number is: {}, and my name is: {}'.format(num,name))"
      ],
      "metadata": {
        "colab": {
          "base_uri": "https://localhost:8080/"
        },
        "id": "eJJ7W319wUQK",
        "outputId": "1510bfba-1e04-4a52-d5f2-de12eed40979"
      },
      "execution_count": null,
      "outputs": [
        {
          "output_type": "stream",
          "name": "stdout",
          "text": [
            "My number is: 12, and my name is: Sam\n"
          ]
        }
      ]
    },
    {
      "cell_type": "markdown",
      "source": [
        "####**1.1.2 Integer**\n",
        "\n"
      ],
      "metadata": {
        "id": "VwaUeVq3waWV"
      }
    },
    {
      "cell_type": "markdown",
      "source": [
        "An *integer* is a whole number. \n",
        "\n",
        "Example: 5, 0, -10, 100, -9999, 25842\n",
        "\n",
        "If you enter those into your Python interpreter, the interpreter will return them back to you.\n",
        "\n",
        "Notice in the string example in the previous section, we had a '5'. If a number is entered within quotes, Python will process the value as a string. In the following\n",
        "example, the first value and second value are not equal:\n",
        "\n",
        "To test this, enter the following into your interpreter:\n",
        "\n"
      ],
      "metadata": {
        "id": "ZZfsLGgcw1bd"
      }
    },
    {
      "cell_type": "code",
      "source": [
        "5 == '5'\n"
      ],
      "metadata": {
        "colab": {
          "base_uri": "https://localhost:8080/"
        },
        "id": "wYm0mcfTxZfA",
        "outputId": "f5d571bf-b719-41ea-f86c-d4fabc693884"
      },
      "execution_count": null,
      "outputs": [
        {
          "output_type": "execute_result",
          "data": {
            "text/plain": [
              "False"
            ]
          },
          "metadata": {},
          "execution_count": 11
        }
      ]
    },
    {
      "cell_type": "markdown",
      "source": [
        "In the previous statement, we asked Python whether 5 the integer was the same as '5' the string. What did Python return? **False.**\n",
        "\n",
        "Basically, the numbers stored as Strings are characters and you cannot peroform calculations on characters. We need numbers for that. "
      ],
      "metadata": {
        "id": "gGCMBRtexi0h"
      }
    },
    {
      "cell_type": "markdown",
      "source": [
        "####**1.1.3 Floats**"
      ],
      "metadata": {
        "id": "g3dErQDWzA25"
      }
    },
    {
      "cell_type": "markdown",
      "source": [
        "A *float* value is a decimal value.\n",
        "\n",
        "When a non–whole number is used in Python, it defaults to turning the value into a float. A float uses the built-in floating-point data type for your Python version. This means Python stores an approximation of the numeric value—an approximation that reflects only a certain level of precision.\n",
        "\n",
        "Notice the difference between the following two numbers when you enter them into\n",
        "your Python interpreter:"
      ],
      "metadata": {
        "id": "JYdJyyYfzGd7"
      }
    },
    {
      "cell_type": "code",
      "source": [
        "2\n",
        "2.0"
      ],
      "metadata": {
        "id": "yiAOVIsbzYjX"
      },
      "execution_count": null,
      "outputs": []
    },
    {
      "cell_type": "markdown",
      "source": [
        "####**1.1.4 Basic Operations on Numbers**"
      ],
      "metadata": {
        "id": "_9b0ELQCz5li"
      }
    },
    {
      "cell_type": "markdown",
      "source": [
        "Now, let's see some basic operations that can be performed on Integers."
      ],
      "metadata": {
        "id": "k7wKdv4Ry4eW"
      }
    },
    {
      "cell_type": "code",
      "source": [
        "#Addition\n",
        "\n",
        "x = 10 + 56\n",
        "y = 0.5 + 9.9\n",
        "\n",
        "print(x)\n",
        "print(y)"
      ],
      "metadata": {
        "colab": {
          "base_uri": "https://localhost:8080/"
        },
        "id": "Od7w0gV6z-jn",
        "outputId": "b6219a53-a2cf-4c3b-caad-25fcacbfe4eb"
      },
      "execution_count": null,
      "outputs": [
        {
          "output_type": "stream",
          "name": "stdout",
          "text": [
            "66\n",
            "10.4\n"
          ]
        }
      ]
    },
    {
      "cell_type": "code",
      "source": [
        "#Subtraction\n",
        "\n",
        "x = 23 - 47\n",
        "y = 81.9 - 66.75\n",
        "\n",
        "print(x)\n",
        "print(y)"
      ],
      "metadata": {
        "colab": {
          "base_uri": "https://localhost:8080/"
        },
        "id": "qmW9Z6Jy0Q5j",
        "outputId": "75f24ac4-ab07-4fa7-b012-3d89e4918086"
      },
      "execution_count": null,
      "outputs": [
        {
          "output_type": "stream",
          "name": "stdout",
          "text": [
            "-24\n",
            "15.150000000000006\n"
          ]
        }
      ]
    },
    {
      "cell_type": "code",
      "source": [
        "#Multiplication\n",
        "\n",
        "x = 61 * 10\n",
        "y = 9.65 * 0.25\n",
        "\n",
        "print(x)\n",
        "print(y)"
      ],
      "metadata": {
        "colab": {
          "base_uri": "https://localhost:8080/"
        },
        "id": "CxoUDy930dZo",
        "outputId": "2044b273-6290-4802-9800-df797fc493ed"
      },
      "execution_count": null,
      "outputs": [
        {
          "output_type": "stream",
          "name": "stdout",
          "text": [
            "610\n",
            "2.4125\n"
          ]
        }
      ]
    },
    {
      "cell_type": "code",
      "source": [
        "#Division\n",
        "\n",
        "x = 100 / 25\n",
        "y = 100.0/12.5\n",
        "\n",
        "print(x)\n",
        "print(y)"
      ],
      "metadata": {
        "colab": {
          "base_uri": "https://localhost:8080/"
        },
        "id": "HL80k6uP0rWi",
        "outputId": "acba5eb9-2a02-4d42-d510-94c3a129696f"
      },
      "execution_count": null,
      "outputs": [
        {
          "output_type": "stream",
          "name": "stdout",
          "text": [
            "4.0\n",
            "8.0\n"
          ]
        }
      ]
    },
    {
      "cell_type": "code",
      "source": [
        "#Modulus for Remainder\n",
        "\n",
        "x = 30 % 10\n",
        "y = 999.99 % 2.50\n",
        "\n",
        "print(x)\n",
        "print(y)"
      ],
      "metadata": {
        "colab": {
          "base_uri": "https://localhost:8080/"
        },
        "id": "pilait1S06sf",
        "outputId": "17c4a442-f196-44b2-d757-459e13afe1fe"
      },
      "execution_count": null,
      "outputs": [
        {
          "output_type": "stream",
          "name": "stdout",
          "text": [
            "0\n",
            "2.490000000000009\n"
          ]
        }
      ]
    },
    {
      "cell_type": "code",
      "source": [
        "#Power Indices\n",
        "\n",
        "x = 5 ** 3\n",
        "y = 17.5 ** 0.1\n",
        "\n",
        "print(x)\n",
        "print(y)"
      ],
      "metadata": {
        "colab": {
          "base_uri": "https://localhost:8080/"
        },
        "id": "4TjBJXaI1KBz",
        "outputId": "9b86f584-06e0-4177-85ad-3b5adecbe40e"
      },
      "execution_count": null,
      "outputs": [
        {
          "output_type": "stream",
          "name": "stdout",
          "text": [
            "125\n",
            "1.331385445092909\n"
          ]
        }
      ]
    },
    {
      "cell_type": "code",
      "source": [
        "#Brackets for BODMAS\n",
        "\n",
        "x = (2 + 3) * (5 + 2.5)\n",
        "\n",
        "print(x)"
      ],
      "metadata": {
        "colab": {
          "base_uri": "https://localhost:8080/"
        },
        "id": "NpMvkpgN1X8P",
        "outputId": "bc011ee9-259d-42fa-e996-596a2dbb5e7b"
      },
      "execution_count": null,
      "outputs": [
        {
          "output_type": "stream",
          "name": "stdout",
          "text": [
            "37.5\n"
          ]
        }
      ]
    },
    {
      "cell_type": "markdown",
      "source": [
        "####**1.1.5 List**\n",
        "\n"
      ],
      "metadata": {
        "id": "4YiSt0_70QYL"
      }
    },
    {
      "cell_type": "markdown",
      "source": [
        "A list is a group of values that have some relationship in common. You use a list in Python similarly to how you would use it in normal language. In Python, you can\n",
        "create a list of items by placing them within square brackets([]) and separating them with commas.\n",
        "\n",
        "Let’s make a list of groceries in Python:"
      ],
      "metadata": {
        "id": "-OikpKy31_NL"
      }
    },
    {
      "cell_type": "code",
      "source": [
        "['milk', 'lettuce', 'eggs']"
      ],
      "metadata": {
        "colab": {
          "base_uri": "https://localhost:8080/"
        },
        "id": "XsggeZke2NqF",
        "outputId": "b1d8da94-e6a2-476a-fcbd-e143ce7b65bc"
      },
      "execution_count": null,
      "outputs": [
        {
          "output_type": "execute_result",
          "data": {
            "text/plain": [
              "['milk', 'lettuce', 'eggs']"
            ]
          },
          "metadata": {},
          "execution_count": 27
        }
      ]
    },
    {
      "cell_type": "markdown",
      "source": [
        "You can make lists of any Python data type, or any mixture of data types (i.e., floats and strings)."
      ],
      "metadata": {
        "id": "67_87UHI2T2O"
      }
    },
    {
      "cell_type": "code",
      "source": [
        "['hi',1,1,2.5]"
      ],
      "metadata": {
        "colab": {
          "base_uri": "https://localhost:8080/"
        },
        "id": "2OF15cr42VAI",
        "outputId": "c81e0c25-89c0-4401-f688-8a9a386f9dbd"
      },
      "execution_count": null,
      "outputs": [
        {
          "output_type": "execute_result",
          "data": {
            "text/plain": [
              "['hi', 1, 1, 2.5]"
            ]
          },
          "metadata": {},
          "execution_count": 28
        }
      ]
    },
    {
      "cell_type": "markdown",
      "source": [
        "You can also create lists of lists. Let’s say we have a list of names for our animals:"
      ],
      "metadata": {
        "id": "O1Mt-VOR2ebZ"
      }
    },
    {
      "cell_type": "code",
      "source": [
        "cat_names = ['Walter', 'Ra']\n",
        "dog_names = ['Joker', 'Simon', 'Ellie', 'Lishka', 'Fido']\n",
        "horse_names = ['Mr. Ed']\n",
        "animal_names = [cat_names, dog_names, horse_names]"
      ],
      "metadata": {
        "id": "nw2OUw1O2j1k"
      },
      "execution_count": null,
      "outputs": []
    },
    {
      "cell_type": "code",
      "source": [
        "print(animal_names)"
      ],
      "metadata": {
        "colab": {
          "base_uri": "https://localhost:8080/"
        },
        "id": "pARUm_mP2nkT",
        "outputId": "da0b5605-f0a1-40ce-fc85-96a0031354af"
      },
      "execution_count": null,
      "outputs": [
        {
          "output_type": "stream",
          "name": "stdout",
          "text": [
            "[['Walter', 'Ra'], ['Joker', 'Simon', 'Ellie', 'Lishka', 'Fido'], ['Mr. Ed']]\n"
          ]
        }
      ]
    },
    {
      "cell_type": "markdown",
      "source": [
        "####**1.1.6 Dictionary**\n"
      ],
      "metadata": {
        "id": "cO_eDNpD2u_z"
      }
    },
    {
      "cell_type": "markdown",
      "source": [
        "A *dictionary* is a collection of data which is ordered*, changeable and do not allow duplicates. \n",
        "\n",
        "Unlike other data types that hold only a single value as an element, Dictionary holds key:value pair. Key-value is provided in the dictionary to make it more optimized. "
      ],
      "metadata": {
        "id": "JzBOktgF2zHE"
      }
    },
    {
      "cell_type": "code",
      "source": [
        "# Creating a dictionary with integer keys\n",
        "\n",
        "Dict = {1: 'Geeks', 2: 'For', 3: 'Geeks'}\n",
        "print(Dict)"
      ],
      "metadata": {
        "colab": {
          "base_uri": "https://localhost:8080/"
        },
        "id": "HKrB6GmA3VMd",
        "outputId": "67538ab1-b54b-4e71-a0bb-0129c081caba"
      },
      "execution_count": null,
      "outputs": [
        {
          "output_type": "stream",
          "name": "stdout",
          "text": [
            "{1: 'Geeks', 2: 'For', 3: 'Geeks'}\n"
          ]
        }
      ]
    },
    {
      "cell_type": "markdown",
      "source": [
        "We can also access individual elements of the dictionary via their keys."
      ],
      "metadata": {
        "id": "Z3VuuEp_3pRg"
      }
    },
    {
      "cell_type": "code",
      "source": [
        "print(Dict[2])"
      ],
      "metadata": {
        "colab": {
          "base_uri": "https://localhost:8080/"
        },
        "id": "33eP8fRm3vfP",
        "outputId": "3f1cd292-2313-413a-919b-f413f675a5c9"
      },
      "execution_count": null,
      "outputs": [
        {
          "output_type": "stream",
          "name": "stdout",
          "text": [
            "For\n"
          ]
        }
      ]
    },
    {
      "cell_type": "markdown",
      "source": [
        "####**1.1.7 What can various Data Types do?**"
      ],
      "metadata": {
        "id": "2-y-ibNl4AZC"
      }
    },
    {
      "cell_type": "markdown",
      "source": [
        "Each of the basic data types can do a variety of things. Here is a list of the data types\n",
        "we’ve learned about so far, followed by examples of the kinds of actions you can tell\n",
        "them to do:"
      ],
      "metadata": {
        "id": "_mouv2pv4GEo"
      }
    },
    {
      "cell_type": "markdown",
      "source": [
        "• Strings\n",
        "1. Change case\n",
        "2.  Strip space off the end of a string \n",
        "3. Split a string\n",
        "\n",
        "• Integers and decimals\n",
        "1. Add and subtract\n",
        "2. Simple math\n",
        "\n",
        "• Lists\n",
        "1. Add to or subtract from the list\n",
        "2. Remove the last item of the list\n",
        "3. Reorder the list\n",
        "4. Sort the list\n",
        "\n",
        "• Dictionaries\n",
        "1. Add a key/value pair\n",
        "2. Set a new value to the corresponding key\n",
        "3. Look up a value by the key"
      ],
      "metadata": {
        "id": "5LrwN5rp4Iej"
      }
    },
    {
      "cell_type": "markdown",
      "source": [
        "###**1.2 Exercises**"
      ],
      "metadata": {
        "id": "uwNafFX04rmp"
      }
    },
    {
      "cell_type": "markdown",
      "source": [
        ""
      ],
      "metadata": {
        "id": "dp6TqAwL4xTw"
      }
    }
  ]
}