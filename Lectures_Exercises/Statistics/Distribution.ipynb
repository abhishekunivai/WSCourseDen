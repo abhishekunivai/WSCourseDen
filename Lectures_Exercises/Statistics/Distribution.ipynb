{
  "nbformat": 4,
  "nbformat_minor": 0,
  "metadata": {
    "colab": {
      "name": "stats1_distribution.ipynb",
      "provenance": [],
      "toc_visible": true
    },
    "kernelspec": {
      "name": "python3",
      "display_name": "Python 3"
    },
    "language_info": {
      "name": "python"
    }
  },
  "cells": [
    {
      "cell_type": "markdown",
      "source": [
        "       4.Exploring the Data Distribution"
      ],
      "metadata": {
        "id": "v4AoyfCZFPG8"
      }
    },
    {
      "cell_type": "markdown",
      "source": [
        "# 4.1.Box Plots\n",
        "\n",
        "It is based on the percentiles of the data as shown in the figure below. The top and bottom of the boxplot are 75th and 25th percentile of the data. The extended lines are known as whiskers that includes the range of rest of the data."
      ],
      "metadata": {
        "id": "bnKgJaLrFRqd"
      }
    },
    {
      "cell_type": "markdown",
      "source": [
        "# 4.2.Frequency Table\n",
        "\n",
        " It is a tool to distribute the data into equally spaced ranges, segments and tells us how many values fall in each segment."
      ],
      "metadata": {
        "id": "dw_ks0P2FWwg"
      }
    },
    {
      "cell_type": "markdown",
      "source": [
        "# 4.3.Histogram\n",
        "\n",
        "It is a way of visualizing data distribution through frequency table with bins on the x-axis and data count on the y-axis."
      ],
      "metadata": {
        "id": "xG2F8rWSFcvk"
      }
    },
    {
      "cell_type": "markdown",
      "source": [
        "# 4.4.Density Plot\n",
        "\n",
        "It is related to histogram as it shows data-values being distributed as continuous line. It is a smoothed histogram version. The output below is the density plot superposed over histogram. \n",
        "Code – Density Plot for the data"
      ],
      "metadata": {
        "id": "ySrq_0YyFhDF"
      }
    },
    {
      "cell_type": "markdown",
      "source": [
        "# EXCERCISE"
      ],
      "metadata": {
        "id": "JYbziKcVFk5c"
      }
    },
    {
      "cell_type": "code",
      "source": [
        "#Loading Libraries\n",
        "import numpy as np\n",
        "import pandas as pd\n",
        "import seaborn as sns\n",
        "import matplotlib.pyplot as plt"
      ],
      "metadata": {
        "id": "FObKyzy0Fpug"
      },
      "execution_count": null,
      "outputs": []
    },
    {
      "cell_type": "code",
      "source": [
        "#link for the file- https://drive.google.com/file/d/1zhw660ojq4eT6d8TQzCDSL1PloKMQMG6/view\n",
        "\n",
        "data = pd.read_csv(\"/state.csv\")\n",
        " "
      ],
      "metadata": {
        "id": "Ds38wshFGjqZ"
      },
      "execution_count": null,
      "outputs": []
    },
    {
      "cell_type": "markdown",
      "source": [
        "## QUES1-\n",
        "Given the data of  State , Population , Murder.Rate and Abbreviation . Find the population in millions ."
      ],
      "metadata": {
        "id": "8UMSAgyNGTFF"
      }
    },
    {
      "cell_type": "code",
      "source": [
        "# Adding a new column with derived data\n",
        "data['PopulationInMillions'] = data['Population']/1000000\n",
        " \n",
        "print (data.head(10))"
      ],
      "metadata": {
        "id": "vE9mgBc3FtbS"
      },
      "execution_count": null,
      "outputs": []
    },
    {
      "cell_type": "markdown",
      "source": [
        "## QUES2.\n",
        "BUILD THE BOX PLOT OF POPULATIONINMILLIONS."
      ],
      "metadata": {
        "id": "FTNRkc6OFzHo"
      }
    },
    {
      "cell_type": "code",
      "source": [
        "# BoxPlot Population In Millions\n",
        "fig, ax1 = plt.subplots()\n",
        "fig.set_size_inches(9,  15)\n",
        "  \n",
        "ax1 = sns.boxplot(x = data.PopulationInMillions, orient =\"v\")\n",
        "ax1.set_ylabel(\"Population by State in Millions\", fontsize = 15)\n",
        "ax1.set_title(\"Population - BoxPlot\", fontsize = 20)"
      ],
      "metadata": {
        "id": "ob6ovm3zFvNl"
      },
      "execution_count": null,
      "outputs": []
    },
    {
      "cell_type": "markdown",
      "source": [
        "## QUES3.\n",
        "CREATE A FREQUENCY TABLE OF POPULATIONINMILLIONS."
      ],
      "metadata": {
        "id": "I7zwLNtMGwGv"
      }
    },
    {
      "cell_type": "code",
      "source": [
        "#Adding a column to perform crosstab and groupby functionality.\n",
        "# Perform the binning action, the bins have been\n",
        "# chosen to accentuate the output for the Frequency Table\n",
        "  \n",
        "data['PopulationInMillionsBins'] = pd.cut(\n",
        "    data.PopulationInMillions, bins =[0, 1, 2, 5, 8, 12, 15, 20, 50])\n",
        "  \n",
        "print (data.head(10))"
      ],
      "metadata": {
        "id": "IXv7XKf2GI8v"
      },
      "execution_count": null,
      "outputs": []
    },
    {
      "cell_type": "code",
      "source": [
        "#Code #2: Cross Tab – a type of Frequency Table\n",
        "# Cross Tab - a type of Frequency Table\n",
        "\n",
        "pd.crosstab(data.PopulationInMillionsBins, data.Abbreviation, margins = True)\n"
      ],
      "metadata": {
        "id": "8DSxixOHHRl9"
      },
      "execution_count": null,
      "outputs": []
    },
    {
      "cell_type": "code",
      "source": [
        "#Code #3: GroupBy – a type of Frequency Table\n",
        "# Groupby - a type of Frequency Table\n",
        "\n",
        "data.groupby(data.PopulationInMillionsBins)['Abbreviation'].apply(', '.join)"
      ],
      "metadata": {
        "id": "JuNNjxhKHSD6"
      },
      "execution_count": null,
      "outputs": []
    },
    {
      "cell_type": "markdown",
      "source": [
        "## QUES4.\n",
        "CREATE A HISTOGRAM OF POPULATIONINMILLIONS."
      ],
      "metadata": {
        "id": "8R0QfOJsHZmP"
      }
    },
    {
      "cell_type": "code",
      "source": [
        "# Histogram Population In Millions\n",
        " \n",
        "fig, ax2 = plt.subplots()\n",
        "fig.set_size_inches(9,  15)\n",
        " \n",
        "ax2 = sns.distplot(data.PopulationInMillions, kde = False)\n",
        "ax2.set_ylabel(\"Frequency\", fontsize = 15)\n",
        "ax2.set_xlabel(\"Population by State in Millions\", fontsize = 15)\n",
        "ax2.set_title(\"Population - Histogram\", fontsize = 20)"
      ],
      "metadata": {
        "id": "be_dFHnVHZDl"
      },
      "execution_count": null,
      "outputs": []
    },
    {
      "cell_type": "markdown",
      "source": [
        "## QUES5.\n",
        "CREATE A HISTOGRAM OF POPULATIONINMILLIONS."
      ],
      "metadata": {
        "id": "O8U-1DO9Hh9p"
      }
    },
    {
      "cell_type": "code",
      "source": [
        "# Density Plot - Population\n",
        " \n",
        "fig, ax3 = plt.subplots()\n",
        "fig.set_size_inches(7,  9)\n",
        " \n",
        "ax3 = sns.distplot(data.Population, kde = True)\n",
        "ax3.set_ylabel(\"Density\", fontsize = 15)\n",
        "ax3.set_xlabel(\"Murder Rate per Million\", fontsize = 15)\n",
        "ax3.set_title(\"Density Plot - Population\", fontsize = 20)"
      ],
      "metadata": {
        "id": "5RMJAOgoIF8Q"
      },
      "execution_count": null,
      "outputs": []
    }
  ]
}