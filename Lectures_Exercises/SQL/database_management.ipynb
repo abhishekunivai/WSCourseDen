{
  "nbformat": 4,
  "nbformat_minor": 0,
  "metadata": {
    "colab": {
      "name": "database_management.ipynb",
      "provenance": []
    },
    "kernelspec": {
      "name": "python3",
      "display_name": "Python 3"
    },
    "language_info": {
      "name": "python"
    }
  },
  "cells": [
    {
      "cell_type": "markdown",
      "source": [
        "## Database Management"
      ],
      "metadata": {
        "id": "7eAVKCRsZnwX"
      }
    },
    {
      "cell_type": "markdown",
      "source": [
        "#### Create Database"
      ],
      "metadata": {
        "id": "1iK-Xl0jZrEc"
      }
    },
    {
      "cell_type": "markdown",
      "source": [
        "MySQL Command : CREATE DATABASE [IF NOT EXISTS] database_name;"
      ],
      "metadata": {
        "id": "iyX-sdNrZ4Kc"
      }
    },
    {
      "cell_type": "markdown",
      "source": [
        "The if not exists phrase is used to check whether a database already pre-existed or not. If the same name database already existed then it would not have created the database."
      ],
      "metadata": {
        "id": "bKF_CvIoaEUQ"
      }
    },
    {
      "cell_type": "markdown",
      "source": [
        "Example:"
      ],
      "metadata": {
        "id": "WRtwPBV8aGBJ"
      }
    },
    {
      "cell_type": "markdown",
      "source": [
        "mysql> create database if not exists trial;\n",
        "Query OK, 1 row affected (0.04 sec)"
      ],
      "metadata": {
        "id": "ZG3yPwNXZyX4"
      }
    },
    {
      "cell_type": "markdown",
      "source": [
        "#### Select Database\n"
      ],
      "metadata": {
        "id": "6tmkNEsoaNUj"
      }
    },
    {
      "cell_type": "markdown",
      "source": [
        "MySQL command : USE <database_name>;"
      ],
      "metadata": {
        "id": "rGthHgdhaZu6"
      }
    },
    {
      "cell_type": "markdown",
      "source": [
        "Example:"
      ],
      "metadata": {
        "id": "yuy-ZKvoaaZi"
      }
    },
    {
      "cell_type": "markdown",
      "source": [
        "\n",
        "mysql> use trial;\n",
        "Database changed"
      ],
      "metadata": {
        "id": "UZmtzGnXaXjh"
      }
    },
    {
      "cell_type": "markdown",
      "source": [
        "#### Show Databases"
      ],
      "metadata": {
        "id": "9Squ2M3EafDs"
      }
    },
    {
      "cell_type": "markdown",
      "source": [
        "MySQL command : SHOW DATABASES;\n"
      ],
      "metadata": {
        "id": "9G7Qwmw7a3Qr"
      }
    },
    {
      "cell_type": "markdown",
      "source": [
        "Example:"
      ],
      "metadata": {
        "id": "KFoR6LRcbGdx"
      }
    },
    {
      "cell_type": "markdown",
      "source": [
        "![image.png](data:image/png;base64,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)"
      ],
      "metadata": {
        "id": "p83gpvQCazS0"
      }
    },
    {
      "cell_type": "markdown",
      "source": [
        "#### Drop Database"
      ],
      "metadata": {
        "id": "HnpF80wfbLII"
      }
    },
    {
      "cell_type": "markdown",
      "source": [
        "MySQL command : DROP DATABASE [IF EXISTS] database_name;\n",
        "\n",
        "The if exists phrase is not mandatory and is used as a safety measure. If table does not exist and we pass the command to drop it then, the command will do nothing.\n"
      ],
      "metadata": {
        "id": "rWm2GO7SbUGi"
      }
    },
    {
      "cell_type": "markdown",
      "source": [
        "Example:"
      ],
      "metadata": {
        "id": "ANkPU26gbaC1"
      }
    },
    {
      "cell_type": "markdown",
      "source": [
        "mysql> drop database trial;\n",
        "Query OK, 0 rows affected (0.18 sec)"
      ],
      "metadata": {
        "id": "rKOkk3jWbYuM"
      }
    }
  ]
}