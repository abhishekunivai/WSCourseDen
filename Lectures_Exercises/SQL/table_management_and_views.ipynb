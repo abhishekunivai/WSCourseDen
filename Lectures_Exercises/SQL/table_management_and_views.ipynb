{
  "nbformat": 4,
  "nbformat_minor": 0,
  "metadata": {
    "colab": {
      "name": "table_management_and_views.ipynb",
      "provenance": []
    },
    "kernelspec": {
      "name": "python3",
      "display_name": "Python 3"
    },
    "language_info": {
      "name": "python"
    }
  },
  "cells": [
    {
      "cell_type": "markdown",
      "source": [
        "## Table Management and Views"
      ],
      "metadata": {
        "id": "wbad58WpfNZC"
      }
    },
    {
      "cell_type": "markdown",
      "source": [
        "#### Create Table"
      ],
      "metadata": {
        "id": "SBNdxKIgfQbd"
      }
    },
    {
      "cell_type": "markdown",
      "source": [
        "Command to create table : CREATE TABLE [IF NOT EXISTS] table_name(  \n",
        "    column_definition1,  \n",
        "    column_definition2,  \n",
        "    ........,  \n",
        "    table_constraints  \n",
        ");"
      ],
      "metadata": {
        "id": "wtjOpv3mfWQK"
      }
    },
    {
      "cell_type": "markdown",
      "source": [
        "Example:"
      ],
      "metadata": {
        "id": "MgBA9-yBfaoj"
      }
    },
    {
      "cell_type": "markdown",
      "source": [
        "mysql> create table emp_table(  \n",
        "\n",
        "    -> id int,  \n",
        "    -> name varchar(45),\n",
        "    -> occupation varchar(35),\n",
        "    -> age int\n",
        "    -> );\n",
        "Query OK, 0 rows affected (0.11 sec)"
      ],
      "metadata": {
        "id": "S3kFX0_mfci2"
      }
    },
    {
      "cell_type": "markdown",
      "source": [
        "#### Alter Table"
      ],
      "metadata": {
        "id": "RNnuluB3f76j"
      }
    },
    {
      "cell_type": "markdown",
      "source": [
        "###### Add Columns"
      ],
      "metadata": {
        "id": "8REDxoClgHky"
      }
    },
    {
      "cell_type": "markdown",
      "source": [
        "Command to add column : ALTER TABLE table_name  \n",
        "ADD new_column_name column_definition  \n",
        "[ FIRST | AFTER column_name ];\n"
      ],
      "metadata": {
        "id": "BqX1yTKtgK5a"
      }
    },
    {
      "cell_type": "markdown",
      "source": [
        "Example:"
      ],
      "metadata": {
        "id": "KPBFJ8LvgTDs"
      }
    },
    {
      "cell_type": "markdown",
      "source": [
        "mysql> alter table emp_table  \n",
        "\n",
        "    -> add emp_sal int\n",
        "    -> after age;\n",
        "Query OK, 0 rows affected (0.06 sec)\n",
        "Records: 0  Duplicates: 0  Warnings: 0"
      ],
      "metadata": {
        "id": "btb8GvG4gUQm"
      }
    },
    {
      "cell_type": "markdown",
      "source": [
        "###### Modify Columns"
      ],
      "metadata": {
        "id": "dnhI_5KOgVKN"
      }
    },
    {
      "cell_type": "markdown",
      "source": [
        "Command to modify column : ALTER TABLE table_name  \n",
        "MODIFY column_name column_definition  \n",
        "[ FIRST | AFTER column_name ];\n"
      ],
      "metadata": {
        "id": "aYdymApphDiB"
      }
    },
    {
      "cell_type": "markdown",
      "source": [
        "Example:"
      ],
      "metadata": {
        "id": "2tfM67Z0hJv7"
      }
    },
    {
      "cell_type": "markdown",
      "source": [
        "\n",
        "mysql> alter table emp_table  \n",
        "\n",
        "    -> modify id varchar(10);\n",
        "Query OK, 0 rows affected (0.15 sec)\n",
        "Records: 0  Duplicates: 0  Warnings: 0"
      ],
      "metadata": {
        "id": "g5UGPMMBhKvz"
      }
    },
    {
      "cell_type": "markdown",
      "source": [
        "###### Drop Columns"
      ],
      "metadata": {
        "id": "o7OkbnEchMfM"
      }
    },
    {
      "cell_type": "markdown",
      "source": [
        "Command to modify column : ALTER TABLE table_name  \n",
        "DROP COLUMN column_name;"
      ],
      "metadata": {
        "id": "bwj4CQ26hQId"
      }
    },
    {
      "cell_type": "markdown",
      "source": [
        "Example:"
      ],
      "metadata": {
        "id": "XhBYS8CkhUaF"
      }
    },
    {
      "cell_type": "markdown",
      "source": [
        "mysql> alter table emp_table  \n",
        "\n",
        "    -> drop column age;\n",
        "Query OK, 0 rows affected (0.09 sec)\n",
        "Records: 0  Duplicates: 0  Warnings: 0\n"
      ],
      "metadata": {
        "id": "Bprc-1OchVaZ"
      }
    },
    {
      "cell_type": "markdown",
      "source": [
        "###### Rename Columns"
      ],
      "metadata": {
        "id": "XFVCNvVFhW5C"
      }
    },
    {
      "cell_type": "markdown",
      "source": [
        "Command to rename column : ALTER TABLE table_name  \n",
        "CHANGE COLUMN old_name new_name column_definition  \n",
        "[ FIRST | AFTER column_name ]\n"
      ],
      "metadata": {
        "id": "7G1Ho4N5hZun"
      }
    },
    {
      "cell_type": "markdown",
      "source": [
        "Example:"
      ],
      "metadata": {
        "id": "BT4tBHMahhJA"
      }
    },
    {
      "cell_type": "markdown",
      "source": [
        "\n",
        "mysql> alter table emp_table  \n",
        "\n",
        "    -> change column id emp_id varchar(10);\n",
        "Query OK, 0 rows affected (0.03 sec)\n",
        "Records: 0  Duplicates: 0  Warnings: 0 "
      ],
      "metadata": {
        "id": "pczFVtu3hilG"
      }
    },
    {
      "cell_type": "markdown",
      "source": [
        "###### Rename Table"
      ],
      "metadata": {
        "id": "5NCtg6kHhqAK"
      }
    },
    {
      "cell_type": "markdown",
      "source": [
        "Command to rename table : ALTER TABLE table_name  \n",
        "RENAME TO new_table_name;\n"
      ],
      "metadata": {
        "id": "ue9cGvc5h5Ue"
      }
    },
    {
      "cell_type": "markdown",
      "source": [
        "Example:"
      ],
      "metadata": {
        "id": "KSxQq18aia73"
      }
    },
    {
      "cell_type": "markdown",
      "source": [
        "mysql> alter table emp_table  \n",
        "\n",
        "    -> rename to employees;\n",
        "Query OK, 0 rows affected (0.04 sec)"
      ],
      "metadata": {
        "id": "fhGGyYKKh_G9"
      }
    },
    {
      "cell_type": "markdown",
      "source": [
        "#### Show Tables"
      ],
      "metadata": {
        "id": "eu7O9zsHiBwr"
      }
    },
    {
      "cell_type": "markdown",
      "source": [
        "Command to rename table : SHOW TABLES;\n"
      ],
      "metadata": {
        "id": "YHua2cyNiFr0"
      }
    },
    {
      "cell_type": "markdown",
      "source": [
        "Example:"
      ],
      "metadata": {
        "id": "NJIXhQAyidcF"
      }
    },
    {
      "cell_type": "markdown",
      "source": [
        "![image.png](data:image/png;base64,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)"
      ],
      "metadata": {
        "id": "uZkQ_bcoiJzJ"
      }
    },
    {
      "cell_type": "markdown",
      "source": [
        "#### Describe Table"
      ],
      "metadata": {
        "id": "Cxn0LWnQiXxn"
      }
    },
    {
      "cell_type": "markdown",
      "source": [
        "Command to rename table : {DESCRIBE | DESC} table_name;\n"
      ],
      "metadata": {
        "id": "bGGSk6e1iodX"
      }
    },
    {
      "cell_type": "markdown",
      "source": [
        "Example:"
      ],
      "metadata": {
        "id": "t_kKErtui5mr"
      }
    },
    {
      "cell_type": "markdown",
      "source": [
        "![image.png](data:image/png;base64,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)"
      ],
      "metadata": {
        "id": "U2rrHUVMisWu"
      }
    },
    {
      "cell_type": "markdown",
      "source": [
        "#### Copy Table"
      ],
      "metadata": {
        "id": "nuWlP2bvjG_i"
      }
    },
    {
      "cell_type": "markdown",
      "source": [
        "Command to copy table : CREATE TABLE IF NOT EXISTS duplicate_table   \n",
        "SELECT * FROM original_table;\n"
      ],
      "metadata": {
        "id": "YAbwL03pjCJm"
      }
    },
    {
      "cell_type": "markdown",
      "source": [
        "Example:"
      ],
      "metadata": {
        "id": "AfzY4yDIkT19"
      }
    },
    {
      "cell_type": "markdown",
      "source": [
        "mysql> create table if not exists emp_info  \n",
        "\n",
        "    -> select * from employees;\n",
        "Query OK, 0 rows affected (0.07 sec)\n",
        "Records: 0  Duplicates: 0  Warnings: 0"
      ],
      "metadata": {
        "id": "A4UKtRLIjENe"
      }
    },
    {
      "cell_type": "markdown",
      "source": [
        "#### Drop Table"
      ],
      "metadata": {
        "id": "e6thTZWVjNaR"
      }
    },
    {
      "cell_type": "markdown",
      "source": [
        "Command to drop table : DROP TABLE [ IF EXISTS ] table_name;"
      ],
      "metadata": {
        "id": "7YpX-kqPjSQA"
      }
    },
    {
      "cell_type": "markdown",
      "source": [
        "Example:"
      ],
      "metadata": {
        "id": "5V1KE4zVjYT6"
      }
    },
    {
      "cell_type": "markdown",
      "source": [
        "mysql> drop table if exists employees;\n",
        "Query OK, 0 rows affected (0.04 sec)"
      ],
      "metadata": {
        "id": "Z_XtTtNEjZs7"
      }
    },
    {
      "cell_type": "markdown",
      "source": [
        "#### Create View"
      ],
      "metadata": {
        "id": "Q52NqIF1jiDZ"
      }
    },
    {
      "cell_type": "markdown",
      "source": [
        "Command to create views : CREATE [OR REPLACE] VIEW view_name AS    \n",
        "SELECT columns    \n",
        "FROM tables    \n",
        "[WHERE conditions]; \n",
        "\n",
        "OR REPLACE: It is optional. It is used when a VIEW already exists. If you do not specify this clause and the VIEW already exists, the CREATE VIEW statement will return an error.\n",
        "\n",
        "WHERE conditions: It is also optional. It specifies the conditions that must be met for the records to be included in the VIEW."
      ],
      "metadata": {
        "id": "IRZzJ5o-jlMq"
      }
    },
    {
      "cell_type": "markdown",
      "source": [
        "Example:"
      ],
      "metadata": {
        "id": "DhAUelSKj1do"
      }
    },
    {
      "cell_type": "markdown",
      "source": [
        "mysql> create view emp_personal_info as  \n",
        "\n",
        "    -> select name\n",
        "    -> from emp_info;\n",
        "Query OK, 0 rows affected (0.02 sec)\n"
      ],
      "metadata": {
        "id": "OiKw4pH0juHP"
      }
    },
    {
      "cell_type": "markdown",
      "source": [
        "#### See Created View"
      ],
      "metadata": {
        "id": "hHf42ASQj3c6"
      }
    },
    {
      "cell_type": "markdown",
      "source": [
        "Command to see created views : SELECT * FROM view_name;"
      ],
      "metadata": {
        "id": "ZiFkUgFHj8js"
      }
    },
    {
      "cell_type": "markdown",
      "source": [
        "Example:"
      ],
      "metadata": {
        "id": "Gn3z-8rjkRH8"
      }
    },
    {
      "cell_type": "markdown",
      "source": [
        "mysql> select * from emp_personal_info;\n",
        "Empty set (0.01 sec)"
      ],
      "metadata": {
        "id": "6l5EI4XCkBFG"
      }
    },
    {
      "cell_type": "markdown",
      "source": [
        "#### Update View"
      ],
      "metadata": {
        "id": "1kXolJcFkCBF"
      }
    },
    {
      "cell_type": "markdown",
      "source": [
        "Command to update views : ALTER VIEW view_name AS    \n",
        "SELECT columns    \n",
        "FROM table    \n",
        "[WHERE conditions];\n"
      ],
      "metadata": {
        "id": "4ygEetRGkFbX"
      }
    },
    {
      "cell_type": "markdown",
      "source": [
        "Example:"
      ],
      "metadata": {
        "id": "d7GXSzpskMSg"
      }
    },
    {
      "cell_type": "markdown",
      "source": [
        "\n",
        "mysql> alter view emp_personal_info as  \n",
        "\n",
        "    -> select name\n",
        "    -> from emp_info\n",
        "    -> where name like \"A%\";\t\t\t\t\t(Names starting with A)\n",
        "Query OK, 0 rows affected (0.02 sec)"
      ],
      "metadata": {
        "id": "u4tqd2XgkN93"
      }
    },
    {
      "cell_type": "markdown",
      "source": [
        "#### Drop Views"
      ],
      "metadata": {
        "id": "PF8gpInPkbEE"
      }
    },
    {
      "cell_type": "markdown",
      "source": [
        "\n",
        "Command to drop views : DROP VIEW [IF EXISTS] view_name;"
      ],
      "metadata": {
        "id": "yUZQYLANkegY"
      }
    },
    {
      "cell_type": "markdown",
      "source": [
        "Example:"
      ],
      "metadata": {
        "id": "vR0CLshLkjf5"
      }
    },
    {
      "cell_type": "markdown",
      "source": [
        "mysql> drop view emp_personal_info;\n",
        "Query OK, 0 rows affected (0.02 sec)"
      ],
      "metadata": {
        "id": "B7ylYXf4kkop"
      }
    }
  ]
}