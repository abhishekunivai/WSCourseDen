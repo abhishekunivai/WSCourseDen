{
  "nbformat": 4,
  "nbformat_minor": 0,
  "metadata": {
    "colab": {
      "name": "Bootstrapping.ipynb",
      "provenance": [],
      "collapsed_sections": [],
      "toc_visible": true
    },
    "kernelspec": {
      "name": "python3",
      "display_name": "Python 3"
    },
    "language_info": {
      "name": "python"
    }
  },
  "cells": [
    {
      "cell_type": "markdown",
      "source": [
        "# **11.The Bootstrap**"
      ],
      "metadata": {
        "id": "R0GTXngkC0Xr"
      }
    },
    {
      "cell_type": "markdown",
      "source": [
        "## 11.1 What is Bootstrapping?\n",
        "\n",
        "In statistics, Bootstrap Sampling is a method that involves drawing of sample data repeatedly with replacement from a data source to estimate a population parameter.\n",
        "\n",
        "This basically means that bootstrap sampling is a technique using which you can estimate parameters like mean for an entire population without explicitly considering each and every data point in the population.\n",
        "\n",
        "Instead of looking at the entire population, we look at multiple subsets all of the same size taken from the population.\n",
        "\n",
        "For example, if your population size is 1000. Then to find the mean, instead of considering all the 1000 entries you can take 50 samples of size 4 each and calculate the mean for each sample. This way you will be taking an average of 200 entries (50X4) chosen randomly.\n",
        "\n",
        "\n",
        "\n",
        "![image.png](data:image/png;base64,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)"
      ],
      "metadata": {
        "id": "l83rdwqYC9uR"
      }
    },
    {
      "cell_type": "markdown",
      "source": [
        "## 11.2 Replacement & Sampling\n",
        "\n",
        "In order to better understand bootstrapping, it is helpful to understand what’s meant by replacement and the impact that replacement has on probability. Replacement means that every time an item is drawn from the pool, that same item remains a part of the sample pool that will be drawn from in the next instance. This rule continues to apply for all subsequent samples. If you were to have completely removed the first sample from the sampling pool without placing it back in and then drew the second sample, the items drawn in that sample would not be as likely to occur as the items in the first sample because the overall population would now be smaller. By removing data with each random sampling, the population measured in subsequent samples would continue to shrink. \n",
        "\n",
        "A relatable example of how sampling with and without replacement works is the game of drawing names out of a hat for raffle prizes. If the person pulling out the names uses replacement by putting a winner’s name back in the hat before drawing names for the next prize, although it is highly unlikely, replacement can allow that same person to win all of the prizes. "
      ],
      "metadata": {
        "id": "ZuqY_4cxUS7f"
      }
    },
    {
      "cell_type": "markdown",
      "source": [
        "##11.3 Practically Implementing Bootstrap Sampling in Python\n",
        "\n",
        "Now let us try & implement the bootstrapping technique.\n",
        "\n",
        "The data set can be found [here.](https://drive.google.com/file/d/1JfZw9AaOQv4uCA_Cq-6Bqzju9sIRVScd/view?usp=sharing)"
      ],
      "metadata": {
        "id": "oGn1H_aoatFh"
      }
    },
    {
      "cell_type": "markdown",
      "source": [
        "We will be doing bootstrap sampling on a specific data set and will compute the range to check the model performance on unseen data or the production data. We will first define the libraries and then will load the data. \n",
        "\n",
        "Use the below code for the same. "
      ],
      "metadata": {
        "id": "nR-CsTF2d51B"
      }
    },
    {
      "cell_type": "code",
      "source": [
        "from sklearn.utils import resample\n",
        "from sklearn.ensemble import RandomForestClassifier\n",
        "from sklearn.metrics import accuracy_score\n",
        "from matplotlib import pyplot\n",
        "import numpy as np\n",
        "import pandas as pd\n",
        "data = pd.read_csv('/content/Iris.csv')\n",
        "print(data) "
      ],
      "metadata": {
        "colab": {
          "base_uri": "https://localhost:8080/"
        },
        "id": "XvFBR2bktKgl",
        "outputId": "45b5d8c0-b514-4ec5-9570-0e253e9ec3de"
      },
      "execution_count": null,
      "outputs": [
        {
          "output_type": "stream",
          "name": "stdout",
          "text": [
            "      Id  SepalLengthCm  SepalWidthCm  PetalLengthCm  PetalWidthCm  \\\n",
            "0      1            5.1           3.5            1.4           0.2   \n",
            "1      2            4.9           3.0            1.4           0.2   \n",
            "2      3            4.7           3.2            1.3           0.2   \n",
            "3      4            4.6           3.1            1.5           0.2   \n",
            "4      5            5.0           3.6            1.4           0.2   \n",
            "..   ...            ...           ...            ...           ...   \n",
            "145  146            6.7           3.0            5.2           2.3   \n",
            "146  147            6.3           2.5            5.0           1.9   \n",
            "147  148            6.5           3.0            5.2           2.0   \n",
            "148  149            6.2           3.4            5.4           2.3   \n",
            "149  150            5.9           3.0            5.1           1.8   \n",
            "\n",
            "            Species  \n",
            "0       Iris-setosa  \n",
            "1       Iris-setosa  \n",
            "2       Iris-setosa  \n",
            "3       Iris-setosa  \n",
            "4       Iris-setosa  \n",
            "..              ...  \n",
            "145  Iris-virginica  \n",
            "146  Iris-virginica  \n",
            "147  Iris-virginica  \n",
            "148  Iris-virginica  \n",
            "149  Iris-virginica  \n",
            "\n",
            "[150 rows x 6 columns]\n"
          ]
        }
      ]
    },
    {
      "cell_type": "code",
      "source": [
        "data.head()"
      ],
      "metadata": {
        "colab": {
          "base_uri": "https://localhost:8080/",
          "height": 206
        },
        "id": "tFJehdHj7xsY",
        "outputId": "9e022f25-7d11-4523-ac66-5ebdb71213bb"
      },
      "execution_count": null,
      "outputs": [
        {
          "output_type": "execute_result",
          "data": {
            "text/plain": [
              "   Id  SepalLengthCm  SepalWidthCm  PetalLengthCm  PetalWidthCm      Species\n",
              "0   1            5.1           3.5            1.4           0.2  Iris-setosa\n",
              "1   2            4.9           3.0            1.4           0.2  Iris-setosa\n",
              "2   3            4.7           3.2            1.3           0.2  Iris-setosa\n",
              "3   4            4.6           3.1            1.5           0.2  Iris-setosa\n",
              "4   5            5.0           3.6            1.4           0.2  Iris-setosa"
            ],
            "text/html": [
              "\n",
              "  <div id=\"df-2dc906c1-1f5b-4bba-b1d0-e9741a16c9d4\">\n",
              "    <div class=\"colab-df-container\">\n",
              "      <div>\n",
              "<style scoped>\n",
              "    .dataframe tbody tr th:only-of-type {\n",
              "        vertical-align: middle;\n",
              "    }\n",
              "\n",
              "    .dataframe tbody tr th {\n",
              "        vertical-align: top;\n",
              "    }\n",
              "\n",
              "    .dataframe thead th {\n",
              "        text-align: right;\n",
              "    }\n",
              "</style>\n",
              "<table border=\"1\" class=\"dataframe\">\n",
              "  <thead>\n",
              "    <tr style=\"text-align: right;\">\n",
              "      <th></th>\n",
              "      <th>Id</th>\n",
              "      <th>SepalLengthCm</th>\n",
              "      <th>SepalWidthCm</th>\n",
              "      <th>PetalLengthCm</th>\n",
              "      <th>PetalWidthCm</th>\n",
              "      <th>Species</th>\n",
              "    </tr>\n",
              "  </thead>\n",
              "  <tbody>\n",
              "    <tr>\n",
              "      <th>0</th>\n",
              "      <td>1</td>\n",
              "      <td>5.1</td>\n",
              "      <td>3.5</td>\n",
              "      <td>1.4</td>\n",
              "      <td>0.2</td>\n",
              "      <td>Iris-setosa</td>\n",
              "    </tr>\n",
              "    <tr>\n",
              "      <th>1</th>\n",
              "      <td>2</td>\n",
              "      <td>4.9</td>\n",
              "      <td>3.0</td>\n",
              "      <td>1.4</td>\n",
              "      <td>0.2</td>\n",
              "      <td>Iris-setosa</td>\n",
              "    </tr>\n",
              "    <tr>\n",
              "      <th>2</th>\n",
              "      <td>3</td>\n",
              "      <td>4.7</td>\n",
              "      <td>3.2</td>\n",
              "      <td>1.3</td>\n",
              "      <td>0.2</td>\n",
              "      <td>Iris-setosa</td>\n",
              "    </tr>\n",
              "    <tr>\n",
              "      <th>3</th>\n",
              "      <td>4</td>\n",
              "      <td>4.6</td>\n",
              "      <td>3.1</td>\n",
              "      <td>1.5</td>\n",
              "      <td>0.2</td>\n",
              "      <td>Iris-setosa</td>\n",
              "    </tr>\n",
              "    <tr>\n",
              "      <th>4</th>\n",
              "      <td>5</td>\n",
              "      <td>5.0</td>\n",
              "      <td>3.6</td>\n",
              "      <td>1.4</td>\n",
              "      <td>0.2</td>\n",
              "      <td>Iris-setosa</td>\n",
              "    </tr>\n",
              "  </tbody>\n",
              "</table>\n",
              "</div>\n",
              "      <button class=\"colab-df-convert\" onclick=\"convertToInteractive('df-2dc906c1-1f5b-4bba-b1d0-e9741a16c9d4')\"\n",
              "              title=\"Convert this dataframe to an interactive table.\"\n",
              "              style=\"display:none;\">\n",
              "        \n",
              "  <svg xmlns=\"http://www.w3.org/2000/svg\" height=\"24px\"viewBox=\"0 0 24 24\"\n",
              "       width=\"24px\">\n",
              "    <path d=\"M0 0h24v24H0V0z\" fill=\"none\"/>\n",
              "    <path d=\"M18.56 5.44l.94 2.06.94-2.06 2.06-.94-2.06-.94-.94-2.06-.94 2.06-2.06.94zm-11 1L8.5 8.5l.94-2.06 2.06-.94-2.06-.94L8.5 2.5l-.94 2.06-2.06.94zm10 10l.94 2.06.94-2.06 2.06-.94-2.06-.94-.94-2.06-.94 2.06-2.06.94z\"/><path d=\"M17.41 7.96l-1.37-1.37c-.4-.4-.92-.59-1.43-.59-.52 0-1.04.2-1.43.59L10.3 9.45l-7.72 7.72c-.78.78-.78 2.05 0 2.83L4 21.41c.39.39.9.59 1.41.59.51 0 1.02-.2 1.41-.59l7.78-7.78 2.81-2.81c.8-.78.8-2.07 0-2.86zM5.41 20L4 18.59l7.72-7.72 1.47 1.35L5.41 20z\"/>\n",
              "  </svg>\n",
              "      </button>\n",
              "      \n",
              "  <style>\n",
              "    .colab-df-container {\n",
              "      display:flex;\n",
              "      flex-wrap:wrap;\n",
              "      gap: 12px;\n",
              "    }\n",
              "\n",
              "    .colab-df-convert {\n",
              "      background-color: #E8F0FE;\n",
              "      border: none;\n",
              "      border-radius: 50%;\n",
              "      cursor: pointer;\n",
              "      display: none;\n",
              "      fill: #1967D2;\n",
              "      height: 32px;\n",
              "      padding: 0 0 0 0;\n",
              "      width: 32px;\n",
              "    }\n",
              "\n",
              "    .colab-df-convert:hover {\n",
              "      background-color: #E2EBFA;\n",
              "      box-shadow: 0px 1px 2px rgba(60, 64, 67, 0.3), 0px 1px 3px 1px rgba(60, 64, 67, 0.15);\n",
              "      fill: #174EA6;\n",
              "    }\n",
              "\n",
              "    [theme=dark] .colab-df-convert {\n",
              "      background-color: #3B4455;\n",
              "      fill: #D2E3FC;\n",
              "    }\n",
              "\n",
              "    [theme=dark] .colab-df-convert:hover {\n",
              "      background-color: #434B5C;\n",
              "      box-shadow: 0px 1px 3px 1px rgba(0, 0, 0, 0.15);\n",
              "      filter: drop-shadow(0px 1px 2px rgba(0, 0, 0, 0.3));\n",
              "      fill: #FFFFFF;\n",
              "    }\n",
              "  </style>\n",
              "\n",
              "      <script>\n",
              "        const buttonEl =\n",
              "          document.querySelector('#df-2dc906c1-1f5b-4bba-b1d0-e9741a16c9d4 button.colab-df-convert');\n",
              "        buttonEl.style.display =\n",
              "          google.colab.kernel.accessAllowed ? 'block' : 'none';\n",
              "\n",
              "        async function convertToInteractive(key) {\n",
              "          const element = document.querySelector('#df-2dc906c1-1f5b-4bba-b1d0-e9741a16c9d4');\n",
              "          const dataTable =\n",
              "            await google.colab.kernel.invokeFunction('convertToInteractive',\n",
              "                                                     [key], {});\n",
              "          if (!dataTable) return;\n",
              "\n",
              "          const docLinkHtml = 'Like what you see? Visit the ' +\n",
              "            '<a target=\"_blank\" href=https://colab.research.google.com/notebooks/data_table.ipynb>data table notebook</a>'\n",
              "            + ' to learn more about interactive tables.';\n",
              "          element.innerHTML = '';\n",
              "          dataTable['output_type'] = 'display_data';\n",
              "          await google.colab.output.renderOutput(dataTable, element);\n",
              "          const docLink = document.createElement('div');\n",
              "          docLink.innerHTML = docLinkHtml;\n",
              "          element.appendChild(docLink);\n",
              "        }\n",
              "      </script>\n",
              "    </div>\n",
              "  </div>\n",
              "  "
            ]
          },
          "metadata": {},
          "execution_count": 6
        }
      ]
    },
    {
      "cell_type": "markdown",
      "source": [
        "Now we will define the data points values, n_iterations we want, and the number of sizes of each data set. Then we will create a new data set using bootstrap sampling. We are using the RandomForest classifier for this model. All the predictions made by the model are evaluated using accuracy scores that are kept in scores variable. \n",
        "\n",
        "Refer to the below code for the same. "
      ],
      "metadata": {
        "id": "qeizDBYBtKEO"
      }
    },
    {
      "cell_type": "code",
      "source": [
        "values = data.values\n",
        "n_iterations = 10\n",
        "n_size = int(len(data) * 1)\n",
        "scores = list()\n",
        "for i in range(n_iterations):\n",
        "    train = resample(values, n_samples=n_size)  \n",
        "    test = np.array([x for x in values if x.tolist() not in train.tolist()])\n",
        "    rfcl = RandomForestClassifier()\n",
        "    rfcl.fit(train[:,:-1], train[:,-1])\n",
        "    predictions = rfcl.predict(test[:,:-1])\n",
        "    score = accuracy_score(test[:,-1], predictions)   \n",
        "    print(score)\n",
        "    scores.append(score)"
      ],
      "metadata": {
        "colab": {
          "base_uri": "https://localhost:8080/"
        },
        "id": "fDoWCIV0tbnm",
        "outputId": "0ddfd4c3-cb27-45a3-a5a8-97dd237bd624"
      },
      "execution_count": null,
      "outputs": [
        {
          "output_type": "stream",
          "name": "stdout",
          "text": [
            "1.0\n",
            "1.0\n",
            "1.0\n",
            "1.0\n",
            "1.0\n",
            "1.0\n",
            "1.0\n",
            "1.0\n",
            "1.0\n",
            "1.0\n"
          ]
        }
      ]
    },
    {
      "cell_type": "markdown",
      "source": [
        "Since we got all scores now we will check the range of the accuracy using histogram visualization. We will be using 95% confidence and will be checking the accuracy. \n",
        "\n",
        "Use the below code to the same. "
      ],
      "metadata": {
        "id": "5CbXbr1At_FZ"
      }
    },
    {
      "cell_type": "code",
      "source": [
        "pyplot.hist(scores)\n",
        "pyplot.show()\n",
        "alpha = 0.95                         \n",
        "p = ((1.0-alpha)/2.0) * 100              \n",
        "lower = max(0.0, np.percentile(scores, p))  \n",
        "p = (alpha+((1.0-alpha)/2.0)) * 100\n",
        "upper = min(1.0, np.percentile(scores, p))\n",
        "print('%.1f confidence interval %.1f%% and %.1f%%' % (alpha*100, lower*100, upper*100))"
      ],
      "metadata": {
        "colab": {
          "base_uri": "https://localhost:8080/",
          "height": 282
        },
        "id": "iim1lvzRuEiJ",
        "outputId": "edcda828-95f5-426b-8587-57920913cbeb"
      },
      "execution_count": null,
      "outputs": [
        {
          "output_type": "display_data",
          "data": {
            "text/plain": [
              "<Figure size 432x288 with 1 Axes>"
            ],
            "image/png": "[encoded data removed]"
          },
          "metadata": {
            "needs_background": "light"
          }
        },
        {
          "output_type": "stream",
          "name": "stdout",
          "text": [
            "95.0 confidence interval 98.6% and 100.0%\n"
          ]
        }
      ]
    },
    {
      "cell_type": "markdown",
      "source": [
        "We explored model performance technique i.e Bootstrap Sampling. We first discussed what it is and how it works. We then implemented the same on the iris data set and generated different data sets, built a random forest model over it, and computed different accuracy scores. Their scores were then used to check the range of accuracy by confidence level of 95%. "
      ],
      "metadata": {
        "id": "TMQCqjpRuMiI"
      }
    },
    {
      "cell_type": "markdown",
      "source": [
        "## 11.4 Advantages and Disadvantages of Bootstrapping\n",
        "\n",
        "Here are some things to consider when deciding whether to use bootstrapping in machine learning:\n",
        "\n",
        "**Advantages**\n",
        "\n",
        "1. Does not require a large sample size. It can be used on small datasets.\n",
        "2. Handles outliers well. \n",
        "\n",
        "**Disadvantages**\n",
        "\n",
        "1. Can require a long amount of computation time.\n",
        "2. Results it provides cannot be understood to be correct with 100% certainty. There will be a margin of error.\n",
        "3. Can fail when distributions are not finite."
      ],
      "metadata": {
        "id": "--R6osXqbh4k"
      }
    },
    {
      "cell_type": "markdown",
      "source": [
        "## 11.5 Exercise- Implementing Bootstrap Sampling in Python\n",
        "\n",
        "Now let’s look at how to implement bootstrap sampling in python. This is an exercise with a set of instructions to be followed to implement bootstrap sampling in python.\n",
        "\n",
        "You will generate some random data with a predetermined mean. To do that you are going to use the NumPy module in Python.\n",
        "\n",
        "Let’s start by importing the necessary modules."
      ],
      "metadata": {
        "id": "DJCmJc3XYm3q"
      }
    },
    {
      "cell_type": "markdown",
      "source": [
        "### **Step 1: Importing the Necessary Modules**\n",
        "\n",
        "The modules we need are :\n",
        "\n",
        "Numpy\n",
        "\n",
        "Random\n",
        "\n",
        "To import these modules, use :"
      ],
      "metadata": {
        "id": "PthvhY4SY5ik"
      }
    },
    {
      "cell_type": "code",
      "source": [
        "#Import the libraries\n",
        "\n",
        "import numpy as np\n",
        "import random"
      ],
      "metadata": {
        "id": "DpaqsNesY6fW"
      },
      "execution_count": null,
      "outputs": []
    },
    {
      "cell_type": "markdown",
      "source": [
        "### **Step 2: Generating Random Data**\n",
        "\n",
        "Now generate a normal distribution with a mean of 300 and with 1000 entries.\n",
        "\n",
        "The code for that is to be written below:"
      ],
      "metadata": {
        "id": "MP2eWEsNZjCi"
      }
    },
    {
      "cell_type": "code",
      "source": [
        "#Write your code here\n",
        "\n",
        "x = np.random.normal(loc= 300.0, size=1000)"
      ],
      "metadata": {
        "id": "TdQtiST1Zjoy"
      },
      "execution_count": null,
      "outputs": []
    },
    {
      "cell_type": "markdown",
      "source": [
        "Now calculate the mean of this data & print it :"
      ],
      "metadata": {
        "id": "hJ6c_RGqZ9nI"
      }
    },
    {
      "cell_type": "code",
      "source": [
        "#Wtite your code here\n",
        "\n",
        "print (np.mean(x))"
      ],
      "metadata": {
        "id": "GExnmJmXZ-7x",
        "colab": {
          "base_uri": "https://localhost:8080/"
        },
        "outputId": "8937080a-b64e-4d50-9aed-ae71ef74dd45"
      },
      "execution_count": null,
      "outputs": [
        {
          "output_type": "stream",
          "name": "stdout",
          "text": [
            "299.94884244590065\n"
          ]
        }
      ]
    },
    {
      "cell_type": "markdown",
      "source": [
        "### **Step 3: Using Bootsrap Sampling to Estimate the Mean**\n",
        "\n",
        "Now create 50 samples of size 4 each to estimate the mean."
      ],
      "metadata": {
        "id": "PhCR1EqlaV1v"
      }
    },
    {
      "cell_type": "markdown",
      "source": [
        "**Note:** The list **sample_mean** will contain the mean for all the 50 samples. "
      ],
      "metadata": {
        "id": "gPeMXeFSa08N"
      }
    },
    {
      "cell_type": "code",
      "source": [
        "#Write your code here using a for loop\n",
        "\n",
        "sample_mean = []\n",
        " \n",
        "for i in range(50):\n",
        "  y = random.sample(x.tolist(), 4)\n",
        "  avg = np.mean(y)\n",
        "  sample_mean.append(avg)"
      ],
      "metadata": {
        "id": "uYiA-suNaux8"
      },
      "execution_count": null,
      "outputs": []
    },
    {
      "cell_type": "markdown",
      "source": [
        "For estimating the mean of the population calculate the mean for sample_mean."
      ],
      "metadata": {
        "id": "gkxu36FMrCWq"
      }
    },
    {
      "cell_type": "code",
      "source": [
        "#Calculate the mean of sample_mean\n",
        "\n",
        "print(np.mean(sample_mean))"
      ],
      "metadata": {
        "id": "K1s2DGcybDXE",
        "colab": {
          "base_uri": "https://localhost:8080/"
        },
        "outputId": "7ee65057-cc27-4186-b12e-f345b673094b"
      },
      "execution_count": null,
      "outputs": [
        {
          "output_type": "stream",
          "name": "stdout",
          "text": [
            "299.9162998748671\n"
          ]
        }
      ]
    },
    {
      "cell_type": "markdown",
      "source": [
        "Congratulations on completing this exercise!\n",
        "\n",
        "One thing that you'll notice is if we run the code in this section again then we will get a different output. This is because each time we run the code, we will generate new samples. However, each time the output will be close to the actual mean (300).\n"
      ],
      "metadata": {
        "id": "ebPz-WM3bOPC"
      }
    },
    {
      "cell_type": "markdown",
      "source": [
        "##11.6 Dataset Based Exercises"
      ],
      "metadata": {
        "id": "kn4Pi8H64Uld"
      }
    },
    {
      "cell_type": "markdown",
      "source": [
        "###**Exercise 1**"
      ],
      "metadata": {
        "id": "ShUUOVPh4ZxJ"
      }
    },
    {
      "cell_type": "markdown",
      "source": [
        "Here we'll be working on the Seeds Dataset which can be found [here.](https://drive.google.com/file/d/1O_leKExsPfIqjmbuQybcC0Cp9jx96qTM/view?usp=sharing)"
      ],
      "metadata": {
        "id": "yTQe9T7p4g1d"
      }
    },
    {
      "cell_type": "markdown",
      "source": [
        "We will be doing bootstrap sampling & will compute the range to check the model performance on unseen data or the production data. First define the libraries and then load the data. "
      ],
      "metadata": {
        "id": "qvIwvnLx5hV-"
      }
    },
    {
      "cell_type": "code",
      "source": [
        "#Write your code here\n",
        "\n",
        "from sklearn.utils import resample\n",
        "from sklearn.ensemble import RandomForestClassifier\n",
        "from sklearn.metrics import accuracy_score\n",
        "from matplotlib import pyplot\n",
        "import numpy as np\n",
        "import pandas as pd\n",
        "data2 = pd.read_csv('/content/seeds.csv')\n",
        "print(data2) "
      ],
      "metadata": {
        "colab": {
          "base_uri": "https://localhost:8080/"
        },
        "id": "V6kmxOi55uTp",
        "outputId": "b35ce75a-3ed6-45ce-f7e6-6d1aff7eb8a2"
      },
      "execution_count": null,
      "outputs": [
        {
          "output_type": "stream",
          "name": "stdout",
          "text": [
            "      Area  Perimeter  Compactness  Kernel.Length  Kernel.Width  \\\n",
            "0    15.26      14.84       0.8710          5.763         3.312   \n",
            "1    14.88      14.57       0.8811          5.554         3.333   \n",
            "2    14.29      14.09       0.9050          5.291         3.337   \n",
            "3    13.84      13.94       0.8955          5.324         3.379   \n",
            "4    16.14      14.99       0.9034          5.658         3.562   \n",
            "..     ...        ...          ...            ...           ...   \n",
            "194  12.19      13.20       0.8783          5.137         2.981   \n",
            "195  11.23      12.88       0.8511          5.140         2.795   \n",
            "196  13.20      13.66       0.8883          5.236         3.232   \n",
            "197  11.84      13.21       0.8521          5.175         2.836   \n",
            "198  12.30      13.34       0.8684          5.243         2.974   \n",
            "\n",
            "     Asymmetry.Coeff  Kernel.Groove  Type  \n",
            "0              2.221          5.220     1  \n",
            "1              1.018          4.956     1  \n",
            "2              2.699          4.825     1  \n",
            "3              2.259          4.805     1  \n",
            "4              1.355          5.175     1  \n",
            "..               ...            ...   ...  \n",
            "194            3.631          4.870     3  \n",
            "195            4.325          5.003     3  \n",
            "196            8.315          5.056     3  \n",
            "197            3.598          5.044     3  \n",
            "198            5.637          5.063     3  \n",
            "\n",
            "[199 rows x 8 columns]\n"
          ]
        }
      ]
    },
    {
      "cell_type": "markdown",
      "source": [
        "Now define the data points values, n_iterations we want, and the number of sizes of each data set. Then create a new data set using bootstrap sampling. Use the RandomForest classifier for this model. All the predictions made by the model are evaluated using accuracy scores that are kept in scores variable. "
      ],
      "metadata": {
        "id": "Wl8fhMYS56sp"
      }
    },
    {
      "cell_type": "code",
      "source": [
        "values = data.values\n",
        "n_iterations = 10\n",
        "n_size = int(len(data) * 1)\n",
        "scores = list()\n",
        "for i in range(n_iterations):\n",
        "    train = resample(values, n_samples=n_size)  \n",
        "    test = np.array([x for x in values if x.tolist() not in train.tolist()])\n",
        "    rfcl = RandomForestClassifier()\n",
        "    rfcl.fit(train[:,:-1], train[:,-1])\n",
        "    predictions = rfcl.predict(test[:,:-1])\n",
        "    score = accuracy_score(test[:,-1], predictions)   \n",
        "    print(score)\n",
        "    scores.append(score)"
      ],
      "metadata": {
        "colab": {
          "base_uri": "https://localhost:8080/"
        },
        "id": "omhdo-Gi7UiT",
        "outputId": "0aa74f58-b420-4292-cf61-9dbea8d1444e"
      },
      "execution_count": null,
      "outputs": [
        {
          "output_type": "stream",
          "name": "stdout",
          "text": [
            "1.0\n",
            "0.9833333333333333\n",
            "1.0\n",
            "1.0\n",
            "1.0\n",
            "1.0\n",
            "1.0\n",
            "1.0\n",
            "1.0\n",
            "1.0\n"
          ]
        }
      ]
    },
    {
      "cell_type": "markdown",
      "source": [
        "Since we got all scores now check the range of the accuracy using histogram visualization. Use 95% confidence check the accuracy. "
      ],
      "metadata": {
        "id": "ncZD4sKQ90Jk"
      }
    },
    {
      "cell_type": "code",
      "source": [
        "pyplot.hist(scores)\n",
        "pyplot.show()\n",
        "alpha = 0.95                         \n",
        "p = ((1.0-alpha)/2.0) * 100              \n",
        "lower = max(0.0, np.percentile(scores, p))  \n",
        "p = (alpha+((1.0-alpha)/2.0)) * 100\n",
        "upper = min(1.0, np.percentile(scores, p))\n",
        "print('%.1f confidence interval %.1f%% and %.1f%%' % (alpha*100, lower*100, upper*100))"
      ],
      "metadata": {
        "colab": {
          "base_uri": "https://localhost:8080/",
          "height": 282
        },
        "id": "fO4DePq59YAb",
        "outputId": "cc5eacfe-d882-4b18-991d-fcd1dbbf72e5"
      },
      "execution_count": null,
      "outputs": [
        {
          "output_type": "display_data",
          "data": {
            "text/plain": [
              "<Figure size 432x288 with 1 Axes>"
            ],
            "image/png": "[encoded data removed]"
          },
          "metadata": {
            "needs_background": "light"
          }
        },
        {
          "output_type": "stream",
          "name": "stdout",
          "text": [
            "95.0 confidence interval 98.7% and 100.0%\n"
          ]
        }
      ]
    },
    {
      "cell_type": "markdown",
      "source": [
        "###**Exercise 2**"
      ],
      "metadata": {
        "id": "tOTJyJNb-q7G"
      }
    },
    {
      "cell_type": "markdown",
      "source": [
        "The link for the Wine Quality dataset can be found [here.](https://drive.google.com/file/d/1Pg1HHPvWV3923P_fKRPLyD6tQBB4MMQy/view?usp=sharing)"
      ],
      "metadata": {
        "id": "MQj35lAJ-zzq"
      }
    },
    {
      "cell_type": "markdown",
      "source": [
        "Perform the same thing as the above exercise with this dataset. "
      ],
      "metadata": {
        "id": "VGVd5vbP_QVd"
      }
    },
    {
      "cell_type": "markdown",
      "source": [
        "We will be doing bootstrap sampling & will compute the range to check the model performance on unseen data or the production data. First define the libraries and then load the data. "
      ],
      "metadata": {
        "id": "FZfQwGwT_Uuf"
      }
    },
    {
      "cell_type": "code",
      "source": [
        "#Write your code here\n",
        "\n",
        "from sklearn.utils import resample\n",
        "from sklearn.ensemble import RandomForestClassifier\n",
        "from sklearn.metrics import accuracy_score\n",
        "from matplotlib import pyplot\n",
        "import numpy as np\n",
        "import pandas as pd\n",
        "data3 = pd.read_csv('/content/winequality-red.csv')\n",
        "print(data3) "
      ],
      "metadata": {
        "colab": {
          "base_uri": "https://localhost:8080/"
        },
        "id": "1eowVVSJ_azj",
        "outputId": "5d017aca-aeec-410c-f90b-4fda2242978f"
      },
      "execution_count": null,
      "outputs": [
        {
          "output_type": "stream",
          "name": "stdout",
          "text": [
            "      fixed acidity  volatile acidity  citric acid  residual sugar  chlorides  \\\n",
            "0               7.4             0.700         0.00             1.9      0.076   \n",
            "1               7.8             0.880         0.00             2.6      0.098   \n",
            "2               7.8             0.760         0.04             2.3      0.092   \n",
            "3              11.2             0.280         0.56             1.9      0.075   \n",
            "4               7.4             0.700         0.00             1.9      0.076   \n",
            "...             ...               ...          ...             ...        ...   \n",
            "1594            6.2             0.600         0.08             2.0      0.090   \n",
            "1595            5.9             0.550         0.10             2.2      0.062   \n",
            "1596            6.3             0.510         0.13             2.3      0.076   \n",
            "1597            5.9             0.645         0.12             2.0      0.075   \n",
            "1598            6.0             0.310         0.47             3.6      0.067   \n",
            "\n",
            "      free sulfur dioxide  total sulfur dioxide  density    pH  sulphates  \\\n",
            "0                    11.0                  34.0  0.99780  3.51       0.56   \n",
            "1                    25.0                  67.0  0.99680  3.20       0.68   \n",
            "2                    15.0                  54.0  0.99700  3.26       0.65   \n",
            "3                    17.0                  60.0  0.99800  3.16       0.58   \n",
            "4                    11.0                  34.0  0.99780  3.51       0.56   \n",
            "...                   ...                   ...      ...   ...        ...   \n",
            "1594                 32.0                  44.0  0.99490  3.45       0.58   \n",
            "1595                 39.0                  51.0  0.99512  3.52       0.76   \n",
            "1596                 29.0                  40.0  0.99574  3.42       0.75   \n",
            "1597                 32.0                  44.0  0.99547  3.57       0.71   \n",
            "1598                 18.0                  42.0  0.99549  3.39       0.66   \n",
            "\n",
            "      alcohol  quality  \n",
            "0         9.4        5  \n",
            "1         9.8        5  \n",
            "2         9.8        5  \n",
            "3         9.8        6  \n",
            "4         9.4        5  \n",
            "...       ...      ...  \n",
            "1594     10.5        5  \n",
            "1595     11.2        6  \n",
            "1596     11.0        6  \n",
            "1597     10.2        5  \n",
            "1598     11.0        6  \n",
            "\n",
            "[1599 rows x 12 columns]\n"
          ]
        }
      ]
    },
    {
      "cell_type": "markdown",
      "source": [
        "Now define the data points values, n_iterations we want, and the number of sizes of each data set. Then create a new data set using bootstrap sampling. Use the RandomForest classifier for this model. All the predictions made by the model are evaluated using accuracy scores that are kept in scores variable."
      ],
      "metadata": {
        "id": "BiUACcaY_Ydz"
      }
    },
    {
      "cell_type": "code",
      "source": [
        "#Write your code here\n",
        "\n",
        "values = data.values\n",
        "n_iterations = 10\n",
        "n_size = int(len(data) * 1)\n",
        "scores = list()\n",
        "for i in range(n_iterations):\n",
        "    train = resample(values, n_samples=n_size)  \n",
        "    test = np.array([x for x in values if x.tolist() not in train.tolist()])\n",
        "    rfcl = RandomForestClassifier()\n",
        "    rfcl.fit(train[:,:-1], train[:,-1])\n",
        "    predictions = rfcl.predict(test[:,:-1])\n",
        "    score = accuracy_score(test[:,-1], predictions)   \n",
        "    print(score)\n",
        "    scores.append(score)"
      ],
      "metadata": {
        "colab": {
          "base_uri": "https://localhost:8080/"
        },
        "id": "Gx_w1B2v_mJT",
        "outputId": "d5d91fa1-df6f-4125-84eb-e4826c7921c0"
      },
      "execution_count": null,
      "outputs": [
        {
          "output_type": "stream",
          "name": "stdout",
          "text": [
            "1.0\n",
            "1.0\n",
            "1.0\n",
            "1.0\n",
            "1.0\n",
            "0.9830508474576272\n",
            "0.9827586206896551\n",
            "1.0\n",
            "1.0\n",
            "1.0\n"
          ]
        }
      ]
    },
    {
      "cell_type": "markdown",
      "source": [
        "Since we got all scores now check the range of the accuracy using histogram visualization. Use 95% confidence check the accuracy. "
      ],
      "metadata": {
        "id": "vFjcIHUG_wC_"
      }
    },
    {
      "cell_type": "code",
      "source": [
        "#Write your code here\n",
        "\n",
        "pyplot.hist(scores)\n",
        "pyplot.show()\n",
        "alpha = 0.95                         \n",
        "p = ((1.0-alpha)/2.0) * 100              \n",
        "lower = max(0.0, np.percentile(scores, p))  \n",
        "p = (alpha+((1.0-alpha)/2.0)) * 100\n",
        "upper = min(1.0, np.percentile(scores, p))\n",
        "print('%.1f confidence interval %.1f%% and %.1f%%' % (alpha*100, lower*100, upper*100))"
      ],
      "metadata": {
        "colab": {
          "base_uri": "https://localhost:8080/",
          "height": 282
        },
        "id": "byAPqjMd_yDn",
        "outputId": "8b8e983f-ecde-40b9-efad-49999d4f8581"
      },
      "execution_count": null,
      "outputs": [
        {
          "output_type": "display_data",
          "data": {
            "text/plain": [
              "<Figure size 432x288 with 1 Axes>"
            ],
            "image/png": "[encoded data removed]"
          },
          "metadata": {
            "needs_background": "light"
          }
        },
        {
          "output_type": "stream",
          "name": "stdout",
          "text": [
            "95.0 confidence interval 98.3% and 100.0%\n"
          ]
        }
      ]
    },
    {
      "cell_type": "code",
      "source": [
        ""
      ],
      "metadata": {
        "id": "wUBEkGC11VjI"
      },
      "execution_count": null,
      "outputs": []
    },
    {
      "cell_type": "code",
      "source": [
        ""
      ],
      "metadata": {
        "id": "6Wgw2lyh1V4W"
      },
      "execution_count": null,
      "outputs": []
    }
  ]
}