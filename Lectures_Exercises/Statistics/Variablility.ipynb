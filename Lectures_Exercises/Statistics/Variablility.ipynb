{
  "nbformat": 4,
  "nbformat_minor": 0,
  "metadata": {
    "colab": {
      "name": "Stats1_Variablility.ipynb",
      "provenance": [],
      "toc_visible": true
    },
    "kernelspec": {
      "name": "python3",
      "display_name": "Python 3"
    },
    "language_info": {
      "name": "python"
    }
  },
  "cells": [
    {
      "cell_type": "markdown",
      "source": [
        "     3.Estimates of Variability"
      ],
      "metadata": {
        "id": "QjwIp694B9-r"
      }
    },
    {
      "cell_type": "markdown",
      "source": [
        "# Definitions of Variability\n",
        "\n",
        "For univariate data, there are several common numerical measures of the spread:"
      ],
      "metadata": {
        "id": "to6Yi8axB98F"
      }
    },
    {
      "cell_type": "markdown",
      "source": [
        "## 1.**Variance**\n",
        "\n",
        "the variance is defined as\n",
        " \n",
        "    s2=∑Ni=1(Yi−Y¯)2/(N−1)\n",
        "\n",
        "where Y¯ is the mean of the data.The variance is roughly the arithmetic average of the squared distance from the mean. Squaring the distance from the mean has the effect of giving greater weight to values that are further from the mean. For example, a point 2 units from the mean adds 4 to the above sum while a point 10 units from the mean adds 100 to the sum. Although the variance is intended to be an overall measure of spread, it can be greatly affected by the tail behavior.\n"
      ],
      "metadata": {
        "id": "dWiCRp73B949"
      }
    },
    {
      "cell_type": "markdown",
      "source": [
        "##  **2.Standard Deviation** \n",
        "\n",
        "the standard deviation is the square root of the variance. That is,\n",
        "\n",
        "    s=∑Ni=1(Yi−Y¯)2/(N−1)‾‾‾‾‾‾‾‾‾‾‾‾‾‾‾‾‾‾‾‾‾√\n",
        "\n",
        "The standard deviation restores the units of the spread to the original data units (the variance squares the units)."
      ],
      "metadata": {
        "id": "SF0H5rumCOM8"
      }
    },
    {
      "cell_type": "markdown",
      "source": [
        "## **3. Range** \n",
        "\n",
        "the range is the largest value minus the smallest value in a data set. Note that this measure is based only on the lowest and highest extreme values in the sample. The spread near the center of the data is not captured at all."
      ],
      "metadata": {
        "id": "cYlQpItlCfE9"
      }
    },
    {
      "cell_type": "markdown",
      "source": [
        "## **4.Average Absolute Deviation** \n",
        "\n",
        "the average absolute deviation (AAD) is defined as\n",
        "\n",
        "    AAD=∑Ni=1(|Yi−Y¯|)/N\n",
        "\n",
        "where Y¯ is the mean of the data and |Y| is the absolute value of Y. This measure does not square the distance from the mean, so it is less affected by extreme observations than are the variance and standard deviation."
      ],
      "metadata": {
        "id": "7B_a3Z5WCjTu"
      }
    },
    {
      "cell_type": "markdown",
      "source": [
        "## **5.Median Absolute Deviation** \n",
        "\n",
        "The median absolute deviation (MAD) is defined as\n",
        "\n",
        "    MAD=median(|Yi−Ỹ |)\n",
        "where Ỹ  is the median of the data and |Y| is the absolute value of Y. This is a variation of the average absolute deviation that is even less affected by extremes in the tail because the data in the tails have less influence on the calculation of the median than they do on the mean."
      ],
      "metadata": {
        "id": "05tJy6jTC_wh"
      }
    },
    {
      "cell_type": "markdown",
      "source": [
        "## **6.Interquartile Range** \n",
        "\n",
        "This is the value of the 75th percentile minus the value of the 25th percentile. This measure of scale attempts to measure the variability of points near the center."
      ],
      "metadata": {
        "id": "RdHCt8nhDO1Z"
      }
    },
    {
      "cell_type": "markdown",
      "source": [
        "## EXCERCISE"
      ],
      "metadata": {
        "id": "Obk3GytODWC0"
      }
    },
    {
      "cell_type": "markdown",
      "source": [
        ""
      ],
      "metadata": {
        "id": "Cg_kyaGKDbPo"
      }
    }
  ]
}