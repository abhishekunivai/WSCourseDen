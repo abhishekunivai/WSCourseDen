{
  "nbformat": 4,
  "nbformat_minor": 0,
  "metadata": {
    "colab": {
      "name": "Data Wrangling 1.ipynb",
      "provenance": [],
      "toc_visible": true,
      "include_colab_link": true
    },
    "kernelspec": {
      "name": "python3",
      "display_name": "Python 3"
    },
    "language_info": {
      "name": "python"
    }
  },
  "cells": [
    {
      "cell_type": "markdown",
      "metadata": {
        "id": "view-in-github",
        "colab_type": "text"
      },
      "source": [
        "<a href=\"https://colab.research.google.com/github/abhishekunivai/WSCourseDen/blob/data_wrangling_nishtha/Lectures_Exercises/Data%20Wrangling/Data_Wrangling_1.ipynb\" target=\"_parent\"><img src=\"https://colab.research.google.com/assets/colab-badge.svg\" alt=\"Open In Colab\"/></a>"
      ]
    },
    {
      "cell_type": "markdown",
      "source": [
        "#**Data Wrangling**"
      ],
      "metadata": {
        "id": "_u_eXNq0ogR_"
      }
    },
    {
      "cell_type": "markdown",
      "source": [
        "Data wrangling can be defined as the process of cleaning, organizing, and transforming raw data into the desired format for analysts to use for prompt decision-making. Also known as data cleaning or data munging, data wrangling enables businesses to tackle more complex data in less time, produce more accurate results, and make better decisions. \n",
        "\n",
        "Some examples of data wrangling include:\n",
        "\n",
        "1. Merging multiple data sources into a single dataset for analysis.\n",
        "2. Identifying gaps in data (for example, empty cells in a spreadsheet) and either filling or deleting them.\n",
        "3. Deleting data that’s either unnecessary or irrelevant to the project you’re working on.\n",
        "4. Identifying extreme outliers in data and either explaining the discrepancies or removing them so that analysis can take place.\n",
        "\n",
        "In this course we're going to understand how to perform *Data Wrangling* in python. But before we proceed further, let us revisit some basic of Python to brush up our coding skills."
      ],
      "metadata": {
        "id": "icIF_S3sqTO0"
      }
    },
    {
      "cell_type": "markdown",
      "source": [
        "##**1. Introduction to Basic Python**"
      ],
      "metadata": {
        "id": "oxvtxovDofkK"
      }
    },
    {
      "cell_type": "markdown",
      "source": [
        "###1.1 Basic Datatypes\n",
        "\n",
        "In this section, we will go over simple data types in Python. These are some of the\n",
        "essential building blocks for handling information in Python. The data types we will\n",
        "learn are strings, integers, floats, and other non–whole number types."
      ],
      "metadata": {
        "id": "AucYbnn2rVct"
      }
    },
    {
      "cell_type": "markdown",
      "source": [
        "####**1.1.1 Strings**"
      ],
      "metadata": {
        "id": "Q0FerU6ctxnJ"
      }
    },
    {
      "cell_type": "markdown",
      "source": [
        "A *string* is basically text and it is denoted by\n",
        "using quotes (Single or double). Strings can contain numbers, letters, and symbols. Essentially, in Python, strings are arrays of bytes representing Unicode characters.\n",
        "\n",
        "An example of a String is:\n",
        "\n",
        "*'cat'*\n",
        "\n",
        "*'This is a string.'*\n",
        "\n",
        "*'5'*\n",
        "\n",
        "*'walking'*\n",
        "\n",
        "*'$GOObarBaz340 '*"
      ],
      "metadata": {
        "id": "q8aNlgamt5FD"
      }
    },
    {
      "cell_type": "code",
      "source": [
        "'An example of a string'"
      ],
      "metadata": {
        "colab": {
          "base_uri": "https://localhost:8080/",
          "height": 35
        },
        "id": "NQIvL_a7ukgy",
        "outputId": "948f1e52-e16c-4de6-8e62-8e964f282320"
      },
      "execution_count": null,
      "outputs": [
        {
          "output_type": "execute_result",
          "data": {
            "text/plain": [
              "'An example of a string'"
            ],
            "application/vnd.google.colaboratory.intrinsic+json": {
              "type": "string"
            }
          },
          "metadata": {},
          "execution_count": 3
        }
      ]
    },
    {
      "cell_type": "markdown",
      "source": [
        "**Assigning & Printing a String**"
      ],
      "metadata": {
        "id": "CSqxInN8vJyf"
      }
    },
    {
      "cell_type": "code",
      "source": [
        "x = 'hello' #Assigning a string to a variable."
      ],
      "metadata": {
        "id": "kqDV9jUXvZFu"
      },
      "execution_count": null,
      "outputs": []
    },
    {
      "cell_type": "code",
      "source": [
        "x"
      ],
      "metadata": {
        "colab": {
          "base_uri": "https://localhost:8080/",
          "height": 35
        },
        "id": "i51eZpwkvcjW",
        "outputId": "74b6babd-5130-46db-f3fb-bef7868b148f"
      },
      "execution_count": null,
      "outputs": [
        {
          "output_type": "execute_result",
          "data": {
            "text/plain": [
              "'hello'"
            ],
            "application/vnd.google.colaboratory.intrinsic+json": {
              "type": "string"
            }
          },
          "metadata": {},
          "execution_count": 5
        }
      ]
    },
    {
      "cell_type": "code",
      "source": [
        "print(x)"
      ],
      "metadata": {
        "colab": {
          "base_uri": "https://localhost:8080/"
        },
        "id": "PucWsPSKvd_h",
        "outputId": "b3807829-0465-4b92-8e0d-cc7edafb6ed7"
      },
      "execution_count": null,
      "outputs": [
        {
          "output_type": "stream",
          "name": "stdout",
          "text": [
            "hello\n"
          ]
        }
      ]
    },
    {
      "cell_type": "markdown",
      "source": [
        "Another example of printing:"
      ],
      "metadata": {
        "id": "U6I5wTXKwFsT"
      }
    },
    {
      "cell_type": "code",
      "source": [
        "num = '12'\n",
        "name = 'Sam'"
      ],
      "metadata": {
        "id": "FUAqkggowHua"
      },
      "execution_count": null,
      "outputs": []
    },
    {
      "cell_type": "code",
      "source": [
        "#Format 1\n",
        "\n",
        "print('My number is: {one}, and my name is: {two}'.format(one=num,two=name))"
      ],
      "metadata": {
        "colab": {
          "base_uri": "https://localhost:8080/"
        },
        "id": "buTrN8t3wJyQ",
        "outputId": "5c189f39-bfbd-4dcc-e4fb-83836c3cd422"
      },
      "execution_count": null,
      "outputs": [
        {
          "output_type": "stream",
          "name": "stdout",
          "text": [
            "My number is: 12, and my name is: Sam\n"
          ]
        }
      ]
    },
    {
      "cell_type": "code",
      "source": [
        "#Format 2\n",
        "\n",
        "print('My number is: {}, and my name is: {}'.format(num,name))"
      ],
      "metadata": {
        "colab": {
          "base_uri": "https://localhost:8080/"
        },
        "id": "eJJ7W319wUQK",
        "outputId": "1510bfba-1e04-4a52-d5f2-de12eed40979"
      },
      "execution_count": null,
      "outputs": [
        {
          "output_type": "stream",
          "name": "stdout",
          "text": [
            "My number is: 12, and my name is: Sam\n"
          ]
        }
      ]
    },
    {
      "cell_type": "markdown",
      "source": [
        "**Using split() in Python**"
      ],
      "metadata": {
        "id": "_WHokPtvp722"
      }
    },
    {
      "cell_type": "markdown",
      "source": [
        "If you look at the string **'cat,dog,horse'**, it looks like it is a list saved in a string. It’s actually a single value, but with the Python string’s built-in split method we can divide the string into smaller pieces by splitting it on the comma character, like so:\n"
      ],
      "metadata": {
        "id": "o1KBwHbOqF91"
      }
    },
    {
      "cell_type": "code",
      "source": [
        "#use .split() to split the string based on a delimiter\n",
        "'cat,dog,horse'.split(',')"
      ],
      "metadata": {
        "colab": {
          "base_uri": "https://localhost:8080/"
        },
        "id": "9bcj8m84qS4m",
        "outputId": "1a5b3cc7-aa7b-43c0-dd68-fbc2514ad3c8"
      },
      "execution_count": null,
      "outputs": [
        {
          "output_type": "execute_result",
          "data": {
            "text/plain": [
              "['cat', 'dog', 'horse']"
            ]
          },
          "metadata": {},
          "execution_count": 1
        }
      ]
    },
    {
      "cell_type": "markdown",
      "source": [
        "We can split a string against any separator which needs to be specified within the brackets."
      ],
      "metadata": {
        "id": "tdKtwabjqwsj"
      }
    },
    {
      "cell_type": "markdown",
      "source": [
        "#####Q1 String slicing\n",
        "Write a Python function to get a string made of its first three characters of a specified string. If the length of the string is less than 3 then return the original string.\n",
        "\n",
        "first_three('ipy') -> ipy\n",
        "\n",
        "first_three('python') -> pyt\n"
      ],
      "metadata": {
        "id": "xIXnqHCnbV80"
      }
    },
    {
      "cell_type": "code",
      "source": [
        "\"\"\"Solution\"\"\"\n",
        "def first_three(str):\n",
        "\treturn str[:3] if len(str) > 3 else str\n",
        "\n",
        "print(first_three('ipy'))\n",
        "print(first_three('python'))\n",
        "print(first_three('py'))"
      ],
      "metadata": {
        "colab": {
          "base_uri": "https://localhost:8080/"
        },
        "id": "c_fPUBCdbwNT",
        "outputId": "542735d1-15aa-402e-eaab-71421ef8a5c3"
      },
      "execution_count": null,
      "outputs": [
        {
          "output_type": "stream",
          "name": "stdout",
          "text": [
            "ipy\n",
            "pyt\n",
            "py\n"
          ]
        }
      ]
    },
    {
      "cell_type": "markdown",
      "source": [
        "#####Q2 String Sorting\n",
        "Write a Python program to sort a string lexicographically."
      ],
      "metadata": {
        "id": "7XDWYJ6wb0Nl"
      }
    },
    {
      "cell_type": "code",
      "source": [
        "def lexicographi_sort(s):\n",
        "    return sorted(sorted(s), key=str.upper)\n",
        "\n",
        "print(lexicographi_sort('w3resource'))\n",
        "print(lexicographi_sort('quickbrown'))"
      ],
      "metadata": {
        "id": "7FKjufGgcEBi"
      },
      "execution_count": null,
      "outputs": []
    },
    {
      "cell_type": "markdown",
      "source": [
        "#####Q3 String cleaning\n",
        "Write a Python program to remove a newline in Python. \n"
      ],
      "metadata": {
        "id": "YK5mwDQZcIVZ"
      }
    },
    {
      "cell_type": "code",
      "source": [
        "str1='Python Exercises\\n'\n",
        "print(str1)\n",
        "print(\"-\"*20)\n",
        "print(str1.rstrip())\n",
        "print(\"-\"*20)\n",
        "str1='\\nPython Exercises\\n'\n",
        "print(str1)\n",
        "print(\"-\"*20)\n",
        "print(str1.strip())"
      ],
      "metadata": {
        "colab": {
          "base_uri": "https://localhost:8080/"
        },
        "id": "ZUuBGI_-cYpp",
        "outputId": "e591db1c-f9ec-46a2-a8d2-daaa4739a905"
      },
      "execution_count": null,
      "outputs": [
        {
          "output_type": "stream",
          "name": "stdout",
          "text": [
            "Python Exercises\n",
            "\n",
            "--------------------\n",
            "Python Exercises\n",
            "--------------------\n",
            "\n",
            "Python Exercises\n",
            "\n",
            "--------------------\n",
            "Python Exercises\n"
          ]
        }
      ]
    },
    {
      "cell_type": "markdown",
      "source": [
        "#####Q4 Count Occurences\n",
        "Write a Python program to count occurrences of a substring in a string."
      ],
      "metadata": {
        "id": "ajTyMX4fhHiw"
      }
    },
    {
      "cell_type": "code",
      "source": [
        "str1 = 'The quick brown fox jumps over the lazy dog.'\n",
        "\n",
        "print(\"Count of Fox: \",str1.lower().count(\"fox\"))\n",
        "print(\"Count of The: \",str1.lower().count(\"the\"))"
      ],
      "metadata": {
        "colab": {
          "base_uri": "https://localhost:8080/"
        },
        "id": "AgEj8kr6Qyr5",
        "outputId": "ac5963a2-e54e-4422-e27e-d33f0e243b31"
      },
      "execution_count": null,
      "outputs": [
        {
          "output_type": "stream",
          "name": "stdout",
          "text": [
            "Count of Fox:  1\n",
            "Count of The:  2\n"
          ]
        }
      ]
    },
    {
      "cell_type": "markdown",
      "source": [
        "#####Q5 Reverse String\n",
        "Write a Python program to reverse a string. \n"
      ],
      "metadata": {
        "id": "8SvfAUjPhR1L"
      }
    },
    {
      "cell_type": "code",
      "source": [
        "def reverse_string(str1):\n",
        "    return ''.join(reversed(str1))\n",
        "print()\n",
        "print(reverse_string(\"abcdef\"))\n",
        "print(reverse_string(\"Python Exercises.\"))\n",
        "print()"
      ],
      "metadata": {
        "colab": {
          "base_uri": "https://localhost:8080/"
        },
        "id": "PhSEZ8Uwhtk_",
        "outputId": "973e2fa4-c607-4467-8e22-1d5e6eb64b76"
      },
      "execution_count": null,
      "outputs": [
        {
          "output_type": "stream",
          "name": "stdout",
          "text": [
            "\n",
            "fedcba\n",
            ".sesicrexE nohtyP\n",
            "\n"
          ]
        }
      ]
    },
    {
      "cell_type": "markdown",
      "source": [
        "####**1.1.2 Integer**\n",
        "\n"
      ],
      "metadata": {
        "id": "VwaUeVq3waWV"
      }
    },
    {
      "cell_type": "markdown",
      "source": [
        "An *integer* is a whole number. \n",
        "\n",
        "Example: 5, 0, -10, 100, -9999, 25842\n",
        "\n",
        "If you enter those into your Python interpreter, the interpreter will return them back to you.\n",
        "\n",
        "Notice in the string example in the previous section, we had a '5'. If a number is entered within quotes, Python will process the value as a string. In the following\n",
        "example, the first value and second value are not equal:\n",
        "\n",
        "To test this, enter the following into your interpreter:\n",
        "\n"
      ],
      "metadata": {
        "id": "ZZfsLGgcw1bd"
      }
    },
    {
      "cell_type": "code",
      "source": [
        "5 == '5'\n"
      ],
      "metadata": {
        "colab": {
          "base_uri": "https://localhost:8080/"
        },
        "id": "wYm0mcfTxZfA",
        "outputId": "f5d571bf-b719-41ea-f86c-d4fabc693884"
      },
      "execution_count": null,
      "outputs": [
        {
          "output_type": "execute_result",
          "data": {
            "text/plain": [
              "False"
            ]
          },
          "metadata": {},
          "execution_count": 11
        }
      ]
    },
    {
      "cell_type": "markdown",
      "source": [
        "In the previous statement, we asked Python whether 5 the integer was the same as '5' the string. What did Python return? **False.**\n",
        "\n",
        "Basically, the numbers stored as Strings are characters and you cannot peroform calculations on characters. We need numbers for that. "
      ],
      "metadata": {
        "id": "gGCMBRtexi0h"
      }
    },
    {
      "cell_type": "markdown",
      "source": [
        ""
      ],
      "metadata": {
        "id": "5HZENtPVlS0I"
      }
    },
    {
      "cell_type": "markdown",
      "source": [
        "####**1.1.3 Floats**"
      ],
      "metadata": {
        "id": "g3dErQDWzA25"
      }
    },
    {
      "cell_type": "markdown",
      "source": [
        "A *float* value is a decimal value.\n",
        "\n",
        "When a non–whole number is used in Python, it defaults to turning the value into a float. A float uses the built-in floating-point data type for your Python version. This means Python stores an approximation of the numeric value—an approximation that reflects only a certain level of precision.\n",
        "\n",
        "Notice the difference between the following two numbers when you enter them into\n",
        "your Python interpreter:"
      ],
      "metadata": {
        "id": "JYdJyyYfzGd7"
      }
    },
    {
      "cell_type": "code",
      "source": [
        "2\n",
        "2.0"
      ],
      "metadata": {
        "id": "yiAOVIsbzYjX"
      },
      "execution_count": null,
      "outputs": []
    },
    {
      "cell_type": "markdown",
      "source": [
        ""
      ],
      "metadata": {
        "id": "PoHBcSuold7O"
      }
    },
    {
      "cell_type": "markdown",
      "source": [
        "####**1.1.4 Basic Operations on Numbers - INT & Float** "
      ],
      "metadata": {
        "id": "_9b0ELQCz5li"
      }
    },
    {
      "cell_type": "markdown",
      "source": [
        "Now, let's see some basic operations that can be performed on Integers."
      ],
      "metadata": {
        "id": "k7wKdv4Ry4eW"
      }
    },
    {
      "cell_type": "code",
      "source": [
        "#Addition\n",
        "\n",
        "x = 10 + 56\n",
        "y = 0.5 + 9.9\n",
        "\n",
        "print(x)\n",
        "print(y)"
      ],
      "metadata": {
        "colab": {
          "base_uri": "https://localhost:8080/"
        },
        "id": "Od7w0gV6z-jn",
        "outputId": "b6219a53-a2cf-4c3b-caad-25fcacbfe4eb"
      },
      "execution_count": null,
      "outputs": [
        {
          "output_type": "stream",
          "name": "stdout",
          "text": [
            "66\n",
            "10.4\n"
          ]
        }
      ]
    },
    {
      "cell_type": "code",
      "source": [
        "#Subtraction\n",
        "\n",
        "x = 23 - 47\n",
        "y = 81.9 - 66.75\n",
        "\n",
        "print(x)\n",
        "print(y)"
      ],
      "metadata": {
        "colab": {
          "base_uri": "https://localhost:8080/"
        },
        "id": "qmW9Z6Jy0Q5j",
        "outputId": "75f24ac4-ab07-4fa7-b012-3d89e4918086"
      },
      "execution_count": null,
      "outputs": [
        {
          "output_type": "stream",
          "name": "stdout",
          "text": [
            "-24\n",
            "15.150000000000006\n"
          ]
        }
      ]
    },
    {
      "cell_type": "code",
      "source": [
        "#Multiplication\n",
        "\n",
        "x = 61 * 10\n",
        "y = 9.65 * 0.25\n",
        "\n",
        "print(x)\n",
        "print(y)"
      ],
      "metadata": {
        "colab": {
          "base_uri": "https://localhost:8080/"
        },
        "id": "CxoUDy930dZo",
        "outputId": "2044b273-6290-4802-9800-df797fc493ed"
      },
      "execution_count": null,
      "outputs": [
        {
          "output_type": "stream",
          "name": "stdout",
          "text": [
            "610\n",
            "2.4125\n"
          ]
        }
      ]
    },
    {
      "cell_type": "code",
      "source": [
        "#Division\n",
        "\n",
        "x = 100 / 25\n",
        "y = 100.0/12.5\n",
        "\n",
        "print(x)\n",
        "print(y)"
      ],
      "metadata": {
        "colab": {
          "base_uri": "https://localhost:8080/"
        },
        "id": "HL80k6uP0rWi",
        "outputId": "acba5eb9-2a02-4d42-d510-94c3a129696f"
      },
      "execution_count": null,
      "outputs": [
        {
          "output_type": "stream",
          "name": "stdout",
          "text": [
            "4.0\n",
            "8.0\n"
          ]
        }
      ]
    },
    {
      "cell_type": "code",
      "source": [
        "#Modulus for Remainder\n",
        "\n",
        "x = 30 % 10\n",
        "y = 999.99 % 2.50\n",
        "\n",
        "print(x)\n",
        "print(y)"
      ],
      "metadata": {
        "colab": {
          "base_uri": "https://localhost:8080/"
        },
        "id": "pilait1S06sf",
        "outputId": "17c4a442-f196-44b2-d757-459e13afe1fe"
      },
      "execution_count": null,
      "outputs": [
        {
          "output_type": "stream",
          "name": "stdout",
          "text": [
            "0\n",
            "2.490000000000009\n"
          ]
        }
      ]
    },
    {
      "cell_type": "code",
      "source": [
        "#Power Indices\n",
        "\n",
        "x = 5 ** 3\n",
        "y = 17.5 ** 0.1\n",
        "\n",
        "print(x)\n",
        "print(y)"
      ],
      "metadata": {
        "colab": {
          "base_uri": "https://localhost:8080/"
        },
        "id": "4TjBJXaI1KBz",
        "outputId": "9b86f584-06e0-4177-85ad-3b5adecbe40e"
      },
      "execution_count": null,
      "outputs": [
        {
          "output_type": "stream",
          "name": "stdout",
          "text": [
            "125\n",
            "1.331385445092909\n"
          ]
        }
      ]
    },
    {
      "cell_type": "code",
      "source": [
        "#Brackets for BODMAS\n",
        "\n",
        "x = (2 + 3) * (5 + 2.5)\n",
        "\n",
        "print(x)"
      ],
      "metadata": {
        "colab": {
          "base_uri": "https://localhost:8080/"
        },
        "id": "NpMvkpgN1X8P",
        "outputId": "bc011ee9-259d-42fa-e996-596a2dbb5e7b"
      },
      "execution_count": null,
      "outputs": [
        {
          "output_type": "stream",
          "name": "stdout",
          "text": [
            "37.5\n"
          ]
        }
      ]
    },
    {
      "cell_type": "markdown",
      "source": [
        "#####1.1.4.1 Integer Exercises"
      ],
      "metadata": {
        "id": "eOmL_PR_lhd6"
      }
    },
    {
      "cell_type": "markdown",
      "source": [
        "#####Q1 Integer Sum\n",
        "Write a Python program to sum of the first n positive integers. "
      ],
      "metadata": {
        "id": "ZbAOcevEj_BS"
      }
    },
    {
      "cell_type": "code",
      "source": [
        "\"\"\"\n",
        "Solution\n",
        "\"\"\"\n",
        "n = int(input(\"Input a number: \"))\n",
        "sum_num = (n * (n + 1)) / 2\n",
        "print(\"Sum of the first\", n ,\"positive integers:\", sum_num)"
      ],
      "metadata": {
        "colab": {
          "base_uri": "https://localhost:8080/"
        },
        "id": "u2arQzmdj-Eo",
        "outputId": "a1d88825-19c9-469d-b87e-54b553105cdd"
      },
      "execution_count": null,
      "outputs": [
        {
          "output_type": "stream",
          "name": "stdout",
          "text": [
            "Input a number: 5\n",
            "Sum of the first 5 positive integers: 15.0\n"
          ]
        }
      ]
    },
    {
      "cell_type": "markdown",
      "source": [
        "#####Q2 Sum of All Divisors\n",
        "Write a Python program to returns sum of all divisors of a number.\n",
        "Test Data:\n",
        "\n",
        "If number = 8\n",
        "\n",
        "If number = 12\n",
        "\n",
        "Expected Output:\n",
        "\n",
        "7\n",
        "\n",
        "16 "
      ],
      "metadata": {
        "id": "40trHU__Q2ru"
      }
    },
    {
      "cell_type": "code",
      "source": [
        "\"\"\"\n",
        "Solution\n",
        "\"\"\"\n",
        "def sum_div(number):\n",
        "    divisors = [1]\n",
        "    for i in range(2, number):\n",
        "        if (number % i)==0:\n",
        "            divisors.append(i)\n",
        "    return sum(divisors)\n",
        "print(sum_div(8))\n",
        "print(sum_div(12))"
      ],
      "metadata": {
        "colab": {
          "base_uri": "https://localhost:8080/"
        },
        "id": "KYrwT-PAcz6q",
        "outputId": "9c3c6d67-8d77-4bcd-aa75-de27555df936"
      },
      "execution_count": null,
      "outputs": [
        {
          "output_type": "stream",
          "name": "stdout",
          "text": [
            "7\n",
            "16\n"
          ]
        }
      ]
    },
    {
      "cell_type": "markdown",
      "source": [
        "#####Q3 Difference of Natural Numbers\n",
        "Write a Python program to calculate the difference between the squared sum of first n natural numbers and the sum of squared first n natural numbers.(default value of number=2). \n",
        "\n",
        "Test Data: \n",
        "If sum_difference(12) \n",
        "\n",
        "Expected Output : 5434 \n",
        "\n"
      ],
      "metadata": {
        "id": "pKj5gaQQRAxz"
      }
    },
    {
      "cell_type": "code",
      "source": [
        "\"\"\"\n",
        "Solution\n",
        "\"\"\"\n",
        "def sum_difference(n=2):\n",
        "    sum_of_squares = 0\n",
        "    square_of_sum = 0\n",
        "    for num in range(1, n+1):\n",
        "        sum_of_squares += num * num\n",
        "        square_of_sum += num\n",
        "\n",
        "    square_of_sum = square_of_sum ** 2\n",
        "\n",
        "    return square_of_sum - sum_of_squares\n",
        "\n",
        "\n",
        "print(sum_difference(12))\n"
      ],
      "metadata": {
        "colab": {
          "base_uri": "https://localhost:8080/"
        },
        "id": "zqywpuOfdqMD",
        "outputId": "529b8800-d2e8-4830-909b-157b493527a5"
      },
      "execution_count": null,
      "outputs": [
        {
          "output_type": "stream",
          "name": "stdout",
          "text": [
            "5434\n"
          ]
        }
      ]
    },
    {
      "cell_type": "markdown",
      "source": [
        "#####Q4 Raising Base to Power\n",
        "\n",
        "Write a Python program to calculate the sum of all digits of the base to the specified power. \n",
        "\n",
        "Test Data: If power_base_sum(2, 100) \n",
        "\n",
        "Expected Output : 115"
      ],
      "metadata": {
        "id": "7zU0QDxXRByG"
      }
    },
    {
      "cell_type": "code",
      "source": [
        "\"\"\"\n",
        "Solution\n",
        "\"\"\"\n",
        "def power_base_sum(base, power):\n",
        "    return sum([int(i) for i in str(pow(base, power))])\n",
        "\n",
        "\n",
        "print(power_base_sum(2, 100))\n",
        "print(power_base_sum(8, 10))"
      ],
      "metadata": {
        "colab": {
          "base_uri": "https://localhost:8080/"
        },
        "id": "dzxDFlOrduVI",
        "outputId": "f6beb166-511e-4018-e686-7319c4193e23"
      },
      "execution_count": null,
      "outputs": [
        {
          "output_type": "stream",
          "name": "stdout",
          "text": [
            "115\n",
            "37\n"
          ]
        }
      ]
    },
    {
      "cell_type": "markdown",
      "source": [
        "#####Q5 Abundant & Excessive Numbers\n",
        "\n",
        "Write a Python program to find out, if the given number is abundant. \n",
        "\n",
        "Note: In number theory, an abundant number or excessive number is a number for which the sum of its proper divisors is greater than the number itself. \n",
        "\n",
        "The integer 12 is the first abundant number. Its proper divisors are 1, 2, 3, 4 and 6 for a total of 16. \n",
        "\n",
        "Test Data: \n",
        "If is_abundant(12) \n",
        "\n",
        "If is_abundant(13) \n",
        "\n",
        "Expected Output: True/False"
      ],
      "metadata": {
        "id": "TLaBXGr-RCO9"
      }
    },
    {
      "cell_type": "code",
      "source": [
        "\"\"\"\n",
        "Solution\n",
        "\"\"\"\n",
        "def is_abundant(n):\n",
        "    fctr_sum = sum([fctr for fctr in range(1, n) if n % fctr == 0])\n",
        "    return fctr_sum > n\n",
        "print(is_abundant(12))\n",
        "print(is_abundant(13))"
      ],
      "metadata": {
        "colab": {
          "base_uri": "https://localhost:8080/"
        },
        "id": "0jNS40loegeC",
        "outputId": "7a11b37d-e84c-4f94-8048-2c6d006b9718"
      },
      "execution_count": null,
      "outputs": [
        {
          "output_type": "stream",
          "name": "stdout",
          "text": [
            "True\n",
            "False\n"
          ]
        }
      ]
    },
    {
      "cell_type": "code",
      "source": [
        ""
      ],
      "metadata": {
        "id": "oixoJmc7khlq"
      },
      "execution_count": null,
      "outputs": []
    },
    {
      "cell_type": "markdown",
      "source": [
        "#####1.1.4.2 Float Exercises"
      ],
      "metadata": {
        "id": "y-xPfW62l36e"
      }
    },
    {
      "cell_type": "markdown",
      "source": [
        "#####Q1 Convert Distance Measurements\n",
        "Write a Python program to convert the distance (in feet) to inches, yards, and miles."
      ],
      "metadata": {
        "id": "k9RN6Ia3khA3"
      }
    },
    {
      "cell_type": "code",
      "source": [
        "\"\"\"\n",
        "Solution\n",
        "\"\"\"\n",
        "d_ft = int(input(\"Input distance in feet: \"))\n",
        "d_inches = d_ft * 12\n",
        "d_yards = d_ft / 3.0\n",
        "d_miles = d_ft / 5280.0\n",
        "\n",
        "print(\"The distance in inches is %i inches.\" % d_inches)\n",
        "print(\"The distance in yards is %.2f yards.\" % d_yards)\n",
        "print(\"The distance in miles is %.2f miles.\" % d_miles)\n"
      ],
      "metadata": {
        "id": "f4zlUZLsA2Ze"
      },
      "execution_count": null,
      "outputs": []
    },
    {
      "cell_type": "markdown",
      "source": [
        "#####Q2 Parsing String to Float & INT\n",
        "\n",
        "Write a Python program to parse a string to Float or Integer.\n",
        "\n",
        "Test Data\n",
        "\n",
        "n = \"246.2458\""
      ],
      "metadata": {
        "id": "OWvCC0KlRkIs"
      }
    },
    {
      "cell_type": "code",
      "source": [
        "\"\"\"\n",
        "Solution\n",
        "\"\"\"\n",
        "n = \"246.2458\"\n",
        "print(float(n))\n",
        "print(int(float(n)))"
      ],
      "metadata": {
        "id": "6dbsWpGxA2DK"
      },
      "execution_count": null,
      "outputs": []
    },
    {
      "cell_type": "markdown",
      "source": [
        "#####Q3 Floating Point Numbers\n",
        "Write a Python program to round a floating-point number to specified number decimal places."
      ],
      "metadata": {
        "id": "Oou5QJstRkbV"
      }
    },
    {
      "cell_type": "code",
      "source": [
        "\"\"\"\n",
        "Solution\n",
        "\"\"\"\n",
        "number = 212.374\n",
        "d_places = int(input(\"Input number of desired decimal places \"))\n",
        "print('\\nThe number comes to %f' % number)\n",
        "print(f'The trimmed number comes to %.{d_places}f' % number)"
      ],
      "metadata": {
        "colab": {
          "base_uri": "https://localhost:8080/"
        },
        "id": "UJUkEowjA1gQ",
        "outputId": "45d27892-5036-45d8-8e39-3374b222b3b8"
      },
      "execution_count": null,
      "outputs": [
        {
          "output_type": "stream",
          "name": "stdout",
          "text": [
            "Input number of desired decimal places 1\n",
            "\n",
            "The number comes to 212.374000\n",
            "The trimmed number comes to 212.4\n"
          ]
        }
      ]
    },
    {
      "cell_type": "markdown",
      "source": [
        "#####Q4 NaN & Infinity \n",
        "Write a Python program to illustrate NaN & Infinity values using float."
      ],
      "metadata": {
        "id": "8qY-0UXaRkot"
      }
    },
    {
      "cell_type": "code",
      "source": [
        "\"\"\"\n",
        "Solution\n",
        "\"\"\"\n",
        "# for infinity\n",
        "print(float(\"InF\"))\n",
        "print(float(\"InFiNiTy\"))\n",
        " \n",
        "# for NaN\n",
        "print(float(\"nan\"))\n",
        "print(float(\"NaN\"))"
      ],
      "metadata": {
        "colab": {
          "base_uri": "https://localhost:8080/"
        },
        "id": "9NT1zHNAA1I0",
        "outputId": "1042500a-6929-4e0e-a4b5-6e75d417dae6"
      },
      "execution_count": null,
      "outputs": [
        {
          "output_type": "stream",
          "name": "stdout",
          "text": [
            "inf\n",
            "inf\n",
            "nan\n",
            "nan\n"
          ]
        }
      ]
    },
    {
      "cell_type": "markdown",
      "source": [
        "#####Q5 Calculate Hypotenuse\n",
        "Write a Python program to calculate the hypotenuse of a right angled triangle."
      ],
      "metadata": {
        "id": "6kFZf25nRk2q"
      }
    },
    {
      "cell_type": "code",
      "source": [
        "\"\"\"\n",
        "Solution\n",
        "\"\"\"\n",
        "from math import sqrt\n",
        "print(\"Input lengths of shorter triangle sides:\")\n",
        "a = float(input(\"a: \"))\n",
        "b = float(input(\"b: \"))\n",
        "c = sqrt(a**2 + b**2)\n",
        "print(\"The length of the hypotenuse is:\", c )"
      ],
      "metadata": {
        "id": "J0fx9l8nAxjH"
      },
      "execution_count": null,
      "outputs": []
    },
    {
      "cell_type": "markdown",
      "source": [
        "####**1.1.5 List**\n",
        "\n"
      ],
      "metadata": {
        "id": "4YiSt0_70QYL"
      }
    },
    {
      "cell_type": "markdown",
      "source": [
        "A list is a group of values that have some relationship in common. You use a list in Python similarly to how you would use it in normal language. In Python, you can\n",
        "create a list of items by placing them within square brackets([]) and separating them with commas.\n",
        "\n",
        "Let’s make a list of groceries in Python:"
      ],
      "metadata": {
        "id": "-OikpKy31_NL"
      }
    },
    {
      "cell_type": "code",
      "source": [
        "['milk', 'lettuce', 'eggs']"
      ],
      "metadata": {
        "colab": {
          "base_uri": "https://localhost:8080/"
        },
        "id": "XsggeZke2NqF",
        "outputId": "b1d8da94-e6a2-476a-fcbd-e143ce7b65bc"
      },
      "execution_count": null,
      "outputs": [
        {
          "output_type": "execute_result",
          "data": {
            "text/plain": [
              "['milk', 'lettuce', 'eggs']"
            ]
          },
          "metadata": {},
          "execution_count": 27
        }
      ]
    },
    {
      "cell_type": "markdown",
      "source": [
        "You can make lists of any Python data type, or any mixture of data types (i.e., floats and strings)."
      ],
      "metadata": {
        "id": "67_87UHI2T2O"
      }
    },
    {
      "cell_type": "code",
      "source": [
        "['hi',1,1,2.5]"
      ],
      "metadata": {
        "colab": {
          "base_uri": "https://localhost:8080/"
        },
        "id": "2OF15cr42VAI",
        "outputId": "c81e0c25-89c0-4401-f688-8a9a386f9dbd"
      },
      "execution_count": null,
      "outputs": [
        {
          "output_type": "execute_result",
          "data": {
            "text/plain": [
              "['hi', 1, 1, 2.5]"
            ]
          },
          "metadata": {},
          "execution_count": 28
        }
      ]
    },
    {
      "cell_type": "markdown",
      "source": [
        "You can also create lists of lists. Let’s say we have a list of names for our animals:"
      ],
      "metadata": {
        "id": "O1Mt-VOR2ebZ"
      }
    },
    {
      "cell_type": "code",
      "source": [
        "cat_names = ['Walter', 'Ra']\n",
        "dog_names = ['Joker', 'Simon', 'Ellie', 'Lishka', 'Fido']\n",
        "horse_names = ['Mr. Ed']\n",
        "animal_names = [cat_names, dog_names, horse_names]"
      ],
      "metadata": {
        "id": "nw2OUw1O2j1k"
      },
      "execution_count": null,
      "outputs": []
    },
    {
      "cell_type": "code",
      "source": [
        "print(animal_names)"
      ],
      "metadata": {
        "colab": {
          "base_uri": "https://localhost:8080/"
        },
        "id": "pARUm_mP2nkT",
        "outputId": "da0b5605-f0a1-40ce-fc85-96a0031354af"
      },
      "execution_count": null,
      "outputs": [
        {
          "output_type": "stream",
          "name": "stdout",
          "text": [
            "[['Walter', 'Ra'], ['Joker', 'Simon', 'Ellie', 'Lishka', 'Fido'], ['Mr. Ed']]\n"
          ]
        }
      ]
    },
    {
      "cell_type": "markdown",
      "source": [
        "#####Q1 Reverse a list in Python\n",
        "list1 = [100, 200, 300, 400, 500]"
      ],
      "metadata": {
        "id": "Mc-sG-RBDXXj"
      }
    },
    {
      "cell_type": "code",
      "source": [
        "\"\"\"\n",
        "Solution\n",
        "\"\"\"\n",
        "\n",
        "list1 = [100, 200, 300, 400, 500]\n",
        "\n",
        "#Solution 1 \n",
        "list1 = [100, 200, 300, 400, 500]\n",
        "list1.reverse()\n",
        "print(list1)\n",
        "\n",
        "#Solution 2\n",
        "list1 = [100, 200, 300, 400, 500]\n",
        "list1 = list1[::-1]\n",
        "print(list1)\n",
        "\n"
      ],
      "metadata": {
        "colab": {
          "base_uri": "https://localhost:8080/"
        },
        "id": "9iIBQlEJD-vP",
        "outputId": "f0c5de4b-bd21-474e-f316-300bad18a5c5"
      },
      "execution_count": null,
      "outputs": [
        {
          "output_type": "stream",
          "name": "stdout",
          "text": [
            "[500, 400, 300, 200, 100]\n",
            "[500, 400, 300, 200, 100]\n"
          ]
        }
      ]
    },
    {
      "cell_type": "markdown",
      "source": [
        "#####Q2 Concatenate two lists index-wise\n",
        "list1 = [\"M\", \"na\", \"i\", \"Ke\"]\n",
        "\n",
        "list2 = [\"y\", \"me\", \"s\", \"lly\"]\n",
        "\n",
        "Expected Output \n",
        "\n",
        "['My', 'name', 'is', 'Kelly']"
      ],
      "metadata": {
        "id": "oC89pLV1DaYV"
      }
    },
    {
      "cell_type": "code",
      "source": [
        "\"\"\"\n",
        "Solution\n",
        "\"\"\"\n",
        "list1 = [\"M\", \"na\", \"i\", \"Ke\"] \n",
        "list2 = [\"y\", \"me\", \"s\", \"lly\"]\n",
        "list3 = [i + j for i, j in zip(list1, list2)]\n",
        "print(list3)"
      ],
      "metadata": {
        "colab": {
          "base_uri": "https://localhost:8080/"
        },
        "id": "u0rXUjIpESVS",
        "outputId": "43056f37-e408-45f8-f957-e7fd0ca5d2d0"
      },
      "execution_count": null,
      "outputs": [
        {
          "output_type": "stream",
          "name": "stdout",
          "text": [
            "['My', 'name', 'is', 'Kelly']\n"
          ]
        }
      ]
    },
    {
      "cell_type": "markdown",
      "source": [
        "#####Q3 Turn every item of a list into its square\n",
        "numbers = [1, 2, 3, 4, 5, 6, 7]\n",
        "\n",
        "Expected Output\n",
        "\n",
        "[1, 4, 9, 16, 25, 36, 49]\n"
      ],
      "metadata": {
        "id": "lP_0jbg_Daij"
      }
    },
    {
      "cell_type": "code",
      "source": [
        "\"\"\"\n",
        "Solution\n",
        "\"\"\"\n",
        "#Solution 1\n",
        "numbers = [1, 2, 3, 4, 5, 6, 7]\n",
        "# result list\n",
        "res = []\n",
        "for i in numbers:\n",
        "    # calculate square and add to the result list\n",
        "    res.append(i * i)\n",
        "print(res)\n",
        "\n",
        "#Solution 2\n",
        "numbers = [1, 2, 3, 4, 5, 6, 7]\n",
        "res = [x * x for x in numbers]\n",
        "print(res)"
      ],
      "metadata": {
        "colab": {
          "base_uri": "https://localhost:8080/"
        },
        "id": "Q20Hd4HDErC_",
        "outputId": "b0e04d20-e99c-4810-baf6-e901ff47596c"
      },
      "execution_count": null,
      "outputs": [
        {
          "output_type": "stream",
          "name": "stdout",
          "text": [
            "[1, 4, 9, 16, 25, 36, 49]\n",
            "[1, 4, 9, 16, 25, 36, 49]\n"
          ]
        }
      ]
    },
    {
      "cell_type": "markdown",
      "source": [
        "#####Q4 Concatenate two lists in the following order\n",
        "\n",
        "list1 = [\"Hello \", \"take \"]\n",
        "\n",
        "list2 = [\"Dear\", \"Sir\"]\n",
        "\n",
        "Expected Output\n",
        "\n",
        "['Hello Dear', 'Hello Sir', 'take Dear', 'take Sir']\n"
      ],
      "metadata": {
        "id": "wiNS8LOkDati"
      }
    },
    {
      "cell_type": "code",
      "source": [
        "\"\"\"\n",
        "Solution\n",
        "\"\"\"\n",
        "list1 = [\"Hello \", \"take \"]\n",
        "list2 = [\"Dear\", \"Sir\"]\n",
        "\n",
        "res = [x + y for x in list1 for y in list2]\n",
        "print(res)"
      ],
      "metadata": {
        "colab": {
          "base_uri": "https://localhost:8080/"
        },
        "id": "J4aPJ0aoE4gD",
        "outputId": "25ee9588-620b-4756-e950-dc5feaaffc56"
      },
      "execution_count": null,
      "outputs": [
        {
          "output_type": "stream",
          "name": "stdout",
          "text": [
            "['Hello Dear', 'Hello Sir', 'take Dear', 'take Sir']\n"
          ]
        }
      ]
    },
    {
      "cell_type": "markdown",
      "source": [
        "#####Q5 Iterate both lists simultaneously\n",
        "First one in same order, reverse order of second list\n",
        "\n",
        "list1 = [10, 20, 30, 40]\n",
        "\n",
        "list2 = [100, 200, 300, 400]\n",
        "\n",
        "Expected output:\n",
        "\n",
        "10 400\n",
        "\n",
        "20 300\n",
        "\n",
        "30 200\n",
        "\n",
        "40 100"
      ],
      "metadata": {
        "id": "3P77S9FzDa25"
      }
    },
    {
      "cell_type": "code",
      "source": [
        "\"\"\"\n",
        "Solution\n",
        "\"\"\"\n",
        "list1 = [10, 20, 30, 40]\n",
        "list2 = [100, 200, 300, 400]\n",
        "\n",
        "for x, y in zip(list1, list2[::-1]):\n",
        "    print(x, y)"
      ],
      "metadata": {
        "colab": {
          "base_uri": "https://localhost:8080/"
        },
        "id": "ZXwuq20hFIWB",
        "outputId": "38679611-317b-43d0-889e-d1db3f61f3ca"
      },
      "execution_count": null,
      "outputs": [
        {
          "output_type": "stream",
          "name": "stdout",
          "text": [
            "10 400\n",
            "20 300\n",
            "30 200\n",
            "40 100\n"
          ]
        }
      ]
    },
    {
      "cell_type": "markdown",
      "source": [
        "####**1.1.6 Dictionary**\n"
      ],
      "metadata": {
        "id": "cO_eDNpD2u_z"
      }
    },
    {
      "cell_type": "markdown",
      "source": [
        "A *dictionary* is a collection of data which is ordered*, changeable and do not allow duplicates. \n",
        "\n",
        "Unlike other data types that hold only a single value as an element, Dictionary holds key:value pair. Key-value is provided in the dictionary to make it more optimized. "
      ],
      "metadata": {
        "id": "JzBOktgF2zHE"
      }
    },
    {
      "cell_type": "code",
      "source": [
        "# Creating a dictionary with integer keys\n",
        "\n",
        "Dict = {1: 'Geeks', 2: 'For', 3: 'Geeks'}\n",
        "print(Dict)"
      ],
      "metadata": {
        "colab": {
          "base_uri": "https://localhost:8080/"
        },
        "id": "HKrB6GmA3VMd",
        "outputId": "67538ab1-b54b-4e71-a0bb-0129c081caba"
      },
      "execution_count": null,
      "outputs": [
        {
          "output_type": "stream",
          "name": "stdout",
          "text": [
            "{1: 'Geeks', 2: 'For', 3: 'Geeks'}\n"
          ]
        }
      ]
    },
    {
      "cell_type": "markdown",
      "source": [
        "We can also access individual elements of the dictionary via their keys."
      ],
      "metadata": {
        "id": "Z3VuuEp_3pRg"
      }
    },
    {
      "cell_type": "code",
      "source": [
        "print(Dict[2])"
      ],
      "metadata": {
        "colab": {
          "base_uri": "https://localhost:8080/"
        },
        "id": "33eP8fRm3vfP",
        "outputId": "3f1cd292-2313-413a-919b-f413f675a5c9"
      },
      "execution_count": null,
      "outputs": [
        {
          "output_type": "stream",
          "name": "stdout",
          "text": [
            "For\n"
          ]
        }
      ]
    },
    {
      "cell_type": "markdown",
      "source": [
        "#####Q1 Convert two lists into a dictionary\n",
        "keys = ['Ten', 'Twenty', 'Thirty']\n",
        "\n",
        "values = [10, 20, 30]\n",
        "\n",
        "Expected output:\n",
        "\n",
        "{'Ten': 10, 'Twenty': 20, 'Thirty': 30}"
      ],
      "metadata": {
        "id": "h1UeMWYxF8FB"
      }
    },
    {
      "cell_type": "code",
      "source": [
        "\"\"\"\n",
        "Solution\n",
        "\"\"\"\n",
        "#Solution 1\n",
        "\n",
        "keys = ['Ten', 'Twenty', 'Thirty']\n",
        "values = [10, 20, 30]\n",
        "\n",
        "res_dict = dict(zip(keys, values))\n",
        "print(res_dict)\n",
        "\n",
        "#Solution 2\n",
        "keys = ['Ten', 'Twenty', 'Thirty']\n",
        "values = [10, 20, 30]\n",
        "\n",
        "# empty dictionary\n",
        "res_dict = dict()\n",
        "\n",
        "for i in range(len(keys)):\n",
        "    res_dict.update({keys[i]: values[i]})\n",
        "print(res_dict)"
      ],
      "metadata": {
        "colab": {
          "base_uri": "https://localhost:8080/"
        },
        "outputId": "56ec6bf5-d200-47e3-8a0f-ac35f96500bb",
        "id": "u-TFHRjTF8FC"
      },
      "execution_count": null,
      "outputs": [
        {
          "output_type": "stream",
          "name": "stdout",
          "text": [
            "{'Ten': 10, 'Twenty': 20, 'Thirty': 30}\n",
            "{'Ten': 10, 'Twenty': 20, 'Thirty': 30}\n"
          ]
        }
      ]
    },
    {
      "cell_type": "markdown",
      "source": [
        "#####Q2 Merge two Python dictionaries into one\n",
        "dict1 = {'Ten': 10, 'Twenty': 20, 'Thirty': 30}\n",
        "\n",
        "dict2 = {'Thirty': 30, 'Fourty': 40, 'Fifty': 50}\n",
        "\n",
        "Expected Output \n",
        "\n",
        "{'Ten': 10, 'Twenty': 20, 'Thirty': 30, 'Fourty': 40, 'Fifty': 50}\n"
      ],
      "metadata": {
        "id": "GlIyQ1PAF8FD"
      }
    },
    {
      "cell_type": "code",
      "source": [
        "\"\"\"\n",
        "Solution\n",
        "\"\"\"\n",
        "#Solution 1\n",
        "dict1 = {'Ten': 10, 'Twenty': 20, 'Thirty': 30}\n",
        "dict2 = {'Thirty': 30, 'Fourty': 40, 'Fifty': 50}\n",
        "\n",
        "dict3 = {**dict1, **dict2}\n",
        "print(dict3)\n",
        "\n",
        "#Solution 2\n",
        "dict1 = {'Ten': 10, 'Twenty': 20, 'Thirty': 30}\n",
        "dict2 = {'Thirty': 30, 'Fourty': 40, 'Fifty': 50}\n",
        "\n",
        "dict3 = dict1.copy()\n",
        "dict3.update(dict2)\n",
        "print(dict3)"
      ],
      "metadata": {
        "colab": {
          "base_uri": "https://localhost:8080/"
        },
        "outputId": "9badb2de-62d8-4eef-8a6d-86cf67d7d95b",
        "id": "spyslFNgF8FD"
      },
      "execution_count": null,
      "outputs": [
        {
          "output_type": "stream",
          "name": "stdout",
          "text": [
            "{'Ten': 10, 'Twenty': 20, 'Thirty': 30, 'Fourty': 40, 'Fifty': 50}\n",
            "{'Ten': 10, 'Twenty': 20, 'Thirty': 30, 'Fourty': 40, 'Fifty': 50}\n"
          ]
        }
      ]
    },
    {
      "cell_type": "markdown",
      "source": [
        "#####Q3 Print the value of key ‘physics’ from the below dict\n",
        "\n",
        "sampleDict = {\n",
        "    \"class\": {\n",
        "        \"student\": {\n",
        "            \"name\": \"Mike\",\n",
        "            \"marks\": {\n",
        "                \"physics\": 70,\n",
        "                \"history\": 80\n",
        "            }\n",
        "        }\n",
        "    }\n",
        "}\n",
        "\n",
        "Expected Output\n",
        "\n",
        "70\n"
      ],
      "metadata": {
        "id": "HQr5Q28wF8FD"
      }
    },
    {
      "cell_type": "code",
      "source": [
        "\"\"\"\n",
        "Solution\n",
        "\"\"\"\n",
        "sampleDict = {\n",
        "    \"class\": {\n",
        "        \"student\": {\n",
        "            \"name\": \"Mike\",\n",
        "            \"marks\": {\n",
        "                \"physics\": 70,\n",
        "                \"history\": 80\n",
        "            }\n",
        "        }\n",
        "    }\n",
        "}\n",
        "\n",
        "print(sampleDict['class']['student']['marks']['physics'])"
      ],
      "metadata": {
        "colab": {
          "base_uri": "https://localhost:8080/"
        },
        "outputId": "c968126b-0c1f-459b-fd3d-dfd861e09054",
        "id": "jGHBWCKSF8FD"
      },
      "execution_count": null,
      "outputs": [
        {
          "output_type": "stream",
          "name": "stdout",
          "text": [
            "70\n"
          ]
        }
      ]
    },
    {
      "cell_type": "markdown",
      "source": [
        "#####Q4 Initialize dictionary with default values\n",
        "\n",
        "employees = ['Kelly', 'Emma']\n",
        "\n",
        "defaults = {\"designation\": 'Developer', \"salary\": 8000}\n",
        "\n",
        "Expected Output\n",
        "\n",
        "{'Kelly': {'designation': 'Developer', 'salary': 8000},\n",
        "'Emma': {'designation': 'Developer', 'salary': 8000}}\n"
      ],
      "metadata": {
        "id": "xzE3kLodF8FE"
      }
    },
    {
      "cell_type": "code",
      "source": [
        "\"\"\"\n",
        "Solution\n",
        "\"\"\"\n",
        "employees = ['Kelly', 'Emma']\n",
        "defaults = {\"designation\": 'Developer', \"salary\": 8000}\n",
        "\n",
        "res = dict.fromkeys(employees, defaults)\n",
        "print(res)\n",
        "\n"
      ],
      "metadata": {
        "colab": {
          "base_uri": "https://localhost:8080/"
        },
        "outputId": "495bd2ca-d60e-4c9d-fe29-a261e54b877e",
        "id": "Ebn9-TMTF8FE"
      },
      "execution_count": null,
      "outputs": [
        {
          "output_type": "stream",
          "name": "stdout",
          "text": [
            "{'Kelly': {'designation': 'Developer', 'salary': 8000}, 'Emma': {'designation': 'Developer', 'salary': 8000}}\n"
          ]
        }
      ]
    },
    {
      "cell_type": "markdown",
      "source": [
        "#####Q5 Create a dictionary by extracting the keys from a given dictionary\n",
        "\n",
        "sample_dict = {\n",
        "    \"name\": \"Kelly\",\n",
        "    \"age\": 25,\n",
        "    \"salary\": 8000,\n",
        "    \"city\": \"New york\"}\n",
        "\n",
        "Keys to extract\n",
        "\n",
        "keys = [\"name\", \"salary\"]\n",
        "\n",
        "Expected output:\n",
        "\n",
        "{'name': 'Kelly', 'salary': 8000}\n"
      ],
      "metadata": {
        "id": "lxt7O7DZF8FE"
      }
    },
    {
      "cell_type": "code",
      "source": [
        "\"\"\"\n",
        "Solution\n",
        "\"\"\"\n",
        "sampleDict = { \n",
        "  \"name\": \"Kelly\",\n",
        "  \"age\":25, \n",
        "  \"salary\": 8000, \n",
        "  \"city\": \"New york\" }\n",
        "\n",
        "keys = [\"name\", \"salary\"]\n",
        "\n",
        "newDict = {k: sampleDict[k] for k in keys}\n",
        "print(newDict)"
      ],
      "metadata": {
        "colab": {
          "base_uri": "https://localhost:8080/"
        },
        "outputId": "7a4dffea-9d4b-484d-ef92-d0cb2c086a40",
        "id": "-X-eCV4zF8FE"
      },
      "execution_count": null,
      "outputs": [
        {
          "output_type": "stream",
          "name": "stdout",
          "text": [
            "{'name': 'Kelly', 'salary': 8000}\n"
          ]
        }
      ]
    },
    {
      "cell_type": "markdown",
      "source": [
        "####**1.1.7 Indexing in Python**"
      ],
      "metadata": {
        "id": "GCHg7F9erLib"
      }
    },
    {
      "cell_type": "markdown",
      "source": [
        "Since we have learnt about the various data types, let us move on to learning how to index & slice them to retrieve our relevant data."
      ],
      "metadata": {
        "id": "zpOna5L_rUx4"
      }
    },
    {
      "cell_type": "markdown",
      "source": [
        "**List**\n",
        "\n"
      ],
      "metadata": {
        "id": "Isc6XC_yrqYo"
      }
    },
    {
      "cell_type": "code",
      "source": [
        "my_list = ['a', 'b', 'c', 'd'] \n",
        "\n",
        "#Indexing starts from 0"
      ],
      "metadata": {
        "id": "1gvkzpGosgge"
      },
      "execution_count": null,
      "outputs": []
    },
    {
      "cell_type": "code",
      "source": [
        "my_list[1]"
      ],
      "metadata": {
        "colab": {
          "base_uri": "https://localhost:8080/",
          "height": 35
        },
        "id": "_P5VQPJSskY-",
        "outputId": "6d084a34-ac55-4c10-c2a5-2bd580f1feb4"
      },
      "execution_count": null,
      "outputs": [
        {
          "output_type": "execute_result",
          "data": {
            "text/plain": [
              "'b'"
            ],
            "application/vnd.google.colaboratory.intrinsic+json": {
              "type": "string"
            }
          },
          "metadata": {},
          "execution_count": 3
        }
      ]
    },
    {
      "cell_type": "code",
      "source": [
        "my_list[1:]\n",
        "\n",
        "#Prints from the X:Y with X being included and Y excluded."
      ],
      "metadata": {
        "colab": {
          "base_uri": "https://localhost:8080/"
        },
        "id": "cjousZrWso3I",
        "outputId": "c79b98b3-341b-4362-c690-7e9ad0213679"
      },
      "execution_count": null,
      "outputs": [
        {
          "output_type": "execute_result",
          "data": {
            "text/plain": [
              "['b', 'c', 'd']"
            ]
          },
          "metadata": {},
          "execution_count": 4
        }
      ]
    },
    {
      "cell_type": "code",
      "source": [
        "nest = [1,2,3,[4,5,['target']]]"
      ],
      "metadata": {
        "id": "K9IAr6cJsosv"
      },
      "execution_count": null,
      "outputs": []
    },
    {
      "cell_type": "code",
      "source": [
        "nest[3][2][0]\n",
        "\n",
        "#Retrieving data from a nested List"
      ],
      "metadata": {
        "colab": {
          "base_uri": "https://localhost:8080/",
          "height": 35
        },
        "id": "pl02DcprtCD-",
        "outputId": "62816f6b-874a-4ca0-c941-d7f4667db826"
      },
      "execution_count": null,
      "outputs": [
        {
          "output_type": "execute_result",
          "data": {
            "text/plain": [
              "'target'"
            ],
            "application/vnd.google.colaboratory.intrinsic+json": {
              "type": "string"
            }
          },
          "metadata": {},
          "execution_count": 6
        }
      ]
    },
    {
      "cell_type": "markdown",
      "source": [
        "**String**"
      ],
      "metadata": {
        "id": "Kse2_4VItOIo"
      }
    },
    {
      "cell_type": "code",
      "source": [
        "s = \"Hey there! I'm learning Python!\""
      ],
      "metadata": {
        "id": "hqkG0BRPtP_y"
      },
      "execution_count": null,
      "outputs": []
    },
    {
      "cell_type": "code",
      "source": [
        "s[0:3]\n",
        "\n",
        "#Extracting Hey"
      ],
      "metadata": {
        "colab": {
          "base_uri": "https://localhost:8080/",
          "height": 35
        },
        "id": "YHIP1rJGtnYr",
        "outputId": "3c016e07-73bf-47c2-e25a-17c5908fe531"
      },
      "execution_count": null,
      "outputs": [
        {
          "output_type": "execute_result",
          "data": {
            "text/plain": [
              "'Hey'"
            ],
            "application/vnd.google.colaboratory.intrinsic+json": {
              "type": "string"
            }
          },
          "metadata": {},
          "execution_count": 8
        }
      ]
    },
    {
      "cell_type": "code",
      "source": [
        "s.split()"
      ],
      "metadata": {
        "colab": {
          "base_uri": "https://localhost:8080/"
        },
        "id": "vJNFjpidtvAW",
        "outputId": "41e17f42-a036-4c4c-a267-b3271a142378"
      },
      "execution_count": null,
      "outputs": [
        {
          "output_type": "execute_result",
          "data": {
            "text/plain": [
              "['Hey', 'there!', \"I'm\", 'learning', 'Python!']"
            ]
          },
          "metadata": {},
          "execution_count": 10
        }
      ]
    },
    {
      "cell_type": "markdown",
      "source": [
        "**Dictionary**"
      ],
      "metadata": {
        "id": "RzDRpWrwt2nF"
      }
    },
    {
      "cell_type": "code",
      "source": [
        "d = {'key1':'item1','key2':'item2'}"
      ],
      "metadata": {
        "id": "JCZuphoyt4gA"
      },
      "execution_count": null,
      "outputs": []
    },
    {
      "cell_type": "code",
      "source": [
        "d['key2']"
      ],
      "metadata": {
        "colab": {
          "base_uri": "https://localhost:8080/",
          "height": 35
        },
        "id": "KZXNSqKyuB-x",
        "outputId": "9ed332f8-3ff6-4697-968d-d1125896194e"
      },
      "execution_count": null,
      "outputs": [
        {
          "output_type": "execute_result",
          "data": {
            "text/plain": [
              "'item2'"
            ],
            "application/vnd.google.colaboratory.intrinsic+json": {
              "type": "string"
            }
          },
          "metadata": {},
          "execution_count": 12
        }
      ]
    },
    {
      "cell_type": "markdown",
      "source": [
        "#####Q1 Replace list’s item with new value if found, replace only first occurance\n",
        "Replace 20 with 200\n",
        "\n",
        "list1 = [5, 10, 15, 20, 25, 50, 20]\n",
        "\n",
        "Expected output:\n",
        "\n",
        "[5, 10, 15, 200, 25, 50, 20]"
      ],
      "metadata": {
        "id": "t2xWGXFuISUP"
      }
    },
    {
      "cell_type": "code",
      "source": [
        "\"\"\"\n",
        "Solution\n",
        "\"\"\"\n",
        "#Solution\n",
        "\n",
        "list1 = [5, 10, 15, 20, 25, 50, 20]\n",
        "\n",
        "# get the first occurrence index\n",
        "index = list1.index(20)\n",
        "\n",
        "# update item present at location\n",
        "list1[index] = 200\n",
        "print(list1)"
      ],
      "metadata": {
        "colab": {
          "base_uri": "https://localhost:8080/"
        },
        "outputId": "40180453-8d21-4a37-be80-b99173db3a3e",
        "id": "BYg_0BVhISUS"
      },
      "execution_count": null,
      "outputs": [
        {
          "output_type": "stream",
          "name": "stdout",
          "text": [
            "[5, 10, 15, 200, 25, 50, 20]\n"
          ]
        }
      ]
    },
    {
      "cell_type": "markdown",
      "source": [
        "#####Q2 Remove all occurrences of a specific item from a list.\n",
        "Remove 20\n",
        "\n",
        "list1 = [5, 20, 15, 20, 25, 50, 20]\n",
        "\n",
        "Expected Output \n",
        "\n",
        "[5, 15, 25, 50]\n"
      ],
      "metadata": {
        "id": "oMzo5NY3ISUT"
      }
    },
    {
      "cell_type": "code",
      "source": [
        "\"\"\"\n",
        "Solution\n",
        "\"\"\"\n",
        "#Solution 1\n",
        "list1 = [5, 20, 15, 20, 25, 50, 20]\n",
        "\n",
        "def remove_value(sample_list, val):\n",
        "    return [i for i in sample_list if i != val]\n",
        "\n",
        "res = remove_value(list1, 20)\n",
        "print(res)\n",
        "\n",
        "#Solution 2\n",
        "list1 = [5, 20, 15, 20, 25, 50, 20]\n",
        "\n",
        "while 20 in list1:\n",
        "    list1.remove(20)\n",
        "print(list1)"
      ],
      "metadata": {
        "colab": {
          "base_uri": "https://localhost:8080/"
        },
        "outputId": "c45e9aff-3c89-4acf-e80f-1fcdd03b0135",
        "id": "WtrLpKP1ISUT"
      },
      "execution_count": null,
      "outputs": [
        {
          "output_type": "stream",
          "name": "stdout",
          "text": [
            "[5, 15, 25, 50]\n",
            "[5, 15, 25, 50]\n"
          ]
        }
      ]
    },
    {
      "cell_type": "markdown",
      "source": [
        "#####Q3 Get the key of a minimum value from the following dictionary\n",
        "\n",
        "sample_dict = {\n",
        "  'Physics': 82,\n",
        "  'Math': 65,\n",
        "  'history': 75\n",
        "}\n",
        "\n",
        "Expected Output\n",
        "\n",
        "Math\n"
      ],
      "metadata": {
        "id": "O7mrExDHISUU"
      }
    },
    {
      "cell_type": "code",
      "source": [
        "\"\"\"\n",
        "Solution\n",
        "\"\"\"\n",
        "sample_dict = {\n",
        "    'Physics': 82,\n",
        "    'Math': 65,\n",
        "    'history': 75\n",
        "}\n",
        "print(min(sample_dict, key=sample_dict.get))"
      ],
      "metadata": {
        "colab": {
          "base_uri": "https://localhost:8080/"
        },
        "outputId": "923ccec5-4263-43c6-bc7c-8e6e5d70ae4d",
        "id": "S4Md0wxeISUU"
      },
      "execution_count": null,
      "outputs": [
        {
          "output_type": "stream",
          "name": "stdout",
          "text": [
            "Math\n"
          ]
        }
      ]
    },
    {
      "cell_type": "markdown",
      "source": [
        "#####Q4 Change value of a key in a nested dictionary\n",
        "\n",
        "Change Brad's Salary to 8500\n",
        "\n",
        "sample_dict = {\n",
        "    'emp1': {'name': 'Jhon', 'salary': 7500},\n",
        "    'emp2': {'name': 'Emma', 'salary': 8000},\n",
        "    'emp3': {'name': 'Brad', 'salary': 500}\n",
        "}\n",
        "\n",
        "Expected Output\n",
        "\n",
        "{\n",
        "   'emp1': {'name': 'Jhon', 'salary': 7500},\n",
        "   'emp2': {'name': 'Emma', 'salary': 8000},\n",
        "   'emp3': {'name': 'Brad', 'salary': 8500}\n",
        "}\n"
      ],
      "metadata": {
        "id": "j6pta9bdISUV"
      }
    },
    {
      "cell_type": "code",
      "source": [
        "\"\"\"\n",
        "Solution\n",
        "\"\"\"\n",
        "sample_dict = {\n",
        "    'emp1': {'name': 'Jhon', 'salary': 7500},\n",
        "    'emp2': {'name': 'Emma', 'salary': 8000},\n",
        "    'emp3': {'name': 'Brad', 'salary': 6500}\n",
        "}\n",
        "\n",
        "sample_dict['emp3']['salary'] = 8500\n",
        "print(sample_dict)\n",
        "\n"
      ],
      "metadata": {
        "colab": {
          "base_uri": "https://localhost:8080/"
        },
        "outputId": "b6fb1b2b-04ac-45b4-d8c4-f8475d03f54a",
        "id": "mIsmQ37EISUV"
      },
      "execution_count": null,
      "outputs": [
        {
          "output_type": "stream",
          "name": "stdout",
          "text": [
            "{'emp1': {'name': 'Jhon', 'salary': 7500}, 'emp2': {'name': 'Emma', 'salary': 8000}, 'emp3': {'name': 'Brad', 'salary': 8500}}\n"
          ]
        }
      ]
    },
    {
      "cell_type": "markdown",
      "source": [
        "#####Q5 Find the last position of a given substring\n",
        "\n",
        "find the last position of a substring “Emma” in a given string.\n",
        "\n",
        "str1 = \"Emma is a data scientist who knows Python. Emma works at google.\"\n",
        "\n",
        "\n",
        "Expected output:\n",
        "\n",
        "Last occurrence of Emma starts at index 43\n",
        "\n"
      ],
      "metadata": {
        "id": "136mFrCpISUV"
      }
    },
    {
      "cell_type": "code",
      "source": [
        "\"\"\"\n",
        "Solution\n",
        "\"\"\"\n",
        "str1 = \"Emma is a data scientist who knows Python. Emma works at google.\"\n",
        "print(\"Original String is:\", str1)\n",
        "\n",
        "index = str1.rfind(\"Emma\")\n",
        "print(\"Last occurrence of Emma starts at index:\", index)"
      ],
      "metadata": {
        "colab": {
          "base_uri": "https://localhost:8080/"
        },
        "outputId": "a45d7df8-9137-406a-c8a7-7ecbe40e6c9c",
        "id": "IwuSZyqXISUW"
      },
      "execution_count": null,
      "outputs": [
        {
          "output_type": "stream",
          "name": "stdout",
          "text": [
            "Original String is: Emma is a data scientist who knows Python. Emma works at google.\n",
            "Last occurrence of Emma starts at index: 43\n"
          ]
        }
      ]
    },
    {
      "cell_type": "markdown",
      "source": [
        "####**1.1.8 What can various Data Types do?**"
      ],
      "metadata": {
        "id": "2-y-ibNl4AZC"
      }
    },
    {
      "cell_type": "markdown",
      "source": [
        "Each of the basic data types can do a variety of things. Here is a list of the data types\n",
        "we’ve learned about so far, followed by examples of the kinds of actions you can tell\n",
        "them to do:"
      ],
      "metadata": {
        "id": "_mouv2pv4GEo"
      }
    },
    {
      "cell_type": "markdown",
      "source": [
        "• Strings\n",
        "1. Change case\n",
        "2.  Strip space off the end of a string \n",
        "3. Split a string\n",
        "\n",
        "• Integers and decimals\n",
        "1. Add and subtract\n",
        "2. Simple math\n",
        "\n",
        "• Lists\n",
        "1. Add to or subtract from the list\n",
        "2. Remove the last item of the list\n",
        "3. Reorder the list\n",
        "4. Sort the list\n",
        "\n",
        "• Dictionaries\n",
        "1. Add a key/value pair\n",
        "2. Set a new value to the corresponding key\n",
        "3. Look up a value by the key"
      ],
      "metadata": {
        "id": "5LrwN5rp4Iej"
      }
    },
    {
      "cell_type": "markdown",
      "source": [
        "###**1.2 Defining Functions**"
      ],
      "metadata": {
        "id": "Dt285OeWw3zj"
      }
    },
    {
      "cell_type": "markdown",
      "source": [
        "Just like the pre-defined functions in python, we can also define our own functions in python to reduce the load of our code and avoid writing the same chunk of code again & again. \n",
        "\n",
        "The format for the same: "
      ],
      "metadata": {
        "id": "Vfc3X8L9xBGW"
      }
    },
    {
      "cell_type": "code",
      "source": [
        "def my_func(param1='default'):\n",
        "    \"\"\"\n",
        "    Docstring goes here.\n",
        "    \"\"\"\n",
        "    print(param1)"
      ],
      "metadata": {
        "id": "4I84D-pPxWAb"
      },
      "execution_count": null,
      "outputs": []
    },
    {
      "cell_type": "code",
      "source": [
        "my_func()"
      ],
      "metadata": {
        "colab": {
          "base_uri": "https://localhost:8080/"
        },
        "id": "l31NvnCsxZqd",
        "outputId": "bbd15d3e-faa4-4ff0-f503-406ae6940ff1"
      },
      "execution_count": null,
      "outputs": [
        {
          "output_type": "stream",
          "name": "stdout",
          "text": [
            "default\n"
          ]
        }
      ]
    },
    {
      "cell_type": "code",
      "source": [
        "my_func('new param')"
      ],
      "metadata": {
        "colab": {
          "base_uri": "https://localhost:8080/"
        },
        "id": "wYnw3sSnxcFk",
        "outputId": "4fa9f95f-d982-4455-a65c-8d5b930c653c"
      },
      "execution_count": null,
      "outputs": [
        {
          "output_type": "stream",
          "name": "stdout",
          "text": [
            "new param\n"
          ]
        }
      ]
    },
    {
      "cell_type": "markdown",
      "source": [
        "Now that we know how this works, let's define a function to return the square of a number. "
      ],
      "metadata": {
        "id": "49XErp-Bw_GJ"
      }
    },
    {
      "cell_type": "code",
      "source": [
        "def square(x):\n",
        "    return x**2"
      ],
      "metadata": {
        "id": "zm_bJL2lxqxX"
      },
      "execution_count": null,
      "outputs": []
    },
    {
      "cell_type": "code",
      "source": [
        "out = square(5)"
      ],
      "metadata": {
        "id": "NPnRepsFxsA6"
      },
      "execution_count": null,
      "outputs": []
    },
    {
      "cell_type": "code",
      "source": [
        "print(out)"
      ],
      "metadata": {
        "colab": {
          "base_uri": "https://localhost:8080/"
        },
        "id": "5nHjdB6Xxuth",
        "outputId": "ac46fa11-f4d0-41ad-a079-c8f18be3e58f"
      },
      "execution_count": null,
      "outputs": [
        {
          "output_type": "stream",
          "name": "stdout",
          "text": [
            "25\n"
          ]
        }
      ]
    },
    {
      "cell_type": "markdown",
      "source": [
        ""
      ],
      "metadata": {
        "id": "D8Z7SsaMSC3T"
      }
    },
    {
      "cell_type": "markdown",
      "source": [
        "#####Q1 Create a function in Python\n",
        "\n",
        "Write a program to create a function that takes two arguments, name and age, and print their value."
      ],
      "metadata": {
        "id": "FSy4kwtxSDZ1"
      }
    },
    {
      "cell_type": "code",
      "source": [
        "\"\"\"\n",
        "Solution\n",
        "\"\"\"\n",
        "def func1(name, age):\n",
        "    print(name, age)\n",
        "\n",
        "func1(\"Ben\", 25)"
      ],
      "metadata": {
        "colab": {
          "base_uri": "https://localhost:8080/"
        },
        "outputId": "6dfe976d-4654-4974-d067-2490db82e379",
        "id": "dNViiliQSDZ4"
      },
      "execution_count": null,
      "outputs": [
        {
          "output_type": "stream",
          "name": "stdout",
          "text": [
            "Ben 25\n"
          ]
        }
      ]
    },
    {
      "cell_type": "markdown",
      "source": [
        "#####Q2 Create a function with variable length of arguments\n",
        "\n",
        "Write a program to create function func1() to accept a variable length of arguments and print their value.\n",
        "\n",
        "Note: Create a function in such a way that we can pass any number of arguments to this function and the function should process them and display each argument’s value.\n",
        "\n",
        ".\n",
        "\n",
        "Output\n",
        "\n",
        "call function with 3 arguments\n",
        "\n",
        "func1(20, 40, 60)\n",
        "\n",
        "call function with 2 arguments\n",
        "\n",
        "func1(80, 100)\n",
        "\n",
        "\n",
        "Printing values\n",
        "\n",
        "20\n",
        "\n",
        "40\n",
        "\n",
        "60\n",
        "\n",
        "\n",
        "Printing values\n",
        "\n",
        "80\n",
        "\n",
        "100\n"
      ],
      "metadata": {
        "id": "SypmUa7CSDZ7"
      }
    },
    {
      "cell_type": "code",
      "source": [
        "\"\"\"\n",
        "Solution\n",
        "\"\"\"\n",
        "def func1(*args):\n",
        "    for i in args:\n",
        "        print(i)\n",
        "\n",
        "func1(20, 40, 60)\n",
        "func1(80, 100)"
      ],
      "metadata": {
        "colab": {
          "base_uri": "https://localhost:8080/"
        },
        "outputId": "fecf7f8e-e4e4-45cf-e1e3-141de4aec1b5",
        "id": "6ccWL0a8SDZ8"
      },
      "execution_count": null,
      "outputs": [
        {
          "output_type": "stream",
          "name": "stdout",
          "text": [
            "20\n",
            "40\n",
            "60\n",
            "80\n",
            "100\n"
          ]
        }
      ]
    },
    {
      "cell_type": "markdown",
      "source": [
        "#####Q3 Return multiple values from a function\n",
        "\n",
        "Write a program to create function calculation() such that it can accept two variables and calculate addition and subtraction. Also, it must return both addition and subtraction in a single return call.\n",
        "\n",
        "def calculation(a, b):\n",
        "    # Your Code\n",
        "\n",
        "res = calculation(40, 10)\n",
        "print(res)\n",
        "\n",
        "Expected Output\n",
        "\n",
        "50, 30\n"
      ],
      "metadata": {
        "id": "qf0gVHItSDZ9"
      }
    },
    {
      "cell_type": "code",
      "source": [
        "\"\"\"\n",
        "Solution\n",
        "\"\"\"\n",
        "#Solution 1\n",
        "def calculation(a, b):\n",
        "    addition = a + b\n",
        "    subtraction = a - b\n",
        "    return addition, subtraction\n",
        "\n",
        "res = calculation(40, 10)\n",
        "print(res)\n",
        "\n",
        "#Solution 2\n",
        "def calculation(a, b):\n",
        "    return a + b, a - b\n",
        "\n",
        "# get result in tuple format\n",
        "# unpack tuple\n",
        "add, sub = calculation(40, 10)\n",
        "print(add, sub)"
      ],
      "metadata": {
        "colab": {
          "base_uri": "https://localhost:8080/"
        },
        "outputId": "657175d5-d762-448f-f92d-bf83e703e215",
        "id": "dXRk4koISDZ9"
      },
      "execution_count": null,
      "outputs": [
        {
          "output_type": "stream",
          "name": "stdout",
          "text": [
            "(50, 30)\n"
          ]
        }
      ]
    },
    {
      "cell_type": "markdown",
      "source": [
        "#####Q4 Create a function with default argument\n",
        "\n",
        "Write a program to create a function show_employee() using the following conditions.\n",
        "\n",
        "- It should accept the employee’s name and salary and display both.\n",
        "\n",
        "- If the salary is missing in the function call then assign default value 9000 to salary\n",
        "\n",
        "showEmployee(\"Ben\", 12000)\n",
        "\n",
        "showEmployee(\"Jessa\")\n",
        "\n",
        "Expected Output\n",
        "\n",
        "Name: Ben salary: 12000\n",
        "Name: Jessa salary: 9000"
      ],
      "metadata": {
        "id": "JC-C6mOKSDZ-"
      }
    },
    {
      "cell_type": "code",
      "source": [
        "\"\"\"\n",
        "Solution\n",
        "\"\"\"\n",
        "\n",
        "def show_employee(name, salary=9000):\n",
        "    print(\"Name:\", name, \"salary:\", salary)\n",
        "\n",
        "show_employee(\"Ben\", 12000)\n",
        "show_employee(\"Jessa\")\n",
        "\n"
      ],
      "metadata": {
        "colab": {
          "base_uri": "https://localhost:8080/"
        },
        "outputId": "3655c606-5cc5-4157-97cc-b7d2e721712a",
        "id": "kzoCq0kdSDZ-"
      },
      "execution_count": null,
      "outputs": [
        {
          "output_type": "stream",
          "name": "stdout",
          "text": [
            "Name: Ben salary: 12000\n",
            "Name: Jessa salary: 9000\n"
          ]
        }
      ]
    },
    {
      "cell_type": "markdown",
      "source": [
        "#####Q5 Exercise 5: Create an inner function to calculate the addition in the following way\n",
        "\n",
        "- Create an outer function that will accept two parameters, a and b\n",
        "- Create an inner function inside an outer function that will calculate the addition of a and b\n",
        "- At last, an outer function will add 5 into addition and return it\n",
        "\n",
        "\n"
      ],
      "metadata": {
        "id": "8JdGp6RLSDZ_"
      }
    },
    {
      "cell_type": "code",
      "source": [
        "\"\"\"\n",
        "Solution\n",
        "\"\"\"\n",
        "\n",
        "# outer function\n",
        "def outer_fun(a, b):\n",
        "\n",
        "    # inner function\n",
        "    def addition(a, b):\n",
        "        return a + b\n",
        "\n",
        "    # call inner function from outer function\n",
        "    add = addition(a, b)\n",
        "    # add 5 to the result\n",
        "    return add + 5\n",
        "\n",
        "result = outer_fun(5, 10)\n",
        "print(result)"
      ],
      "metadata": {
        "colab": {
          "base_uri": "https://localhost:8080/"
        },
        "outputId": "65a2f45f-4a8a-4cf0-c276-17c05218c615",
        "id": "xK1PAOFISDZ_"
      },
      "execution_count": null,
      "outputs": [
        {
          "output_type": "stream",
          "name": "stdout",
          "text": [
            "20\n"
          ]
        }
      ]
    },
    {
      "cell_type": "markdown",
      "source": [
        "###**1.3 Exercises**"
      ],
      "metadata": {
        "id": "uwNafFX04rmp"
      }
    },
    {
      "cell_type": "markdown",
      "source": [
        "#####Q1 Use Python to calculate 7 to the power of 4?"
      ],
      "metadata": {
        "id": "dp6TqAwL4xTw"
      }
    },
    {
      "cell_type": "code",
      "source": [
        "#Write your code here\n",
        "\n"
      ],
      "metadata": {
        "id": "02L9AYLHndmD"
      },
      "execution_count": null,
      "outputs": []
    },
    {
      "cell_type": "markdown",
      "source": [
        "#####Q2 Split this string into a list."
      ],
      "metadata": {
        "id": "l7PEUqq8nhUd"
      }
    },
    {
      "cell_type": "code",
      "source": [
        "s = \"Hi there Sam!\""
      ],
      "metadata": {
        "id": "vbwbKt1zuOtj"
      },
      "execution_count": null,
      "outputs": []
    },
    {
      "cell_type": "code",
      "source": [
        "#Write your code here"
      ],
      "metadata": {
        "id": "V9DoHsgjuQWp"
      },
      "execution_count": null,
      "outputs": []
    },
    {
      "cell_type": "markdown",
      "source": [
        "#####Q3 Given the variables, use *format()* to print the following string:\n"
      ],
      "metadata": {
        "id": "Jm4cgd15uS59"
      }
    },
    {
      "cell_type": "code",
      "source": [
        "planet = \"Earth\"\n",
        "diameter = 12742"
      ],
      "metadata": {
        "id": "PXxaK866ulJy"
      },
      "execution_count": null,
      "outputs": []
    },
    {
      "cell_type": "code",
      "source": [
        "#Print\n",
        "\n"
      ],
      "metadata": {
        "id": "BZMugu1ruu20"
      },
      "execution_count": null,
      "outputs": []
    },
    {
      "cell_type": "markdown",
      "source": [
        "#####Q4 Given this nested list, use indexing to grab the word \"hello\""
      ],
      "metadata": {
        "id": "Dk40t8CHu0Li"
      }
    },
    {
      "cell_type": "code",
      "source": [
        "lst = [1,2,[3,4],[5,[100,200,['hello']],23,11],1,7]"
      ],
      "metadata": {
        "id": "j1lSW4Yru3_4"
      },
      "execution_count": null,
      "outputs": []
    },
    {
      "cell_type": "code",
      "source": [
        "#Write your code here\n",
        "\n"
      ],
      "metadata": {
        "id": "E2pO7y9du7Y1"
      },
      "execution_count": null,
      "outputs": []
    },
    {
      "cell_type": "markdown",
      "source": [
        "#####Q5 Given this nest dictionary grab the word \"hello\". Be prepared, this will be tricky."
      ],
      "metadata": {
        "id": "yf0YUwZxu9q0"
      }
    },
    {
      "cell_type": "code",
      "source": [
        "d = {'k1':[1,2,3,{'tricky':['oh','man','inception',{'target':[1,2,3,'hello']}]}]}"
      ],
      "metadata": {
        "id": "WdoteoSEvFGw"
      },
      "execution_count": null,
      "outputs": []
    },
    {
      "cell_type": "code",
      "source": [
        "#Write your code here\n",
        "\n"
      ],
      "metadata": {
        "id": "GWJyxcgYvJAj"
      },
      "execution_count": null,
      "outputs": []
    },
    {
      "cell_type": "markdown",
      "source": [
        "#####Q6 Create a function that grabs the email website domain \n",
        "from a string in the form:\n",
        "\n",
        "    user@domain.com\n",
        "    \n",
        "So for example, passing \"user@domain.com\" would return: domain.com"
      ],
      "metadata": {
        "id": "2Rejel-Px7Z4"
      }
    },
    {
      "cell_type": "code",
      "source": [
        "#Write your code here\n",
        "\n",
        "def domainGet(email):\n",
        "    return email.split('@')[-1]"
      ],
      "metadata": {
        "id": "FfYnlQUPx_sX"
      },
      "execution_count": null,
      "outputs": []
    },
    {
      "cell_type": "code",
      "source": [
        "domainGet('user@domain.com')"
      ],
      "metadata": {
        "colab": {
          "base_uri": "https://localhost:8080/",
          "height": 34
        },
        "id": "N4x2uf57yGhF",
        "outputId": "9ce35496-07dd-446b-e62d-43acf52fff6e"
      },
      "execution_count": null,
      "outputs": [
        {
          "output_type": "execute_result",
          "data": {
            "text/plain": [
              "'domain.com'"
            ],
            "application/vnd.google.colaboratory.intrinsic+json": {
              "type": "string"
            }
          },
          "metadata": {},
          "execution_count": 8
        }
      ]
    },
    {
      "cell_type": "markdown",
      "source": [
        "#####Q7 Create a basic function that returns True if the word 'dog' is contained in the input string. Don't worry about edge cases like a punctuation being attached to the word dog, but do account for capitalization."
      ],
      "metadata": {
        "id": "z46i5VtNyJ5H"
      }
    },
    {
      "cell_type": "code",
      "source": [
        "#define your function here\n",
        "\n",
        "def findDog(st):\n",
        "    return 'dog' in st.lower().split()"
      ],
      "metadata": {
        "id": "SqCNWFyAy4TS"
      },
      "execution_count": null,
      "outputs": []
    },
    {
      "cell_type": "code",
      "source": [
        "findDog('Is there a Dog here?')"
      ],
      "metadata": {
        "colab": {
          "base_uri": "https://localhost:8080/"
        },
        "id": "qIo5hCv7y_XI",
        "outputId": "e2671dc6-65dc-4663-f5bf-4f657fa0a071"
      },
      "execution_count": null,
      "outputs": [
        {
          "output_type": "execute_result",
          "data": {
            "text/plain": [
              "True"
            ]
          },
          "metadata": {},
          "execution_count": 10
        }
      ]
    },
    {
      "cell_type": "markdown",
      "source": [
        "#####Q8 Create a function that counts the number of times the word \"dog\" occurs in a string. Again ignore edge cases."
      ],
      "metadata": {
        "id": "vF9dxjsXzIUR"
      }
    },
    {
      "cell_type": "code",
      "source": [
        "#define ypur function here\n",
        "\n",
        "def countDog(st):\n",
        "    count = 0\n",
        "    for word in st.lower().split():\n",
        "        if word == 'dog':\n",
        "            count += 1\n",
        "    return count"
      ],
      "metadata": {
        "id": "pcqtjDt2zIBy"
      },
      "execution_count": null,
      "outputs": []
    },
    {
      "cell_type": "code",
      "source": [
        "countDog('This dog runs faster than the other dog dude!')"
      ],
      "metadata": {
        "colab": {
          "base_uri": "https://localhost:8080/"
        },
        "id": "Jvbb5frvzTEh",
        "outputId": "5683198c-067f-44c4-98ce-5da0410f33d8"
      },
      "execution_count": null,
      "outputs": [
        {
          "output_type": "execute_result",
          "data": {
            "text/plain": [
              "2"
            ]
          },
          "metadata": {},
          "execution_count": 12
        }
      ]
    },
    {
      "cell_type": "markdown",
      "source": [
        "Let's complete this module with a tricky question. Don't worry if you're not able to solve it right now, eventually you'll be able to. "
      ],
      "metadata": {
        "id": "9xFIcIPqzZzr"
      }
    },
    {
      "cell_type": "markdown",
      "source": [
        "#####Q9 **Final Problem**\n",
        "\n",
        "You are driving a little too fast, and a police officer stops you. Write a function\n",
        "  to return one of 3 possible results: \"No ticket\", \"Small ticket\", or \"Big Ticket\". \n",
        "  If your speed is 60 or less, the result is \"No Ticket\". If speed is between 61 \n",
        "  and 80 inclusive, the result is \"Small Ticket\". If speed is 81 or more, the result is \"Big    Ticket\". Unless it is your birthday (encoded as a boolean value in the parameters of the function) -- on your birthday, your speed can be 5 higher in all \n",
        "  cases."
      ],
      "metadata": {
        "id": "hyYPie7XzuZz"
      }
    },
    {
      "cell_type": "code",
      "source": [
        "#Define your function here\n",
        "\n",
        "def caught_speeding(speed, is_birthday):\n",
        "    \n",
        "    if is_birthday:\n",
        "        speeding = speed - 5\n",
        "    else:\n",
        "        speeding = speed\n",
        "    \n",
        "    if speeding > 80:\n",
        "        return 'Big Ticket'\n",
        "    elif speeding > 60:\n",
        "        return 'Small Ticket'\n",
        "    else:\n",
        "        return 'No Ticket'"
      ],
      "metadata": {
        "id": "3-lz4daUz1GP"
      },
      "execution_count": null,
      "outputs": []
    },
    {
      "cell_type": "code",
      "source": [
        "caught_speeding(81,True)"
      ],
      "metadata": {
        "colab": {
          "base_uri": "https://localhost:8080/",
          "height": 34
        },
        "id": "KZ-UNBw_z616",
        "outputId": "0087edd7-e74b-4b1a-e9db-d1d90e128329"
      },
      "execution_count": null,
      "outputs": [
        {
          "output_type": "execute_result",
          "data": {
            "text/plain": [
              "'Small Ticket'"
            ],
            "application/vnd.google.colaboratory.intrinsic+json": {
              "type": "string"
            }
          },
          "metadata": {},
          "execution_count": 14
        }
      ]
    },
    {
      "cell_type": "code",
      "source": [
        "caught_speeding(81,False)"
      ],
      "metadata": {
        "colab": {
          "base_uri": "https://localhost:8080/",
          "height": 34
        },
        "id": "i1aSziatz9aY",
        "outputId": "5015a4ce-437e-4a61-d16d-878564e91c06"
      },
      "execution_count": null,
      "outputs": [
        {
          "output_type": "execute_result",
          "data": {
            "text/plain": [
              "'Big Ticket'"
            ],
            "application/vnd.google.colaboratory.intrinsic+json": {
              "type": "string"
            }
          },
          "metadata": {},
          "execution_count": 15
        }
      ]
    },
    {
      "cell_type": "markdown",
      "source": [
        "**Great Job!**"
      ],
      "metadata": {
        "id": "GbrdK4Wkz-4Q"
      }
    }
  ]
}