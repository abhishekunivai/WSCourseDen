{
  "nbformat": 4,
  "nbformat_minor": 0,
  "metadata": {
    "colab": {
      "name": "Data Wrangling 1.ipynb",
      "provenance": [],
      "toc_visible": true
    },
    "kernelspec": {
      "name": "python3",
      "display_name": "Python 3"
    },
    "language_info": {
      "name": "python"
    }
  },
  "cells": [
    {
      "cell_type": "markdown",
      "source": [
        "#**Data Wrangling**"
      ],
      "metadata": {
        "id": "_u_eXNq0ogR_"
      }
    },
    {
      "cell_type": "markdown",
      "source": [
        "Data wrangling can be defined as the process of cleaning, organizing, and transforming raw data into the desired format for analysts to use for prompt decision-making. Also known as data cleaning or data munging, data wrangling enables businesses to tackle more complex data in less time, produce more accurate results, and make better decisions. \n",
        "\n",
        "Some examples of data wrangling include:\n",
        "\n",
        "1. Merging multiple data sources into a single dataset for analysis.\n",
        "2. Identifying gaps in data (for example, empty cells in a spreadsheet) and either filling or deleting them.\n",
        "3. Deleting data that’s either unnecessary or irrelevant to the project you’re working on.\n",
        "4. Identifying extreme outliers in data and either explaining the discrepancies or removing them so that analysis can take place.\n",
        "\n",
        "In this course we're going to understand how to perform *Data Wrangling* in python. But before we proceed further, let us revisit some basic of Python to brush up our coding skills."
      ],
      "metadata": {
        "id": "icIF_S3sqTO0"
      }
    },
    {
      "cell_type": "markdown",
      "source": [
        "##**1. Introduction to Basic Python**"
      ],
      "metadata": {
        "id": "oxvtxovDofkK"
      }
    },
    {
      "cell_type": "markdown",
      "source": [
        "###1.1 Basic Datatypes\n",
        "\n",
        "In this section, we will go over simple data types in Python. These are some of the\n",
        "essential building blocks for handling information in Python. The data types we will\n",
        "learn are strings, integers, floats, and other non–whole number types."
      ],
      "metadata": {
        "id": "AucYbnn2rVct"
      }
    },
    {
      "cell_type": "markdown",
      "source": [
        "####**1.1.1 Strings**"
      ],
      "metadata": {
        "id": "Q0FerU6ctxnJ"
      }
    },
    {
      "cell_type": "markdown",
      "source": [
        "A *string* is basically text and it is denoted by\n",
        "using quotes (Single or double). Strings can contain numbers, letters, and symbols. Essentially, in Python, strings are arrays of bytes representing Unicode characters.\n",
        "\n",
        "An example of a String is:\n",
        "\n",
        "*'cat'*\n",
        "\n",
        "*'This is a string.'*\n",
        "\n",
        "*'5'*\n",
        "\n",
        "*'walking'*\n",
        "\n",
        "*'$GOObarBaz340 '*"
      ],
      "metadata": {
        "id": "q8aNlgamt5FD"
      }
    },
    {
      "cell_type": "code",
      "source": [
        "'An example of a string'"
      ],
      "metadata": {
        "colab": {
          "base_uri": "https://localhost:8080/",
          "height": 35
        },
        "id": "NQIvL_a7ukgy",
        "outputId": "948f1e52-e16c-4de6-8e62-8e964f282320"
      },
      "execution_count": null,
      "outputs": [
        {
          "output_type": "execute_result",
          "data": {
            "text/plain": [
              "'An example of a string'"
            ],
            "application/vnd.google.colaboratory.intrinsic+json": {
              "type": "string"
            }
          },
          "metadata": {},
          "execution_count": 3
        }
      ]
    },
    {
      "cell_type": "markdown",
      "source": [
        "**Assigning & Printing a String**"
      ],
      "metadata": {
        "id": "CSqxInN8vJyf"
      }
    },
    {
      "cell_type": "code",
      "source": [
        "x = 'hello' #Assigning a string to a variable."
      ],
      "metadata": {
        "id": "kqDV9jUXvZFu"
      },
      "execution_count": null,
      "outputs": []
    },
    {
      "cell_type": "code",
      "source": [
        "x"
      ],
      "metadata": {
        "colab": {
          "base_uri": "https://localhost:8080/",
          "height": 35
        },
        "id": "i51eZpwkvcjW",
        "outputId": "74b6babd-5130-46db-f3fb-bef7868b148f"
      },
      "execution_count": null,
      "outputs": [
        {
          "output_type": "execute_result",
          "data": {
            "text/plain": [
              "'hello'"
            ],
            "application/vnd.google.colaboratory.intrinsic+json": {
              "type": "string"
            }
          },
          "metadata": {},
          "execution_count": 5
        }
      ]
    },
    {
      "cell_type": "code",
      "source": [
        "print(x)"
      ],
      "metadata": {
        "colab": {
          "base_uri": "https://localhost:8080/"
        },
        "id": "PucWsPSKvd_h",
        "outputId": "b3807829-0465-4b92-8e0d-cc7edafb6ed7"
      },
      "execution_count": null,
      "outputs": [
        {
          "output_type": "stream",
          "name": "stdout",
          "text": [
            "hello\n"
          ]
        }
      ]
    },
    {
      "cell_type": "markdown",
      "source": [
        "Another example of printing:"
      ],
      "metadata": {
        "id": "U6I5wTXKwFsT"
      }
    },
    {
      "cell_type": "code",
      "source": [
        "num = '12'\n",
        "name = 'Sam'"
      ],
      "metadata": {
        "id": "FUAqkggowHua"
      },
      "execution_count": null,
      "outputs": []
    },
    {
      "cell_type": "code",
      "source": [
        "#Format 1\n",
        "\n",
        "print('My number is: {one}, and my name is: {two}'.format(one=num,two=name))"
      ],
      "metadata": {
        "colab": {
          "base_uri": "https://localhost:8080/"
        },
        "id": "buTrN8t3wJyQ",
        "outputId": "5c189f39-bfbd-4dcc-e4fb-83836c3cd422"
      },
      "execution_count": null,
      "outputs": [
        {
          "output_type": "stream",
          "name": "stdout",
          "text": [
            "My number is: 12, and my name is: Sam\n"
          ]
        }
      ]
    },
    {
      "cell_type": "code",
      "source": [
        "#Format 2\n",
        "\n",
        "print('My number is: {}, and my name is: {}'.format(num,name))"
      ],
      "metadata": {
        "colab": {
          "base_uri": "https://localhost:8080/"
        },
        "id": "eJJ7W319wUQK",
        "outputId": "1510bfba-1e04-4a52-d5f2-de12eed40979"
      },
      "execution_count": null,
      "outputs": [
        {
          "output_type": "stream",
          "name": "stdout",
          "text": [
            "My number is: 12, and my name is: Sam\n"
          ]
        }
      ]
    },
    {
      "cell_type": "markdown",
      "source": [
        "**Using split() in Python**"
      ],
      "metadata": {
        "id": "_WHokPtvp722"
      }
    },
    {
      "cell_type": "markdown",
      "source": [
        "If you look at the string **'cat,dog,horse'**, it looks like it is a list saved in a string. It’s actually a single value, but with the Python string’s built-in split method we can divide the string into smaller pieces by splitting it on the comma character, like so:\n"
      ],
      "metadata": {
        "id": "o1KBwHbOqF91"
      }
    },
    {
      "cell_type": "code",
      "source": [
        "'cat,dog,horse'.split(',')"
      ],
      "metadata": {
        "colab": {
          "base_uri": "https://localhost:8080/"
        },
        "id": "9bcj8m84qS4m",
        "outputId": "1a5b3cc7-aa7b-43c0-dd68-fbc2514ad3c8"
      },
      "execution_count": null,
      "outputs": [
        {
          "output_type": "execute_result",
          "data": {
            "text/plain": [
              "['cat', 'dog', 'horse']"
            ]
          },
          "metadata": {},
          "execution_count": 1
        }
      ]
    },
    {
      "cell_type": "markdown",
      "source": [
        "We can split a string against any separator which needs to be specified within the brackets."
      ],
      "metadata": {
        "id": "tdKtwabjqwsj"
      }
    },
    {
      "cell_type": "markdown",
      "source": [
        "####**1.1.2 Integer**\n",
        "\n"
      ],
      "metadata": {
        "id": "VwaUeVq3waWV"
      }
    },
    {
      "cell_type": "markdown",
      "source": [
        "An *integer* is a whole number. \n",
        "\n",
        "Example: 5, 0, -10, 100, -9999, 25842\n",
        "\n",
        "If you enter those into your Python interpreter, the interpreter will return them back to you.\n",
        "\n",
        "Notice in the string example in the previous section, we had a '5'. If a number is entered within quotes, Python will process the value as a string. In the following\n",
        "example, the first value and second value are not equal:\n",
        "\n",
        "To test this, enter the following into your interpreter:\n",
        "\n"
      ],
      "metadata": {
        "id": "ZZfsLGgcw1bd"
      }
    },
    {
      "cell_type": "code",
      "source": [
        "5 == '5'\n"
      ],
      "metadata": {
        "colab": {
          "base_uri": "https://localhost:8080/"
        },
        "id": "wYm0mcfTxZfA",
        "outputId": "f5d571bf-b719-41ea-f86c-d4fabc693884"
      },
      "execution_count": null,
      "outputs": [
        {
          "output_type": "execute_result",
          "data": {
            "text/plain": [
              "False"
            ]
          },
          "metadata": {},
          "execution_count": 11
        }
      ]
    },
    {
      "cell_type": "markdown",
      "source": [
        "In the previous statement, we asked Python whether 5 the integer was the same as '5' the string. What did Python return? **False.**\n",
        "\n",
        "Basically, the numbers stored as Strings are characters and you cannot peroform calculations on characters. We need numbers for that. "
      ],
      "metadata": {
        "id": "gGCMBRtexi0h"
      }
    },
    {
      "cell_type": "markdown",
      "source": [
        "####**1.1.3 Floats**"
      ],
      "metadata": {
        "id": "g3dErQDWzA25"
      }
    },
    {
      "cell_type": "markdown",
      "source": [
        "A *float* value is a decimal value.\n",
        "\n",
        "When a non–whole number is used in Python, it defaults to turning the value into a float. A float uses the built-in floating-point data type for your Python version. This means Python stores an approximation of the numeric value—an approximation that reflects only a certain level of precision.\n",
        "\n",
        "Notice the difference between the following two numbers when you enter them into\n",
        "your Python interpreter:"
      ],
      "metadata": {
        "id": "JYdJyyYfzGd7"
      }
    },
    {
      "cell_type": "code",
      "source": [
        "2\n",
        "2.0"
      ],
      "metadata": {
        "id": "yiAOVIsbzYjX"
      },
      "execution_count": null,
      "outputs": []
    },
    {
      "cell_type": "markdown",
      "source": [
        "####**1.1.4 Basic Operations on Numbers**"
      ],
      "metadata": {
        "id": "_9b0ELQCz5li"
      }
    },
    {
      "cell_type": "markdown",
      "source": [
        "Now, let's see some basic operations that can be performed on Integers."
      ],
      "metadata": {
        "id": "k7wKdv4Ry4eW"
      }
    },
    {
      "cell_type": "code",
      "source": [
        "#Addition\n",
        "\n",
        "x = 10 + 56\n",
        "y = 0.5 + 9.9\n",
        "\n",
        "print(x)\n",
        "print(y)"
      ],
      "metadata": {
        "colab": {
          "base_uri": "https://localhost:8080/"
        },
        "id": "Od7w0gV6z-jn",
        "outputId": "b6219a53-a2cf-4c3b-caad-25fcacbfe4eb"
      },
      "execution_count": null,
      "outputs": [
        {
          "output_type": "stream",
          "name": "stdout",
          "text": [
            "66\n",
            "10.4\n"
          ]
        }
      ]
    },
    {
      "cell_type": "code",
      "source": [
        "#Subtraction\n",
        "\n",
        "x = 23 - 47\n",
        "y = 81.9 - 66.75\n",
        "\n",
        "print(x)\n",
        "print(y)"
      ],
      "metadata": {
        "colab": {
          "base_uri": "https://localhost:8080/"
        },
        "id": "qmW9Z6Jy0Q5j",
        "outputId": "75f24ac4-ab07-4fa7-b012-3d89e4918086"
      },
      "execution_count": null,
      "outputs": [
        {
          "output_type": "stream",
          "name": "stdout",
          "text": [
            "-24\n",
            "15.150000000000006\n"
          ]
        }
      ]
    },
    {
      "cell_type": "code",
      "source": [
        "#Multiplication\n",
        "\n",
        "x = 61 * 10\n",
        "y = 9.65 * 0.25\n",
        "\n",
        "print(x)\n",
        "print(y)"
      ],
      "metadata": {
        "colab": {
          "base_uri": "https://localhost:8080/"
        },
        "id": "CxoUDy930dZo",
        "outputId": "2044b273-6290-4802-9800-df797fc493ed"
      },
      "execution_count": null,
      "outputs": [
        {
          "output_type": "stream",
          "name": "stdout",
          "text": [
            "610\n",
            "2.4125\n"
          ]
        }
      ]
    },
    {
      "cell_type": "code",
      "source": [
        "#Division\n",
        "\n",
        "x = 100 / 25\n",
        "y = 100.0/12.5\n",
        "\n",
        "print(x)\n",
        "print(y)"
      ],
      "metadata": {
        "colab": {
          "base_uri": "https://localhost:8080/"
        },
        "id": "HL80k6uP0rWi",
        "outputId": "acba5eb9-2a02-4d42-d510-94c3a129696f"
      },
      "execution_count": null,
      "outputs": [
        {
          "output_type": "stream",
          "name": "stdout",
          "text": [
            "4.0\n",
            "8.0\n"
          ]
        }
      ]
    },
    {
      "cell_type": "code",
      "source": [
        "#Modulus for Remainder\n",
        "\n",
        "x = 30 % 10\n",
        "y = 999.99 % 2.50\n",
        "\n",
        "print(x)\n",
        "print(y)"
      ],
      "metadata": {
        "colab": {
          "base_uri": "https://localhost:8080/"
        },
        "id": "pilait1S06sf",
        "outputId": "17c4a442-f196-44b2-d757-459e13afe1fe"
      },
      "execution_count": null,
      "outputs": [
        {
          "output_type": "stream",
          "name": "stdout",
          "text": [
            "0\n",
            "2.490000000000009\n"
          ]
        }
      ]
    },
    {
      "cell_type": "code",
      "source": [
        "#Power Indices\n",
        "\n",
        "x = 5 ** 3\n",
        "y = 17.5 ** 0.1\n",
        "\n",
        "print(x)\n",
        "print(y)"
      ],
      "metadata": {
        "colab": {
          "base_uri": "https://localhost:8080/"
        },
        "id": "4TjBJXaI1KBz",
        "outputId": "9b86f584-06e0-4177-85ad-3b5adecbe40e"
      },
      "execution_count": null,
      "outputs": [
        {
          "output_type": "stream",
          "name": "stdout",
          "text": [
            "125\n",
            "1.331385445092909\n"
          ]
        }
      ]
    },
    {
      "cell_type": "code",
      "source": [
        "#Brackets for BODMAS\n",
        "\n",
        "x = (2 + 3) * (5 + 2.5)\n",
        "\n",
        "print(x)"
      ],
      "metadata": {
        "colab": {
          "base_uri": "https://localhost:8080/"
        },
        "id": "NpMvkpgN1X8P",
        "outputId": "bc011ee9-259d-42fa-e996-596a2dbb5e7b"
      },
      "execution_count": null,
      "outputs": [
        {
          "output_type": "stream",
          "name": "stdout",
          "text": [
            "37.5\n"
          ]
        }
      ]
    },
    {
      "cell_type": "markdown",
      "source": [
        "####**1.1.5 List**\n",
        "\n"
      ],
      "metadata": {
        "id": "4YiSt0_70QYL"
      }
    },
    {
      "cell_type": "markdown",
      "source": [
        "A list is a group of values that have some relationship in common. You use a list in Python similarly to how you would use it in normal language. In Python, you can\n",
        "create a list of items by placing them within square brackets([]) and separating them with commas.\n",
        "\n",
        "Let’s make a list of groceries in Python:"
      ],
      "metadata": {
        "id": "-OikpKy31_NL"
      }
    },
    {
      "cell_type": "code",
      "source": [
        "['milk', 'lettuce', 'eggs']"
      ],
      "metadata": {
        "colab": {
          "base_uri": "https://localhost:8080/"
        },
        "id": "XsggeZke2NqF",
        "outputId": "b1d8da94-e6a2-476a-fcbd-e143ce7b65bc"
      },
      "execution_count": null,
      "outputs": [
        {
          "output_type": "execute_result",
          "data": {
            "text/plain": [
              "['milk', 'lettuce', 'eggs']"
            ]
          },
          "metadata": {},
          "execution_count": 27
        }
      ]
    },
    {
      "cell_type": "markdown",
      "source": [
        "You can make lists of any Python data type, or any mixture of data types (i.e., floats and strings)."
      ],
      "metadata": {
        "id": "67_87UHI2T2O"
      }
    },
    {
      "cell_type": "code",
      "source": [
        "['hi',1,1,2.5]"
      ],
      "metadata": {
        "colab": {
          "base_uri": "https://localhost:8080/"
        },
        "id": "2OF15cr42VAI",
        "outputId": "c81e0c25-89c0-4401-f688-8a9a386f9dbd"
      },
      "execution_count": null,
      "outputs": [
        {
          "output_type": "execute_result",
          "data": {
            "text/plain": [
              "['hi', 1, 1, 2.5]"
            ]
          },
          "metadata": {},
          "execution_count": 28
        }
      ]
    },
    {
      "cell_type": "markdown",
      "source": [
        "You can also create lists of lists. Let’s say we have a list of names for our animals:"
      ],
      "metadata": {
        "id": "O1Mt-VOR2ebZ"
      }
    },
    {
      "cell_type": "code",
      "source": [
        "cat_names = ['Walter', 'Ra']\n",
        "dog_names = ['Joker', 'Simon', 'Ellie', 'Lishka', 'Fido']\n",
        "horse_names = ['Mr. Ed']\n",
        "animal_names = [cat_names, dog_names, horse_names]"
      ],
      "metadata": {
        "id": "nw2OUw1O2j1k"
      },
      "execution_count": null,
      "outputs": []
    },
    {
      "cell_type": "code",
      "source": [
        "print(animal_names)"
      ],
      "metadata": {
        "colab": {
          "base_uri": "https://localhost:8080/"
        },
        "id": "pARUm_mP2nkT",
        "outputId": "da0b5605-f0a1-40ce-fc85-96a0031354af"
      },
      "execution_count": null,
      "outputs": [
        {
          "output_type": "stream",
          "name": "stdout",
          "text": [
            "[['Walter', 'Ra'], ['Joker', 'Simon', 'Ellie', 'Lishka', 'Fido'], ['Mr. Ed']]\n"
          ]
        }
      ]
    },
    {
      "cell_type": "markdown",
      "source": [
        "####**1.1.6 Dictionary**\n"
      ],
      "metadata": {
        "id": "cO_eDNpD2u_z"
      }
    },
    {
      "cell_type": "markdown",
      "source": [
        "A *dictionary* is a collection of data which is ordered*, changeable and do not allow duplicates. \n",
        "\n",
        "Unlike other data types that hold only a single value as an element, Dictionary holds key:value pair. Key-value is provided in the dictionary to make it more optimized. "
      ],
      "metadata": {
        "id": "JzBOktgF2zHE"
      }
    },
    {
      "cell_type": "code",
      "source": [
        "# Creating a dictionary with integer keys\n",
        "\n",
        "Dict = {1: 'Geeks', 2: 'For', 3: 'Geeks'}\n",
        "print(Dict)"
      ],
      "metadata": {
        "colab": {
          "base_uri": "https://localhost:8080/"
        },
        "id": "HKrB6GmA3VMd",
        "outputId": "67538ab1-b54b-4e71-a0bb-0129c081caba"
      },
      "execution_count": null,
      "outputs": [
        {
          "output_type": "stream",
          "name": "stdout",
          "text": [
            "{1: 'Geeks', 2: 'For', 3: 'Geeks'}\n"
          ]
        }
      ]
    },
    {
      "cell_type": "markdown",
      "source": [
        "We can also access individual elements of the dictionary via their keys."
      ],
      "metadata": {
        "id": "Z3VuuEp_3pRg"
      }
    },
    {
      "cell_type": "code",
      "source": [
        "print(Dict[2])"
      ],
      "metadata": {
        "colab": {
          "base_uri": "https://localhost:8080/"
        },
        "id": "33eP8fRm3vfP",
        "outputId": "3f1cd292-2313-413a-919b-f413f675a5c9"
      },
      "execution_count": null,
      "outputs": [
        {
          "output_type": "stream",
          "name": "stdout",
          "text": [
            "For\n"
          ]
        }
      ]
    },
    {
      "cell_type": "markdown",
      "source": [
        "####**1.1.7 Indexing in Python**"
      ],
      "metadata": {
        "id": "GCHg7F9erLib"
      }
    },
    {
      "cell_type": "markdown",
      "source": [
        "Since we have learnt about the various data types, let us move on to learning how to index & slice them to retrieve our relevant data."
      ],
      "metadata": {
        "id": "zpOna5L_rUx4"
      }
    },
    {
      "cell_type": "markdown",
      "source": [
        "**List**\n",
        "\n"
      ],
      "metadata": {
        "id": "Isc6XC_yrqYo"
      }
    },
    {
      "cell_type": "code",
      "source": [
        "my_list = ['a', 'b', 'c', 'd'] \n",
        "\n",
        "#Indexing starts from 0"
      ],
      "metadata": {
        "id": "1gvkzpGosgge"
      },
      "execution_count": null,
      "outputs": []
    },
    {
      "cell_type": "code",
      "source": [
        "my_list[1]"
      ],
      "metadata": {
        "colab": {
          "base_uri": "https://localhost:8080/",
          "height": 35
        },
        "id": "_P5VQPJSskY-",
        "outputId": "6d084a34-ac55-4c10-c2a5-2bd580f1feb4"
      },
      "execution_count": null,
      "outputs": [
        {
          "output_type": "execute_result",
          "data": {
            "text/plain": [
              "'b'"
            ],
            "application/vnd.google.colaboratory.intrinsic+json": {
              "type": "string"
            }
          },
          "metadata": {},
          "execution_count": 3
        }
      ]
    },
    {
      "cell_type": "code",
      "source": [
        "my_list[1:]\n",
        "\n",
        "#Prints from the X:Y with X being included and Y excluded."
      ],
      "metadata": {
        "colab": {
          "base_uri": "https://localhost:8080/"
        },
        "id": "cjousZrWso3I",
        "outputId": "c79b98b3-341b-4362-c690-7e9ad0213679"
      },
      "execution_count": null,
      "outputs": [
        {
          "output_type": "execute_result",
          "data": {
            "text/plain": [
              "['b', 'c', 'd']"
            ]
          },
          "metadata": {},
          "execution_count": 4
        }
      ]
    },
    {
      "cell_type": "code",
      "source": [
        "nest = [1,2,3,[4,5,['target']]]"
      ],
      "metadata": {
        "id": "K9IAr6cJsosv"
      },
      "execution_count": null,
      "outputs": []
    },
    {
      "cell_type": "code",
      "source": [
        "nest[3][2][0]\n",
        "\n",
        "#Retrieving data from a nested List"
      ],
      "metadata": {
        "colab": {
          "base_uri": "https://localhost:8080/",
          "height": 35
        },
        "id": "pl02DcprtCD-",
        "outputId": "62816f6b-874a-4ca0-c941-d7f4667db826"
      },
      "execution_count": null,
      "outputs": [
        {
          "output_type": "execute_result",
          "data": {
            "text/plain": [
              "'target'"
            ],
            "application/vnd.google.colaboratory.intrinsic+json": {
              "type": "string"
            }
          },
          "metadata": {},
          "execution_count": 6
        }
      ]
    },
    {
      "cell_type": "markdown",
      "source": [
        "**String**"
      ],
      "metadata": {
        "id": "Kse2_4VItOIo"
      }
    },
    {
      "cell_type": "code",
      "source": [
        "s = \"Hey there! I'm learning Python!\""
      ],
      "metadata": {
        "id": "hqkG0BRPtP_y"
      },
      "execution_count": null,
      "outputs": []
    },
    {
      "cell_type": "code",
      "source": [
        "s[0:3]\n",
        "\n",
        "#Extracting Hey"
      ],
      "metadata": {
        "colab": {
          "base_uri": "https://localhost:8080/",
          "height": 35
        },
        "id": "YHIP1rJGtnYr",
        "outputId": "3c016e07-73bf-47c2-e25a-17c5908fe531"
      },
      "execution_count": null,
      "outputs": [
        {
          "output_type": "execute_result",
          "data": {
            "text/plain": [
              "'Hey'"
            ],
            "application/vnd.google.colaboratory.intrinsic+json": {
              "type": "string"
            }
          },
          "metadata": {},
          "execution_count": 8
        }
      ]
    },
    {
      "cell_type": "code",
      "source": [
        "s.split()"
      ],
      "metadata": {
        "colab": {
          "base_uri": "https://localhost:8080/"
        },
        "id": "vJNFjpidtvAW",
        "outputId": "41e17f42-a036-4c4c-a267-b3271a142378"
      },
      "execution_count": null,
      "outputs": [
        {
          "output_type": "execute_result",
          "data": {
            "text/plain": [
              "['Hey', 'there!', \"I'm\", 'learning', 'Python!']"
            ]
          },
          "metadata": {},
          "execution_count": 10
        }
      ]
    },
    {
      "cell_type": "markdown",
      "source": [
        "**Dictionary**"
      ],
      "metadata": {
        "id": "RzDRpWrwt2nF"
      }
    },
    {
      "cell_type": "code",
      "source": [
        "d = {'key1':'item1','key2':'item2'}"
      ],
      "metadata": {
        "id": "JCZuphoyt4gA"
      },
      "execution_count": null,
      "outputs": []
    },
    {
      "cell_type": "code",
      "source": [
        "d['key2']"
      ],
      "metadata": {
        "colab": {
          "base_uri": "https://localhost:8080/",
          "height": 35
        },
        "id": "KZXNSqKyuB-x",
        "outputId": "9ed332f8-3ff6-4697-968d-d1125896194e"
      },
      "execution_count": null,
      "outputs": [
        {
          "output_type": "execute_result",
          "data": {
            "text/plain": [
              "'item2'"
            ],
            "application/vnd.google.colaboratory.intrinsic+json": {
              "type": "string"
            }
          },
          "metadata": {},
          "execution_count": 12
        }
      ]
    },
    {
      "cell_type": "markdown",
      "source": [
        "####**1.1.8 What can various Data Types do?**"
      ],
      "metadata": {
        "id": "2-y-ibNl4AZC"
      }
    },
    {
      "cell_type": "markdown",
      "source": [
        "Each of the basic data types can do a variety of things. Here is a list of the data types\n",
        "we’ve learned about so far, followed by examples of the kinds of actions you can tell\n",
        "them to do:"
      ],
      "metadata": {
        "id": "_mouv2pv4GEo"
      }
    },
    {
      "cell_type": "markdown",
      "source": [
        "• Strings\n",
        "1. Change case\n",
        "2.  Strip space off the end of a string \n",
        "3. Split a string\n",
        "\n",
        "• Integers and decimals\n",
        "1. Add and subtract\n",
        "2. Simple math\n",
        "\n",
        "• Lists\n",
        "1. Add to or subtract from the list\n",
        "2. Remove the last item of the list\n",
        "3. Reorder the list\n",
        "4. Sort the list\n",
        "\n",
        "• Dictionaries\n",
        "1. Add a key/value pair\n",
        "2. Set a new value to the corresponding key\n",
        "3. Look up a value by the key"
      ],
      "metadata": {
        "id": "5LrwN5rp4Iej"
      }
    },
    {
      "cell_type": "markdown",
      "source": [
        "###**1.2 Defining Functions**"
      ],
      "metadata": {
        "id": "Dt285OeWw3zj"
      }
    },
    {
      "cell_type": "markdown",
      "source": [
        "Just like the pre-defined functions in python, we can also define our own functions in python to reduce the load of our code and avoid writing the same chunk of code again & again. \n",
        "\n",
        "The format for the same: "
      ],
      "metadata": {
        "id": "Vfc3X8L9xBGW"
      }
    },
    {
      "cell_type": "code",
      "source": [
        "def my_func(param1='default'):\n",
        "    \"\"\"\n",
        "    Docstring goes here.\n",
        "    \"\"\"\n",
        "    print(param1)"
      ],
      "metadata": {
        "id": "4I84D-pPxWAb"
      },
      "execution_count": null,
      "outputs": []
    },
    {
      "cell_type": "code",
      "source": [
        "my_func()"
      ],
      "metadata": {
        "colab": {
          "base_uri": "https://localhost:8080/"
        },
        "id": "l31NvnCsxZqd",
        "outputId": "bbd15d3e-faa4-4ff0-f503-406ae6940ff1"
      },
      "execution_count": null,
      "outputs": [
        {
          "output_type": "stream",
          "name": "stdout",
          "text": [
            "default\n"
          ]
        }
      ]
    },
    {
      "cell_type": "code",
      "source": [
        "my_func('new param')"
      ],
      "metadata": {
        "colab": {
          "base_uri": "https://localhost:8080/"
        },
        "id": "wYnw3sSnxcFk",
        "outputId": "4fa9f95f-d982-4455-a65c-8d5b930c653c"
      },
      "execution_count": null,
      "outputs": [
        {
          "output_type": "stream",
          "name": "stdout",
          "text": [
            "new param\n"
          ]
        }
      ]
    },
    {
      "cell_type": "markdown",
      "source": [
        "Now that we know how this works, let's define a function to return the square of a number. "
      ],
      "metadata": {
        "id": "49XErp-Bw_GJ"
      }
    },
    {
      "cell_type": "code",
      "source": [
        "def square(x):\n",
        "    return x**2"
      ],
      "metadata": {
        "id": "zm_bJL2lxqxX"
      },
      "execution_count": null,
      "outputs": []
    },
    {
      "cell_type": "code",
      "source": [
        "out = square(5)"
      ],
      "metadata": {
        "id": "NPnRepsFxsA6"
      },
      "execution_count": null,
      "outputs": []
    },
    {
      "cell_type": "code",
      "source": [
        "print(out)"
      ],
      "metadata": {
        "colab": {
          "base_uri": "https://localhost:8080/"
        },
        "id": "5nHjdB6Xxuth",
        "outputId": "ac46fa11-f4d0-41ad-a079-c8f18be3e58f"
      },
      "execution_count": null,
      "outputs": [
        {
          "output_type": "stream",
          "name": "stdout",
          "text": [
            "25\n"
          ]
        }
      ]
    },
    {
      "cell_type": "markdown",
      "source": [
        "###**1.3 Exercises**"
      ],
      "metadata": {
        "id": "uwNafFX04rmp"
      }
    },
    {
      "cell_type": "markdown",
      "source": [
        "What is 7 to the power of 4?"
      ],
      "metadata": {
        "id": "dp6TqAwL4xTw"
      }
    },
    {
      "cell_type": "code",
      "source": [
        "#Write your code here\n",
        "\n"
      ],
      "metadata": {
        "id": "02L9AYLHndmD"
      },
      "execution_count": null,
      "outputs": []
    },
    {
      "cell_type": "markdown",
      "source": [
        "Split this string into a list."
      ],
      "metadata": {
        "id": "l7PEUqq8nhUd"
      }
    },
    {
      "cell_type": "code",
      "source": [
        "s = \"Hi there Sam!\""
      ],
      "metadata": {
        "id": "vbwbKt1zuOtj"
      },
      "execution_count": null,
      "outputs": []
    },
    {
      "cell_type": "code",
      "source": [
        "#Wtite your code here"
      ],
      "metadata": {
        "id": "V9DoHsgjuQWp"
      },
      "execution_count": null,
      "outputs": []
    },
    {
      "cell_type": "markdown",
      "source": [
        "Given the variables, use *format()* to print the following string:\n"
      ],
      "metadata": {
        "id": "Jm4cgd15uS59"
      }
    },
    {
      "cell_type": "code",
      "source": [
        "planet = \"Earth\"\n",
        "diameter = 12742"
      ],
      "metadata": {
        "id": "PXxaK866ulJy"
      },
      "execution_count": null,
      "outputs": []
    },
    {
      "cell_type": "code",
      "source": [
        "#Print\n",
        "\n"
      ],
      "metadata": {
        "id": "BZMugu1ruu20"
      },
      "execution_count": null,
      "outputs": []
    },
    {
      "cell_type": "markdown",
      "source": [
        "Given this nested list, use indexing to grab the word \"hello\""
      ],
      "metadata": {
        "id": "Dk40t8CHu0Li"
      }
    },
    {
      "cell_type": "code",
      "source": [
        "lst = [1,2,[3,4],[5,[100,200,['hello']],23,11],1,7]"
      ],
      "metadata": {
        "id": "j1lSW4Yru3_4"
      },
      "execution_count": null,
      "outputs": []
    },
    {
      "cell_type": "code",
      "source": [
        "#Write your code here\n",
        "\n"
      ],
      "metadata": {
        "id": "E2pO7y9du7Y1"
      },
      "execution_count": null,
      "outputs": []
    },
    {
      "cell_type": "markdown",
      "source": [
        "Given this nest dictionary grab the word \"hello\". Be prepared, this will be tricky."
      ],
      "metadata": {
        "id": "yf0YUwZxu9q0"
      }
    },
    {
      "cell_type": "code",
      "source": [
        "d = {'k1':[1,2,3,{'tricky':['oh','man','inception',{'target':[1,2,3,'hello']}]}]}"
      ],
      "metadata": {
        "id": "WdoteoSEvFGw"
      },
      "execution_count": null,
      "outputs": []
    },
    {
      "cell_type": "code",
      "source": [
        "#Write your code here\n",
        "\n"
      ],
      "metadata": {
        "id": "GWJyxcgYvJAj"
      },
      "execution_count": null,
      "outputs": []
    },
    {
      "cell_type": "markdown",
      "source": [
        "Create a function that grabs the email website domain from a string in the form:\n",
        "\n",
        "    user@domain.com\n",
        "    \n",
        "So for example, passing \"user@domain.com\" would return: domain.com"
      ],
      "metadata": {
        "id": "2Rejel-Px7Z4"
      }
    },
    {
      "cell_type": "code",
      "source": [
        "#Write your code here\n",
        "\n",
        "def domainGet(email):\n",
        "    return email.split('@')[-1]"
      ],
      "metadata": {
        "id": "FfYnlQUPx_sX"
      },
      "execution_count": null,
      "outputs": []
    },
    {
      "cell_type": "code",
      "source": [
        "domainGet('user@domain.com')"
      ],
      "metadata": {
        "colab": {
          "base_uri": "https://localhost:8080/",
          "height": 34
        },
        "id": "N4x2uf57yGhF",
        "outputId": "9ce35496-07dd-446b-e62d-43acf52fff6e"
      },
      "execution_count": null,
      "outputs": [
        {
          "output_type": "execute_result",
          "data": {
            "text/plain": [
              "'domain.com'"
            ],
            "application/vnd.google.colaboratory.intrinsic+json": {
              "type": "string"
            }
          },
          "metadata": {},
          "execution_count": 8
        }
      ]
    },
    {
      "cell_type": "markdown",
      "source": [
        "Create a basic function that returns True if the word 'dog' is contained in the input string. Don't worry about edge cases like a punctuation being attached to the word dog, but do account for capitalization."
      ],
      "metadata": {
        "id": "z46i5VtNyJ5H"
      }
    },
    {
      "cell_type": "code",
      "source": [
        "#define your function here\n",
        "\n",
        "def findDog(st):\n",
        "    return 'dog' in st.lower().split()"
      ],
      "metadata": {
        "id": "SqCNWFyAy4TS"
      },
      "execution_count": null,
      "outputs": []
    },
    {
      "cell_type": "code",
      "source": [
        "findDog('Is there a Dog here?')"
      ],
      "metadata": {
        "colab": {
          "base_uri": "https://localhost:8080/"
        },
        "id": "qIo5hCv7y_XI",
        "outputId": "e2671dc6-65dc-4663-f5bf-4f657fa0a071"
      },
      "execution_count": null,
      "outputs": [
        {
          "output_type": "execute_result",
          "data": {
            "text/plain": [
              "True"
            ]
          },
          "metadata": {},
          "execution_count": 10
        }
      ]
    },
    {
      "cell_type": "markdown",
      "source": [
        "Create a function that counts the number of times the word \"dog\" occurs in a string. Again ignore edge cases."
      ],
      "metadata": {
        "id": "vF9dxjsXzIUR"
      }
    },
    {
      "cell_type": "code",
      "source": [
        "#define ypur function here\n",
        "\n",
        "def countDog(st):\n",
        "    count = 0\n",
        "    for word in st.lower().split():\n",
        "        if word == 'dog':\n",
        "            count += 1\n",
        "    return count"
      ],
      "metadata": {
        "id": "pcqtjDt2zIBy"
      },
      "execution_count": null,
      "outputs": []
    },
    {
      "cell_type": "code",
      "source": [
        "countDog('This dog runs faster than the other dog dude!')"
      ],
      "metadata": {
        "colab": {
          "base_uri": "https://localhost:8080/"
        },
        "id": "Jvbb5frvzTEh",
        "outputId": "5683198c-067f-44c4-98ce-5da0410f33d8"
      },
      "execution_count": null,
      "outputs": [
        {
          "output_type": "execute_result",
          "data": {
            "text/plain": [
              "2"
            ]
          },
          "metadata": {},
          "execution_count": 12
        }
      ]
    },
    {
      "cell_type": "markdown",
      "source": [
        "Let's complete this module with a tricky question. Don't worry if you're not able to solve it right now, eventually you'll be able to. "
      ],
      "metadata": {
        "id": "9xFIcIPqzZzr"
      }
    },
    {
      "cell_type": "markdown",
      "source": [
        "**Final Problem**\n",
        "\n",
        "You are driving a little too fast, and a police officer stops you. Write a function\n",
        "  to return one of 3 possible results: \"No ticket\", \"Small ticket\", or \"Big Ticket\". \n",
        "  If your speed is 60 or less, the result is \"No Ticket\". If speed is between 61 \n",
        "  and 80 inclusive, the result is \"Small Ticket\". If speed is 81 or more, the result is \"Big    Ticket\". Unless it is your birthday (encoded as a boolean value in the parameters of the function) -- on your birthday, your speed can be 5 higher in all \n",
        "  cases."
      ],
      "metadata": {
        "id": "hyYPie7XzuZz"
      }
    },
    {
      "cell_type": "code",
      "source": [
        "#Define your function here\n",
        "\n",
        "def caught_speeding(speed, is_birthday):\n",
        "    \n",
        "    if is_birthday:\n",
        "        speeding = speed - 5\n",
        "    else:\n",
        "        speeding = speed\n",
        "    \n",
        "    if speeding > 80:\n",
        "        return 'Big Ticket'\n",
        "    elif speeding > 60:\n",
        "        return 'Small Ticket'\n",
        "    else:\n",
        "        return 'No Ticket'"
      ],
      "metadata": {
        "id": "3-lz4daUz1GP"
      },
      "execution_count": null,
      "outputs": []
    },
    {
      "cell_type": "code",
      "source": [
        "caught_speeding(81,True)"
      ],
      "metadata": {
        "colab": {
          "base_uri": "https://localhost:8080/",
          "height": 34
        },
        "id": "KZ-UNBw_z616",
        "outputId": "0087edd7-e74b-4b1a-e9db-d1d90e128329"
      },
      "execution_count": null,
      "outputs": [
        {
          "output_type": "execute_result",
          "data": {
            "text/plain": [
              "'Small Ticket'"
            ],
            "application/vnd.google.colaboratory.intrinsic+json": {
              "type": "string"
            }
          },
          "metadata": {},
          "execution_count": 14
        }
      ]
    },
    {
      "cell_type": "code",
      "source": [
        "caught_speeding(81,False)"
      ],
      "metadata": {
        "colab": {
          "base_uri": "https://localhost:8080/",
          "height": 34
        },
        "id": "i1aSziatz9aY",
        "outputId": "5015a4ce-437e-4a61-d16d-878564e91c06"
      },
      "execution_count": null,
      "outputs": [
        {
          "output_type": "execute_result",
          "data": {
            "text/plain": [
              "'Big Ticket'"
            ],
            "application/vnd.google.colaboratory.intrinsic+json": {
              "type": "string"
            }
          },
          "metadata": {},
          "execution_count": 15
        }
      ]
    },
    {
      "cell_type": "markdown",
      "source": [
        "**Great Job!**"
      ],
      "metadata": {
        "id": "GbrdK4Wkz-4Q"
      }
    }
  ]
}