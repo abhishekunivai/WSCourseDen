{
  "nbformat": 4,
  "nbformat_minor": 0,
  "metadata": {
    "colab": {
      "name": "python_sql.ipynb",
      "provenance": []
    },
    "kernelspec": {
      "name": "python3",
      "display_name": "Python 3"
    },
    "language_info": {
      "name": "python"
    }
  },
  "cells": [
    {
      "cell_type": "markdown",
      "source": [
        "## Python + SQL\n"
      ],
      "metadata": {
        "id": "YdlyJS3wenhC"
      }
    },
    {
      "cell_type": "markdown",
      "source": [
        "#### Install and import connector"
      ],
      "metadata": {
        "id": "OkglkyjEfFy6"
      }
    },
    {
      "cell_type": "markdown",
      "source": [
        "In case you use Python on your local system, then you have to install the mysql connector using the terminal.\n",
        "\n",
        "Shell Command - python -m pip install mysql-connector-python\n",
        "\n",
        "In case you use online resources like Google Colab, you can directly move on to importing the library.\n",
        "\n",
        "Shell Command - import mysql.connector"
      ],
      "metadata": {
        "id": "ZudRdqE4fQ9H"
      }
    },
    {
      "cell_type": "markdown",
      "source": [
        "#### Create connection"
      ],
      "metadata": {
        "id": "5fMbOxoffcTN"
      }
    },
    {
      "cell_type": "markdown",
      "source": [
        "Python Statement : mydb = mysql.connector.connect(\n",
        "  host=\"localhost\",\n",
        "  user=\"yourusername\",\n",
        "  password=\"yourpassword”,\n",
        "  [database=\"mydatabase\"]\n",
        ")"
      ],
      "metadata": {
        "id": "a-LYbIgZfnqh"
      }
    },
    {
      "cell_type": "markdown",
      "source": [
        "#### Use connection"
      ],
      "metadata": {
        "id": "dqPg4nEVfvjU"
      }
    },
    {
      "cell_type": "markdown",
      "source": [
        "To use the connection, first we have to create a cursor using the following command\n",
        "\n",
        "Python Statement : mycursor = mydb.cursor()"
      ],
      "metadata": {
        "id": "mALigVLlfxeT"
      }
    },
    {
      "cell_type": "markdown",
      "source": [
        "#### Execute commands"
      ],
      "metadata": {
        "id": "zT0QpJcvf78i"
      }
    },
    {
      "cell_type": "markdown",
      "source": [
        "To use the connection, first we have to create a cursor using the following command\n",
        "\n",
        "Python Statement : mycursor = mydb.cursor()\n",
        "\n",
        "Then, to execute the actual mysql command we execute the following:\n",
        "\n",
        "Python Statement : mycursor.execute(“<entire mysql command without ending semicolon>”)\n",
        "\n",
        "To make the changes final:\n",
        "\n",
        "Python Statement : mydb.commit()\n",
        "\n",
        "If the mysql command returns a result which can be displayed, after the mycursor.execute command, we run the following:\n",
        "\n",
        "Python Statement : myresult = mycursor.fetchall()\n",
        "\n",
        "Python Statement : for x in myresult: print(x)\n",
        "\n",
        "To enter the sql command which is multiple lines:\n",
        "\n",
        "Python Statement : sql = \"Line 1 \\\n",
        "  Line 2 \\\n",
        "  Line 3 \\\n",
        "  Line 4\"\n",
        "\n",
        "Python Statement : mycursor.execute(sql)\n",
        "\n",
        "Python Statement : myresult = mycursor.fetchall()\n",
        "\n",
        "Python Statement : for x in myresult:\n",
        "  print(x)\n",
        "\n",
        "Also to prevent sql injection error complications and confusions, we should denote the strings in the sql command in single quotes (‘’) and those of python in double quotes (“”)."
      ],
      "metadata": {
        "id": "kdsh7I1sf2U4"
      }
    }
  ]
}