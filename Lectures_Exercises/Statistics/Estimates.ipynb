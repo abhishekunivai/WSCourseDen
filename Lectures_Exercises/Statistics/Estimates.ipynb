{
  "nbformat": 4,
  "nbformat_minor": 0,
  "metadata": {
    "colab": {
      "name": "Stats1_estimates.ipynb",
      "provenance": [],
      "toc_visible": true
    },
    "kernelspec": {
      "name": "python3",
      "display_name": "Python 3"
    },
    "language_info": {
      "name": "python"
    }
  },
  "cells": [
    {
      "cell_type": "markdown",
      "source": [
        "#      **2.Estimates of Location**"
      ],
      "metadata": {
        "id": "s1llu8vMhk9a"
      }
    },
    {
      "cell_type": "markdown",
      "source": [
        "# **2.1.Definition of Location**\n",
        "A fundamental task in many statistical analyses is to estimate a location parameter for the distribution; i.e., to find a typical or central value that best describes the data.\n"
      ],
      "metadata": {
        "id": "ulPG7QCkhk48"
      }
    },
    {
      "cell_type": "markdown",
      "source": [
        "### 1.   **Mean** \n",
        "\n",
        "the mean is the sum of the data points divided by the number of data points. That is,\n",
        "\n",
        "    Y¯=∑i=1NYi/N\n",
        "\n",
        "  The mean is that value that is most commonly referred to as the average. We will use the term average as a synonym  for the mean and the term typical value to refer generically to measures of location."
      ],
      "metadata": {
        "id": "jyG-tHT-8pbi"
      }
    },
    {
      "cell_type": "markdown",
      "source": [
        "### 2. **Median** \n",
        "\n",
        "the median is the value of the point which has half the data smaller than that point and half the data larger than that point. That is, if X1, X2, ... ,XN is a random sample sorted from smallest value to largest value, then the median is defined as:\n",
        "\n",
        "    Ỹ =Y(N+1)/2if N is odd\n",
        "\n",
        "    Ỹ =(YN/2+Y(N/2)+1)/2if N is even"
      ],
      "metadata": {
        "id": "HdyJRPG98qEH"
      }
    },
    {
      "cell_type": "markdown",
      "source": [
        "### 3. **Mode** \n",
        "\n",
        "the mode is the value of the random sample that occurs with the greatest frequency. It is not necessarily unique. The mode is typically used in a qualitative fashion. For example, there may be a single dominant hump in the data perhaps two or more smaller humps in the data. This is usually evident from a histogram of the data."
      ],
      "metadata": {
        "id": "OrZpMxkg8t3p"
      }
    },
    {
      "cell_type": "markdown",
      "source": [
        "# **2.2.Why Different Measures?**"
      ],
      "metadata": {
        "id": "NzDKKMyn84G1"
      }
    },
    {
      "cell_type": "markdown",
      "source": [
        "### 1. **Normal Distribution**\n",
        "\n",
        "The first histogram is a sample from a normal distribution. The mean is 0.005, the median is -0.010, and the mode is -0.144 (the mode is computed as the midpoint of the histogram interval with the highest peak)."
      ],
      "metadata": {
        "id": "js-Z91w7849u"
      }
    },
    {
      "cell_type": "markdown",
      "source": [
        "### 2. **Exponential Distribution**\n",
        "\n",
        "The second histogram is a sample from an exponential distribution. The mean is 1.001, the median is 0.684, and the mode is 0.254 (the mode is computed as the midpoint of the histogram interval with the highest peak)."
      ],
      "metadata": {
        "id": "hpHzrTXw87iZ"
      }
    },
    {
      "cell_type": "markdown",
      "source": [
        "### 3. **Cauchy Distribution** \n",
        "\n",
        "The third histogram is a sample from a Cauchy distribution. The mean is 3.70, the median is -0.016, and the mode is -0.362 (the mode is computed as the midpoint of the histogram interval with the highest peak)."
      ],
      "metadata": {
        "id": "zcOYSbQm9OkH"
      }
    },
    {
      "cell_type": "markdown",
      "source": [
        "### 4. **Lognormal Distribution**\t\n",
        "\n",
        "The fourth histogram is a sample from a lognormal distribution. The mean is 1.677, the median is 0.989, and the mode is 0.680 (the mode is computed as the midpoint of the histogram interval with the highest peak)."
      ],
      "metadata": {
        "id": "kfissima9SX3"
      }
    },
    {
      "cell_type": "markdown",
      "source": [
        "# **2.3.Robustness**\n",
        "\n",
        "There are various alternatives to the mean and median for measuring location. These alternatives were developed to address non-normal data since the mean is an optimal estimator if in fact your data are normal.\n",
        "Tukey and Mosteller defined two types of robustness where robustness is a lack of susceptibility to the effects of nonnormality."
      ],
      "metadata": {
        "id": "gRZpqKNk9Wzt"
      }
    },
    {
      "cell_type": "markdown",
      "source": [
        "### 1. **Robustness of validity** \n",
        "\n",
        "means that the confidence intervals for the population location have a 95% chance of covering the population location regardless of what the underlying distribution is."
      ],
      "metadata": {
        "id": "HTUYf3yx9gRN"
      }
    },
    {
      "cell_type": "markdown",
      "source": [
        "### 2. **Robustness of efficiency** \n",
        "\n",
        "refers to high effectiveness in the face of non-normal tails. That is, confidence intervals for the population location tend to be almost as narrow as the best that could be done if we knew the true shape of the distributuion."
      ],
      "metadata": {
        "id": "V2ZTK2oB9kmR"
      }
    },
    {
      "cell_type": "markdown",
      "source": [
        "# **2.4.Alternative Measures of Location**\n",
        "\n",
        "A few of the more common alternative location measures are:"
      ],
      "metadata": {
        "id": "DxtFf6jn9rmM"
      }
    },
    {
      "cell_type": "markdown",
      "source": [
        "### 1. **Mid-Mean** \n",
        "\n",
        "computes a mean using the data between the 25th and 75th percentiles."
      ],
      "metadata": {
        "id": "YPQrbKKe9se-"
      }
    },
    {
      "cell_type": "markdown",
      "source": [
        "### 2. **Trimmed Mean** \n",
        "\n",
        "similar to the mid-mean except different percentile values are used. A common choice is to trim 5% of the points in both the lower and upper tails, i.e., calculate the mean for data between the 5th and 95th percentiles."
      ],
      "metadata": {
        "id": "IBArR37D9w3q"
      }
    },
    {
      "cell_type": "markdown",
      "source": [
        "### 3. **Winsorized Mean** \n",
        "\n",
        "similar to the trimmed mean. However, instead of trimming the points, they are set to the lowest (or highest) value. For example, all data below the 5th percentile are set equal to the value of the 5th percentile and all data greater than the 95th percentile are set equal to the 95th percentile."
      ],
      "metadata": {
        "id": "bnc-9s6I9z7R"
      }
    },
    {
      "cell_type": "markdown",
      "source": [
        "# EXCERCISE\n",
        "Given Iris Dataset includes three iris species with 50 samples each as well as some properties about each flower.The columns in this dataset are:\n",
        "Id,SepalLengthCm,SepalWidthCm,PetalLengthCm,PetalWidthCm,Species .\n"
      ],
      "metadata": {
        "id": "f1RzMUDk9z_r"
      }
    },
    {
      "cell_type": "markdown",
      "source": [
        "### 1) Find mean of each class Sepal Width"
      ],
      "metadata": {
        "id": "KmaXZvC7-EpT"
      }
    },
    {
      "cell_type": "markdown",
      "source": [
        "### 2) Find median of each class Petal Length"
      ],
      "metadata": {
        "id": "vafmhb-D-GtG"
      }
    },
    {
      "cell_type": "markdown",
      "source": [
        "### 3) Find mode of Petal Width of each class"
      ],
      "metadata": {
        "id": "oIIHrxM6-Iiy"
      }
    },
    {
      "cell_type": "code",
      "source": [
        "#Loading Libraries\n",
        "import numpy as np\n",
        "import pandas as pd\n",
        "import seaborn as sns\n",
        "import matplotlib.pyplot as plt"
      ],
      "metadata": {
        "id": "6do5nqQ2-Vco"
      },
      "execution_count": null,
      "outputs": []
    },
    {
      "cell_type": "code",
      "source": [
        "data=pd.read_csv(\"/content/drive/MyDrive/Stastics-1/Iris.csv\")\n",
        "data.head()"
      ],
      "metadata": {
        "id": "4jfy2PzI-V5N"
      },
      "execution_count": null,
      "outputs": []
    },
    {
      "cell_type": "code",
      "source": [
        "data.rename(columns={'SepalLengthCm':'SL','SepalWidthCm':'SW','PetalLengthCm':'PL','PetalWidthCm':'PW'},inplace=True)\n",
        "iris_setosa=data[data['Species']=='Iris-setosa']\n",
        "iris_versicolor=data[data['Species']=='Iris-versicolor']\n",
        "iris_virginica=data[data['Species']=='Iris-virginica']"
      ],
      "metadata": {
        "id": "Y_yESFn5-XJs"
      },
      "execution_count": null,
      "outputs": []
    },
    {
      "cell_type": "markdown",
      "source": [
        "## Ques-2\n",
        "If the average man is 175 cm tall with a standard deviation of 6 cm, what is the\n",
        "probability that a man selected at random will be 183 cm tall?\n"
      ],
      "metadata": {
        "id": "6dOojRjN-vk_"
      }
    },
    {
      "cell_type": "markdown",
      "source": [
        "## QUES-3\n",
        "\n",
        "If cans are assumed to have a standard deviation of 4 g, what does the average\n",
        "weight need to be in order to ensure that 99 % of all cans have a weight of at least\n",
        "250 g?"
      ],
      "metadata": {
        "id": "otx_ErtJ-z4y"
      }
    },
    {
      "cell_type": "markdown",
      "source": [
        "## QUES-4\n",
        "If the average man is 175 cm tall with a standard deviation of 6 cm, and the\n",
        "average woman is 168 cm tall with a standard deviation of 3 cm, what is the\n",
        "probability that a randomly selected man will be shorter than a randomly selected\n",
        "woman?\n"
      ],
      "metadata": {
        "id": "NGH943Qg-_-m"
      }
    },
    {
      "cell_type": "markdown",
      "source": [
        "## QUES-5\n",
        "Generate and plot the Probability Density Function (PDF) of a normal distribution, with a mean of 5 and a standard deviation of 3."
      ],
      "metadata": {
        "id": "m-hNnUZU_G9M"
      }
    },
    {
      "cell_type": "markdown",
      "source": [
        "## QUES-6\n",
        "\n",
        "Generate 1000 random data from this distribution."
      ],
      "metadata": {
        "id": "lZfMW4Im_SFO"
      }
    },
    {
      "cell_type": "markdown",
      "source": [
        "###  1) Calculate the standard error of the mean of these data. \n",
        "(Correct answer: ca.0.096.)"
      ],
      "metadata": {
        "id": "39mLENR9_Z_9"
      }
    },
    {
      "cell_type": "markdown",
      "source": [
        "### 2)Plot the histogram of these data."
      ],
      "metadata": {
        "id": "kYZuCXtk_hF3"
      }
    },
    {
      "cell_type": "markdown",
      "source": [
        "### 3)From the PDF, calculate the interval containing 95 % of these data. \n",
        "(Correct answer: [ 0.88, 10.88].)"
      ],
      "metadata": {
        "id": "9LqRPreP_mv1"
      }
    }
  ]
}