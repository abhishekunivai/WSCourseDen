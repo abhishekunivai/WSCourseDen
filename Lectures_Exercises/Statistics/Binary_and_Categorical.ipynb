{
  "nbformat": 4,
  "nbformat_minor": 0,
  "metadata": {
    "colab": {
      "name": "stats1_binaryandcategorical.ipynb",
      "provenance": [],
      "toc_visible": true
    },
    "kernelspec": {
      "name": "python3",
      "display_name": "Python 3"
    },
    "language_info": {
      "name": "python"
    }
  },
  "cells": [
    {
      "cell_type": "markdown",
      "source": [
        "# **5.Exploring Binary and Categorical Data**"
      ],
      "metadata": {
        "id": "5sg2uHKxLKrB"
      }
    },
    {
      "cell_type": "markdown",
      "source": [
        "# 5.1 Exploring Categorical Data\n",
        "\n",
        "Such variables take on a fixed and limited number of possible values. For example – grades, gender, blood group type, etc. Also, in the case of categorical variables, the logical order is not the same as categorical data e.g. “one”, “two”, “three”. But the sorting of these variables uses logical order"
      ],
      "metadata": {
        "id": "8unb8QN_LN5Q"
      }
    },
    {
      "cell_type": "markdown",
      "source": [
        "## Types of Categorical Data "
      ],
      "metadata": {
        "id": "v6zo_ebcX1WG"
      }
    },
    {
      "cell_type": "markdown",
      "source": [
        "### 1.Nominal data \n",
        "\n",
        "Nominal data is sometimes called “labelled” or “named” data. Examples of nominal data include name, hair colour, sex etc. "
      ],
      "metadata": {
        "id": "nwRIwdn7XrE2"
      }
    },
    {
      "cell_type": "markdown",
      "source": [
        "### 2.Ordinal Data\n",
        "This is a data type with a set order or scale to it. However, this order does not have a standard scale on which the difference in variables in each scale is measured. "
      ],
      "metadata": {
        "id": "V2VeviwFX30b"
      }
    },
    {
      "cell_type": "markdown",
      "source": [
        "# 5.2.Why do we need encoding?\n",
        "\n",
        "Most machine learning algorithms cannot handle categorical variables unless we convert them to numerical values\n",
        "Many algorithm’s performances even vary based upon how the categorical variables are encoded\n",
        "In this blog we will explore and implement:\n",
        " \n",
        "1. One-hot Encoding using:\n",
        "\n",
        " * Python’s category_encoding library\n",
        " * Scikit-learn preprocessing\n",
        " * Pandas' get_dummies\n",
        "\n",
        "2. Binary Encoding\n",
        "\n",
        "3. Frequency Encoding\n",
        "4. Label Encoding\n",
        "5. Ordinal Encoding"
      ],
      "metadata": {
        "id": "PxSEb310eruj"
      }
    },
    {
      "cell_type": "code",
      "source": [
        "import pandas as pd\n",
        "import sklearn\n",
        "\n",
        "pip install category_encoders\n",
        "\n",
        "import category_encoders as ce"
      ],
      "metadata": {
        "id": "8jYAPCv0fgXK"
      },
      "execution_count": null,
      "outputs": []
    },
    {
      "cell_type": "code",
      "source": [
        "data = pd.DataFrame({ 'gender' : ['Male', 'Female', 'Male', 'Female', 'Female'],\n",
        "                       'class' : ['A','B','C','D','A'],\n",
        "                        'city' : ['Delhi','Gurugram','Delhi','Delhi','Gurugram'] })\n",
        "data.head()"
      ],
      "metadata": {
        "id": "W6y_YXMpfg7T"
      },
      "execution_count": null,
      "outputs": []
    },
    {
      "cell_type": "markdown",
      "source": [
        "## Method1:category_encoder"
      ],
      "metadata": {
        "id": "cyz4IBeyggs4"
      }
    },
    {
      "cell_type": "markdown",
      "source": [
        "### One-Hot Encoding \n",
        "\n",
        "\n",
        "In this method, each category is mapped to a vector that contains 1 and 0 denoting the presence or absence of the feature. The number of vectors depends on the number of categories for features.\n",
        "\n"
      ],
      "metadata": {
        "id": "2u4GigPVfnfY"
      }
    },
    {
      "cell_type": "code",
      "source": [
        "ce_OHE = ce.OneHotEncoder(cols=['gender','city'])\n",
        "\n",
        "data1 = ce_OHE.fit_transform(data)\n",
        "data1.head()"
      ],
      "metadata": {
        "id": "TsKVjASgfxd7"
      },
      "execution_count": null,
      "outputs": []
    },
    {
      "cell_type": "markdown",
      "source": [
        "### Binary Encoding\n",
        "Binary encoding converts a category into binary digits. Each binary digit creates one feature column."
      ],
      "metadata": {
        "id": "bkK8_2-jf2l0"
      }
    },
    {
      "cell_type": "code",
      "source": [
        "ce_be = ce.BinaryEncoder(cols=['class']);\n",
        "\n",
        "# transform the data\n",
        "data_binary = ce_be.fit_transform(data[\"class\"]);\n",
        "data_binary"
      ],
      "metadata": {
        "id": "IoBkT_kNfja9"
      },
      "execution_count": null,
      "outputs": []
    },
    {
      "cell_type": "markdown",
      "source": [
        "## Method 2: Using Pandas' get dummies"
      ],
      "metadata": {
        "id": "drSnMsfOgHdO"
      }
    },
    {
      "cell_type": "code",
      "source": [
        "pd.get_dummies(data,columns=[\"gender\",\"city\"])"
      ],
      "metadata": {
        "id": "e6D0DBiBgAfo"
      },
      "execution_count": null,
      "outputs": []
    },
    {
      "cell_type": "code",
      "source": [
        "#We can assign a prefix if we want to, if we do not want the encoding to use the default.\n",
        "pd.get_dummies(data,prefix=[\"gen\",\"city\"],columns=[\"gender\",\"city\"])"
      ],
      "metadata": {
        "id": "z7d7I7VSgwuH"
      },
      "execution_count": null,
      "outputs": []
    },
    {
      "cell_type": "markdown",
      "source": [
        "## Method 3: Using Scikit-learn\n",
        " \n",
        "Scikit-learn also has 15 different types of built-in encoders, which can be accessed from sklearn.preprocessing."
      ],
      "metadata": {
        "id": "1c6h4bCfg7cB"
      }
    },
    {
      "cell_type": "markdown",
      "source": [
        "### Scikit-learn One-hot Encoding\n",
        " \n",
        "Let's first get the list of categorical variables from our data:"
      ],
      "metadata": {
        "id": "-0lw03RYg7Vx"
      }
    },
    {
      "cell_type": "code",
      "source": [
        "s = (data.dtypes == 'object')\n",
        "cols = list(s[s].index)\n",
        "\n",
        "from sklearn.preprocessing import OneHotEncoder\n",
        "\n",
        "ohe = OneHotEncoder(handle_unknown='ignore',sparse=False)"
      ],
      "metadata": {
        "id": "MFe5u6SRluU3"
      },
      "execution_count": null,
      "outputs": []
    },
    {
      "cell_type": "code",
      "source": [
        "#gender column:\n",
        "data_gender = pd.DataFrame(ohe.fit_transform(data[[\"gender\"]]))\n",
        "\n",
        "data_gender"
      ],
      "metadata": {
        "id": "1vW43MRjl2xP"
      },
      "execution_count": null,
      "outputs": []
    },
    {
      "cell_type": "code",
      "source": [
        "#city column:\n",
        "data_city = pd.DataFrame(ohe.fit_transform(data[[\"city\"]]))\n",
        "\n",
        "data_city"
      ],
      "metadata": {
        "id": "e70GxuFcl64g"
      },
      "execution_count": null,
      "outputs": []
    },
    {
      "cell_type": "code",
      "source": [
        "#class column:\n",
        "data_class = pd.DataFrame(ohe.fit_transform(data[[\"class\"]]))\n",
        "\n",
        "data_class"
      ],
      "metadata": {
        "id": "f4dgyJoAmBxZ"
      },
      "execution_count": null,
      "outputs": []
    },
    {
      "cell_type": "code",
      "source": [
        "#applying to the list of categorical variables:\n",
        "data_cols = pd.DataFrame(ohe.fit_transform(data[cols]))\n",
        "\n",
        "data_cols"
      ],
      "metadata": {
        "id": "X5oQJp36mWfr"
      },
      "execution_count": null,
      "outputs": []
    },
    {
      "cell_type": "markdown",
      "source": [
        "### Scikit-learn Label Encoding"
      ],
      "metadata": {
        "id": "-jBIUq2empb7"
      }
    },
    {
      "cell_type": "code",
      "source": [
        "from sklearn.preprocessing import LabelEncoder\n",
        "\n",
        "le = LabelEncoder()\n",
        "Label encoder takes no arguments\n",
        "le_class = le.fit_transform(data[[\"class\"]])"
      ],
      "metadata": {
        "id": "QdWiX1dpmo87"
      },
      "execution_count": null,
      "outputs": []
    },
    {
      "cell_type": "markdown",
      "source": [
        "## Ordinal Encoding\n",
        " \n",
        "Ordinal encoding’s encoded variables retain the ordinal (ordered) nature of the variable. It looks similar to label encoding, the only difference being that label coding doesn't consider whether a variable is ordinal or not; it will then assign a sequence of integers."
      ],
      "metadata": {
        "id": "u1Qabe2Am-os"
      }
    },
    {
      "cell_type": "markdown",
      "source": [
        "**Example: **\n",
        "Ordinal encoding will assign values as Very Good(1) < Good(2) < Bad(3) < Worse(4)\n",
        "\n",
        "First, we need to assign the original order of the variable through a dictionary."
      ],
      "metadata": {
        "id": "mLg4jY_inCO2"
      }
    },
    {
      "cell_type": "code",
      "source": [
        "temp = {'temperature' :['very cold', 'cold', 'warm', 'hot', 'very hot']}\n",
        "df=pd.DataFrame(temp,columns=[\"temperature\"])\n",
        "temp_dict = {'very cold': 1,'cold': 2,'warm': 3,'hot': 4,\"very hot\":5}\n",
        "df"
      ],
      "metadata": {
        "id": "LQuLIdKfnITc"
      },
      "execution_count": null,
      "outputs": []
    },
    {
      "cell_type": "code",
      "source": [
        "#Then we can map each row for the variable as per the dictionary.\n",
        "df[\"temp_ordinal\"] = df.temperature.map(temp_dict)\n",
        "df"
      ],
      "metadata": {
        "id": "kxhVIrPanKef"
      },
      "execution_count": null,
      "outputs": []
    },
    {
      "cell_type": "markdown",
      "source": [
        "## Frequency Encoding\n",
        " \n",
        "The category is assigned as per the frequency of values in its total lot."
      ],
      "metadata": {
        "id": "eAG6KaFMnPkS"
      }
    },
    {
      "cell_type": "code",
      "source": [
        "ata_freq = pd.DataFrame({'class' : ['A','B','C','D','A',\"B\",\"E\",\"E\",\"D\",\"C\",\"C\",\"C\",\"E\",\"A\",\"A\"]})"
      ],
      "metadata": {
        "id": "Erhq9ApTnmah"
      },
      "execution_count": null,
      "outputs": []
    },
    {
      "cell_type": "code",
      "source": [
        "#Grouping by class column:\n",
        "fe = data_freq.groupby(\"class\").size()"
      ],
      "metadata": {
        "id": "6btqPYysnpEg"
      },
      "execution_count": null,
      "outputs": []
    },
    {
      "cell_type": "code",
      "source": [
        "#Dividing by length:\n",
        "fe_ = fe/len(data_freq)"
      ],
      "metadata": {
        "id": "7qV4ucZNnsMi"
      },
      "execution_count": null,
      "outputs": []
    },
    {
      "cell_type": "code",
      "source": [
        "#Mapping and rounding off:\n",
        "\n",
        "data_freq[\"data_fe\"] = data_freq[\"class\"].map(fe_).round(2)\n",
        "data_freq"
      ],
      "metadata": {
        "id": "yEljoF7knt4n"
      },
      "execution_count": null,
      "outputs": []
    },
    {
      "cell_type": "markdown",
      "source": [
        "# EXCERCISE-1:\n",
        "Given the dataset for titanic."
      ],
      "metadata": {
        "id": "cQzcwpPAYnQo"
      }
    },
    {
      "cell_type": "code",
      "source": [
        "import pandas as pd\n",
        "import numpy as np\n",
        "Data = pd.read_csv(\"train.csv\")\n",
        "Data.isnull().sum()"
      ],
      "metadata": {
        "id": "poMrs2Qfm4su"
      },
      "execution_count": null,
      "outputs": []
    },
    {
      "cell_type": "markdown",
      "source": [
        "## QUES1:\n",
        "Create dummies or binary type columns for each category in the object/ category type feature."
      ],
      "metadata": {
        "id": "Sxvven0PpPRr"
      }
    },
    {
      "cell_type": "code",
      "source": [
        "DataDummies = pd.get_dummies(Data)\n",
        "DataDummies"
      ],
      "metadata": {
        "id": "ajsZENvLpV2k"
      },
      "execution_count": null,
      "outputs": []
    },
    {
      "cell_type": "markdown",
      "source": [
        "## QUES2:\n",
        "Implement Ordinal Number Encoding\n",
        "\n",
        "\n",
        "SOLN:Implementation:\n",
        "\n",
        "Step 1: Create a dictionary with key as category and values with its rank.\n",
        "\n",
        "Step 2: Create a new column and map the ordinal column with the created dictionary.\n",
        "\n",
        "Step 3: Drop the original column."
      ],
      "metadata": {
        "id": "YTU7pf0QpWvn"
      }
    },
    {
      "cell_type": "code",
      "source": [
        "# 1. \n",
        "PClassDict =   {   'First':1,\n",
        "                    'Second':2,\n",
        "                     'Third':3,              \n",
        "                }\n",
        "# 2. \n",
        "Data['Ordinal_Pclass'] = Data.Pclass.map(PClassDict)\n",
        "# Display result\n",
        "      \n",
        "      Data[['PassengerId', 'Pclass', 'Ordinal_Pclass']].head(10)\n",
        "# 3.\n",
        "Data = Data.drop('Pclass', axis = 1)"
      ],
      "metadata": {
        "id": "YC-J2zvwpxQ_"
      },
      "execution_count": null,
      "outputs": []
    },
    {
      "cell_type": "markdown",
      "source": [
        "## QUES3:\n",
        "\n",
        "Replace each category with its frequency/number of time that category occurred in that column.\n",
        "\n",
        "SOLN:Implementation:\n",
        "\n",
        "Step 1. Create Dictionaries with key as category name and value with a count of categories i.e frequency of that category in each categorical column.\n",
        "\n",
        "Step 2. Create a new column which acts as a weight for that category and map with its respective dictionary.\n",
        "\n",
        "Step 3. Drop Orginal Columns."
      ],
      "metadata": {
        "id": "-BVfGXUmp1eC"
      }
    },
    {
      "cell_type": "code",
      "source": [
        "# 1.\n",
        "Pclass_Dict = Data['Pclass'].value_counts()\n",
        "Salutation_Dict = Data['Salutation'].value_counts()\n",
        "Sex_Dict = Data['Sex'].value_counts()\n",
        "Embarked_Dict = Data['Embarked'].value_counts()\n",
        "Cabin_Serial_Dict = Data['Cabin_Serial'].value_counts()\n",
        "Cabin_Dict = Data['Cabin'].value_counts()\n",
        "# 2.\n",
        "Data['Encoded_Pclass'] = Data['Pclass'].map(Pclass_Dict)\n",
        "Data['Salutation_Dict'] = Data['Salutation'].map(Salutation_Dict)\n",
        "Data['Sex_Dict'] = Data['Sex'].map(Sex_Dict)\n",
        "Data['Embarked_Dict'] = Data['Embarked'].map(Embarked_Dict)\n",
        "Data['Cabin_Serial_Dict'] = Data['Cabin_Serial'].map(Cabin_Serial_Dict)\n",
        "Data['Cabin_Dict'] = Data['Cabin'].map(Cabin_Dict)\n",
        "# Display Result\n",
        "Data[['Pclass','Encoded_Pclass','Salutation','Salutation_Dict','Sex'       ,'Sex_Dict','Embarked','Embarked_Dict','Cabin_Serial','Cabin_Serial_Dict','Cabin','Cabin_Dict']].head(10)\n",
        "# 3. \n",
        "Data = Data.drop(['Pclass','Salutation','Sex','Embarked','Cabin_Serial','Cabin'], axis = 1)"
      ],
      "metadata": {
        "id": "RFhVuFI5qT0M"
      },
      "execution_count": null,
      "outputs": []
    },
    {
      "cell_type": "markdown",
      "source": [
        "## QUES4:\n",
        "Replace the category of the column with its depending join probability ranking with respect to Target column.\n",
        "\n",
        "\n",
        "SOLN:\n",
        "Step 1. Replace original cabin value with the first character of the cabin name.\n",
        "\n",
        "Step 2. Calculate the joint probability of each category based on the target column value.\n",
        "\n",
        "Step 3. Create a list with sorted index in ascending order of join probabilities.\n",
        "\n",
        "Step 4. Create a dictionary where key as category name in cabin and values as joint probability ranking.\n",
        "\n",
        "Step 5. Create a new column and map cabin values with dictionary joint probability ranking.\n",
        "\n",
        "Step 6. Delete original cabin column."
      ],
      "metadata": {
        "id": "3GSyLafpqb45"
      }
    },
    {
      "cell_type": "code",
      "source": [
        "# 1.\n",
        "Data['Cabin'] = Data['Cabin'].astype(str).str[0]\n",
        "# 2.\n",
        "Data.groupby(['Cabin'])['Survived'].mean()\n",
        "# 3.\n",
        "Encoded_Lables = Data.groupby(['Cabin'])  ['Survived'].mean().sort_values().index\n",
        "# 4.\n",
        "Encoded_Lables_Ranks = { k:i for i, k in enumerate(Encoded_Lables, 0) }\n",
        "# 5.\n",
        "Data['Cabin_Encoded'] = Data['Cabin'].map(Encoded_Lables_Ranks)\n",
        "# 6.\n",
        "Data = Data.drop('Cabin', axis = 1)"
      ],
      "metadata": {
        "id": "haMY_vWsq2WH"
      },
      "execution_count": null,
      "outputs": []
    },
    {
      "cell_type": "markdown",
      "source": [
        ""
      ],
      "metadata": {
        "id": "BUeYtP85rJu9"
      }
    },
    {
      "cell_type": "markdown",
      "source": [
        ""
      ],
      "metadata": {
        "id": "seuVQPRdu5Dd"
      }
    },
    {
      "cell_type": "markdown",
      "source": [
        "# **Mode**\n",
        "\n",
        "Most frequently occurring value in the given data"
      ],
      "metadata": {
        "id": "xS28IDn-LWk_"
      }
    },
    {
      "cell_type": "markdown",
      "source": [
        "# **Expected Value** \n",
        "\n",
        " When working in machine learning, categories have to be associated with a numeric value, so as to give understanding to the machine. This gives an average value based on a category’s probability of occurrence i.e. Expected Value.\n",
        "It is calculated by –"
      ],
      "metadata": {
        "id": "tGEPro9ILYvx"
      }
    },
    {
      "cell_type": "markdown",
      "source": [
        "![image.png](data:image/png;base64,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)"
      ],
      "metadata": {
        "id": "9AnmjxtXLcmI"
      }
    },
    {
      "cell_type": "markdown",
      "source": [
        "# BAR CHART"
      ],
      "metadata": {
        "id": "VY3oBLGdLg7u"
      }
    },
    {
      "cell_type": "code",
      "source": [
        "import matplotlib.pyplot as plt\n",
        "import numpy as np\n",
        "\n",
        "label = ['Car', 'Bike', 'Truck', 'Cycle', 'Jeeps', 'Amulance']\n",
        "no_vehicle = [941, 854, 4595, 2125, 942, 509]\n",
        "\n",
        "index = np.arange(len(label))\n",
        "  \n",
        "print (\"Total Labels : \", len(label))\n",
        "print (\"Indexing : \", index)\n",
        "\n",
        "plt.bar(index, no_vehicle)\n",
        "plt.xlabel('Type', fontsize = 15)\n",
        "plt.ylabel('No of Vehicles', fontsize = 15)\n",
        "plt.xticks(index, label, fontsize = 10, rotation = 30)\n",
        "plt.title('Market Share for Each Genre 1995-2017')"
      ],
      "metadata": {
        "id": "Wu1PRCb-MPcP"
      },
      "execution_count": null,
      "outputs": []
    },
    {
      "cell_type": "markdown",
      "source": [
        "# PIE CHART"
      ],
      "metadata": {
        "id": "uyk7AXBfMURW"
      }
    },
    {
      "cell_type": "code",
      "source": [
        "plt.figure(figsize =(8, 8))\n",
        "plt.pie(no_vehicle, labels = label, \n",
        "        startangle = 90, autopct ='%.1f %%')\n",
        "plt.show()"
      ],
      "metadata": {
        "id": "mkkozDcrMQAM"
      },
      "execution_count": null,
      "outputs": []
    }
  ]
}